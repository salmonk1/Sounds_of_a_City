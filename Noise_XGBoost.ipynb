{
 "cells": [
  {
   "attachments": {},
   "cell_type": "markdown",
   "id": "42ca7cef",
   "metadata": {},
   "source": [
    "Install libraries, normalise the target with box-cox transform, and prepare data for modeling.\n",
    "Start with a binarty target split on the median."
   ]
  },
  {
   "cell_type": "code",
   "execution_count": 3,
   "id": "0858ea3f",
   "metadata": {},
   "outputs": [],
   "source": [
    "import os\n",
    "import numpy as np\n",
    "import pandas as pd \n",
    "import tensorflow as tf\n",
    "from tensorflow.keras.preprocessing.image import ImageDataGenerator, load_img\n",
    "from tensorflow.keras.utils import plot_model\n",
    "from tensorflow.keras.utils import to_categorical\n",
    "from sklearn.model_selection import train_test_split\n",
    "import matplotlib.pyplot as plt\n",
    "import seaborn as sns\n",
    "import random\n",
    "\n",
    "from scipy.stats import stats\n",
    "\n",
    "#from scipy.special import inv_boxcox\n",
    "\n",
    "\n",
    "from sklearn.preprocessing import StandardScaler, MinMaxScaler, LabelEncoder\n",
    "\n",
    "from sklearn.model_selection import train_test_split, cross_val_score, KFold\n",
    "\n",
    "from sklearn.linear_model import LogisticRegression, LogisticRegressionCV, LinearRegression, RidgeCV, ElasticNetCV, LassoCV\n",
    "from sklearn.neighbors import KNeighborsClassifier\n",
    "from sklearn.model_selection import cross_val_score, GridSearchCV, train_test_split, RandomizedSearchCV\n",
    "from sklearn.metrics import mean_absolute_error, classification_report, confusion_matrix, \n",
    "#accuracy_score, roc_curve, roc_auc_score, plot_confusion_matrix, plot_roc_curve,\n",
    "\n",
    "from sklearn.tree import DecisionTreeClassifier\n",
    "from sklearn.metrics import mean_absolute_error, classification_report\n",
    "\n",
    "from sklearn.decomposition import PCA\n",
    "\n",
    "from sklearn.pipeline import Pipeline"
   ]
  },
  {
   "cell_type": "code",
   "execution_count": 106,
   "id": "4740c802",
   "metadata": {},
   "outputs": [],
   "source": [
    "from hyperopt import STATUS_OK, Trials, fmin, hp, tpe"
   ]
  },
  {
   "cell_type": "code",
   "execution_count": 46,
   "id": "42745ad1",
   "metadata": {},
   "outputs": [],
   "source": [
    "df = pd.read_csv('/Users/ksalmon/Desktop/GA/DSI20-lessons/projects/project-capstone/all_merged.csv')"
   ]
  },
  {
   "cell_type": "code",
   "execution_count": 47,
   "id": "1e5bd7d2",
   "metadata": {},
   "outputs": [
    {
     "data": {
      "text/html": [
       "<div>\n",
       "<style scoped>\n",
       "    .dataframe tbody tr th:only-of-type {\n",
       "        vertical-align: middle;\n",
       "    }\n",
       "\n",
       "    .dataframe tbody tr th {\n",
       "        vertical-align: top;\n",
       "    }\n",
       "\n",
       "    .dataframe thead th {\n",
       "        text-align: right;\n",
       "    }\n",
       "</style>\n",
       "<table border=\"1\" class=\"dataframe\">\n",
       "  <thead>\n",
       "    <tr style=\"text-align: right;\">\n",
       "      <th></th>\n",
       "      <th>Unnamed: 0</th>\n",
       "      <th>descriptor</th>\n",
       "      <th>complaint_type</th>\n",
       "      <th>zipyear</th>\n",
       "      <th>ppu</th>\n",
       "    </tr>\n",
       "  </thead>\n",
       "  <tbody>\n",
       "    <tr>\n",
       "      <th>0</th>\n",
       "      <td>0</td>\n",
       "      <td>Loud Music/Party</td>\n",
       "      <td>Noise - Residential</td>\n",
       "      <td>104632016</td>\n",
       "      <td>3.407297e+05</td>\n",
       "    </tr>\n",
       "    <tr>\n",
       "      <th>1</th>\n",
       "      <td>1</td>\n",
       "      <td>Loud Music/Party</td>\n",
       "      <td>Noise - Residential</td>\n",
       "      <td>100402016</td>\n",
       "      <td>5.457485e+05</td>\n",
       "    </tr>\n",
       "    <tr>\n",
       "      <th>2</th>\n",
       "      <td>2</td>\n",
       "      <td>Loud Talking</td>\n",
       "      <td>Noise - Residential</td>\n",
       "      <td>100122016</td>\n",
       "      <td>3.715735e+06</td>\n",
       "    </tr>\n",
       "    <tr>\n",
       "      <th>3</th>\n",
       "      <td>3</td>\n",
       "      <td>Loud Music/Party</td>\n",
       "      <td>Noise - Residential</td>\n",
       "      <td>111042016</td>\n",
       "      <td>3.813583e+05</td>\n",
       "    </tr>\n",
       "    <tr>\n",
       "      <th>4</th>\n",
       "      <td>4</td>\n",
       "      <td>Loud Music/Party</td>\n",
       "      <td>Noise - Residential</td>\n",
       "      <td>100322016</td>\n",
       "      <td>5.006615e+05</td>\n",
       "    </tr>\n",
       "    <tr>\n",
       "      <th>...</th>\n",
       "      <td>...</td>\n",
       "      <td>...</td>\n",
       "      <td>...</td>\n",
       "      <td>...</td>\n",
       "      <td>...</td>\n",
       "    </tr>\n",
       "    <tr>\n",
       "      <th>2199944</th>\n",
       "      <td>445752</td>\n",
       "      <td>Loud Music/Party</td>\n",
       "      <td>Noise - Residential</td>\n",
       "      <td>104582017</td>\n",
       "      <td>2.442623e+05</td>\n",
       "    </tr>\n",
       "    <tr>\n",
       "      <th>2199945</th>\n",
       "      <td>445753</td>\n",
       "      <td>Loud Music/Party</td>\n",
       "      <td>Noise - Residential</td>\n",
       "      <td>116912017</td>\n",
       "      <td>3.044278e+05</td>\n",
       "    </tr>\n",
       "    <tr>\n",
       "      <th>2199946</th>\n",
       "      <td>445754</td>\n",
       "      <td>Banging/Pounding</td>\n",
       "      <td>Noise - Residential</td>\n",
       "      <td>112142017</td>\n",
       "      <td>4.793599e+05</td>\n",
       "    </tr>\n",
       "    <tr>\n",
       "      <th>2199947</th>\n",
       "      <td>445755</td>\n",
       "      <td>Loud Music/Party</td>\n",
       "      <td>Noise - Residential</td>\n",
       "      <td>100402017</td>\n",
       "      <td>5.692389e+05</td>\n",
       "    </tr>\n",
       "    <tr>\n",
       "      <th>2199948</th>\n",
       "      <td>445756</td>\n",
       "      <td>Loud Music/Party</td>\n",
       "      <td>Noise - Residential</td>\n",
       "      <td>112092017</td>\n",
       "      <td>5.956917e+05</td>\n",
       "    </tr>\n",
       "  </tbody>\n",
       "</table>\n",
       "<p>2199949 rows × 5 columns</p>\n",
       "</div>"
      ],
      "text/plain": [
       "         Unnamed: 0        descriptor       complaint_type    zipyear  \\\n",
       "0                 0  Loud Music/Party  Noise - Residential  104632016   \n",
       "1                 1  Loud Music/Party  Noise - Residential  100402016   \n",
       "2                 2      Loud Talking  Noise - Residential  100122016   \n",
       "3                 3  Loud Music/Party  Noise - Residential  111042016   \n",
       "4                 4  Loud Music/Party  Noise - Residential  100322016   \n",
       "...             ...               ...                  ...        ...   \n",
       "2199944      445752  Loud Music/Party  Noise - Residential  104582017   \n",
       "2199945      445753  Loud Music/Party  Noise - Residential  116912017   \n",
       "2199946      445754  Banging/Pounding  Noise - Residential  112142017   \n",
       "2199947      445755  Loud Music/Party  Noise - Residential  100402017   \n",
       "2199948      445756  Loud Music/Party  Noise - Residential  112092017   \n",
       "\n",
       "                  ppu  \n",
       "0        3.407297e+05  \n",
       "1        5.457485e+05  \n",
       "2        3.715735e+06  \n",
       "3        3.813583e+05  \n",
       "4        5.006615e+05  \n",
       "...               ...  \n",
       "2199944  2.442623e+05  \n",
       "2199945  3.044278e+05  \n",
       "2199946  4.793599e+05  \n",
       "2199947  5.692389e+05  \n",
       "2199948  5.956917e+05  \n",
       "\n",
       "[2199949 rows x 5 columns]"
      ]
     },
     "execution_count": 47,
     "metadata": {},
     "output_type": "execute_result"
    }
   ],
   "source": [
    "df"
   ]
  },
  {
   "cell_type": "code",
   "execution_count": 48,
   "id": "5777e742",
   "metadata": {},
   "outputs": [],
   "source": [
    "import scipy.stats as scs"
   ]
  },
  {
   "cell_type": "code",
   "execution_count": 49,
   "id": "92f6acb0",
   "metadata": {},
   "outputs": [],
   "source": [
    "# Transformation Box-Cox\n",
    "price_boxcox, lam = scs.boxcox(df['ppu'])\n"
   ]
  },
  {
   "cell_type": "code",
   "execution_count": 50,
   "id": "420565d5",
   "metadata": {},
   "outputs": [
    {
     "data": {
      "text/plain": [
       "-0.3063029811540361"
      ]
     },
     "execution_count": 50,
     "metadata": {},
     "output_type": "execute_result"
    }
   ],
   "source": [
    "lam"
   ]
  },
  {
   "cell_type": "code",
   "execution_count": 51,
   "id": "733092c3",
   "metadata": {},
   "outputs": [
    {
     "data": {
      "text/plain": [
       "0.046371716391781954"
      ]
     },
     "execution_count": 51,
     "metadata": {},
     "output_type": "execute_result"
    }
   ],
   "source": [
    "pd.Series(price_boxcox).skew()"
   ]
  },
  {
   "cell_type": "code",
   "execution_count": 52,
   "id": "91fe4b5b",
   "metadata": {},
   "outputs": [],
   "source": [
    "df['price_transformed'] = price_boxcox"
   ]
  },
  {
   "cell_type": "code",
   "execution_count": 53,
   "id": "bf66fe02",
   "metadata": {},
   "outputs": [],
   "source": [
    "#Get median from transformed prices and create binary labels\n",
    "median = df['price_transformed'].median()"
   ]
  },
  {
   "cell_type": "code",
   "execution_count": 54,
   "id": "4aaf42ad",
   "metadata": {},
   "outputs": [],
   "source": [
    "df['median_transformed'] = [1 if x >= median else 0 for x in price_boxcox]"
   ]
  },
  {
   "cell_type": "code",
   "execution_count": 55,
   "id": "5fa9ef9e",
   "metadata": {},
   "outputs": [
    {
     "data": {
      "text/html": [
       "<div>\n",
       "<style scoped>\n",
       "    .dataframe tbody tr th:only-of-type {\n",
       "        vertical-align: middle;\n",
       "    }\n",
       "\n",
       "    .dataframe tbody tr th {\n",
       "        vertical-align: top;\n",
       "    }\n",
       "\n",
       "    .dataframe thead th {\n",
       "        text-align: right;\n",
       "    }\n",
       "</style>\n",
       "<table border=\"1\" class=\"dataframe\">\n",
       "  <thead>\n",
       "    <tr style=\"text-align: right;\">\n",
       "      <th></th>\n",
       "      <th>Unnamed: 0</th>\n",
       "      <th>descriptor</th>\n",
       "      <th>complaint_type</th>\n",
       "      <th>zipyear</th>\n",
       "      <th>ppu</th>\n",
       "      <th>price_transformed</th>\n",
       "      <th>median_transformed</th>\n",
       "    </tr>\n",
       "  </thead>\n",
       "  <tbody>\n",
       "    <tr>\n",
       "      <th>0</th>\n",
       "      <td>0</td>\n",
       "      <td>Loud Music/Party</td>\n",
       "      <td>Noise - Residential</td>\n",
       "      <td>104632016</td>\n",
       "      <td>3.407297e+05</td>\n",
       "      <td>3.198785</td>\n",
       "      <td>0</td>\n",
       "    </tr>\n",
       "    <tr>\n",
       "      <th>1</th>\n",
       "      <td>1</td>\n",
       "      <td>Loud Music/Party</td>\n",
       "      <td>Noise - Residential</td>\n",
       "      <td>100402016</td>\n",
       "      <td>5.457485e+05</td>\n",
       "      <td>3.207647</td>\n",
       "      <td>1</td>\n",
       "    </tr>\n",
       "    <tr>\n",
       "      <th>2</th>\n",
       "      <td>2</td>\n",
       "      <td>Loud Talking</td>\n",
       "      <td>Noise - Residential</td>\n",
       "      <td>100122016</td>\n",
       "      <td>3.715735e+06</td>\n",
       "      <td>3.233015</td>\n",
       "      <td>1</td>\n",
       "    </tr>\n",
       "    <tr>\n",
       "      <th>3</th>\n",
       "      <td>3</td>\n",
       "      <td>Loud Music/Party</td>\n",
       "      <td>Noise - Residential</td>\n",
       "      <td>111042016</td>\n",
       "      <td>3.813583e+05</td>\n",
       "      <td>3.201022</td>\n",
       "      <td>0</td>\n",
       "    </tr>\n",
       "    <tr>\n",
       "      <th>4</th>\n",
       "      <td>4</td>\n",
       "      <td>Loud Music/Party</td>\n",
       "      <td>Noise - Residential</td>\n",
       "      <td>100322016</td>\n",
       "      <td>5.006615e+05</td>\n",
       "      <td>3.206119</td>\n",
       "      <td>0</td>\n",
       "    </tr>\n",
       "    <tr>\n",
       "      <th>...</th>\n",
       "      <td>...</td>\n",
       "      <td>...</td>\n",
       "      <td>...</td>\n",
       "      <td>...</td>\n",
       "      <td>...</td>\n",
       "      <td>...</td>\n",
       "      <td>...</td>\n",
       "    </tr>\n",
       "    <tr>\n",
       "      <th>2199944</th>\n",
       "      <td>445752</td>\n",
       "      <td>Loud Music/Party</td>\n",
       "      <td>Noise - Residential</td>\n",
       "      <td>104582017</td>\n",
       "      <td>2.442623e+05</td>\n",
       "      <td>3.191706</td>\n",
       "      <td>0</td>\n",
       "    </tr>\n",
       "    <tr>\n",
       "      <th>2199945</th>\n",
       "      <td>445753</td>\n",
       "      <td>Loud Music/Party</td>\n",
       "      <td>Noise - Residential</td>\n",
       "      <td>116912017</td>\n",
       "      <td>3.044278e+05</td>\n",
       "      <td>3.196470</td>\n",
       "      <td>0</td>\n",
       "    </tr>\n",
       "    <tr>\n",
       "      <th>2199946</th>\n",
       "      <td>445754</td>\n",
       "      <td>Banging/Pounding</td>\n",
       "      <td>Noise - Residential</td>\n",
       "      <td>112142017</td>\n",
       "      <td>4.793599e+05</td>\n",
       "      <td>3.205333</td>\n",
       "      <td>0</td>\n",
       "    </tr>\n",
       "    <tr>\n",
       "      <th>2199947</th>\n",
       "      <td>445755</td>\n",
       "      <td>Loud Music/Party</td>\n",
       "      <td>Noise - Residential</td>\n",
       "      <td>100402017</td>\n",
       "      <td>5.692389e+05</td>\n",
       "      <td>3.208380</td>\n",
       "      <td>1</td>\n",
       "    </tr>\n",
       "    <tr>\n",
       "      <th>2199948</th>\n",
       "      <td>445756</td>\n",
       "      <td>Loud Music/Party</td>\n",
       "      <td>Noise - Residential</td>\n",
       "      <td>112092017</td>\n",
       "      <td>5.956917e+05</td>\n",
       "      <td>3.209158</td>\n",
       "      <td>1</td>\n",
       "    </tr>\n",
       "  </tbody>\n",
       "</table>\n",
       "<p>2199949 rows × 7 columns</p>\n",
       "</div>"
      ],
      "text/plain": [
       "         Unnamed: 0        descriptor       complaint_type    zipyear  \\\n",
       "0                 0  Loud Music/Party  Noise - Residential  104632016   \n",
       "1                 1  Loud Music/Party  Noise - Residential  100402016   \n",
       "2                 2      Loud Talking  Noise - Residential  100122016   \n",
       "3                 3  Loud Music/Party  Noise - Residential  111042016   \n",
       "4                 4  Loud Music/Party  Noise - Residential  100322016   \n",
       "...             ...               ...                  ...        ...   \n",
       "2199944      445752  Loud Music/Party  Noise - Residential  104582017   \n",
       "2199945      445753  Loud Music/Party  Noise - Residential  116912017   \n",
       "2199946      445754  Banging/Pounding  Noise - Residential  112142017   \n",
       "2199947      445755  Loud Music/Party  Noise - Residential  100402017   \n",
       "2199948      445756  Loud Music/Party  Noise - Residential  112092017   \n",
       "\n",
       "                  ppu  price_transformed  median_transformed  \n",
       "0        3.407297e+05           3.198785                   0  \n",
       "1        5.457485e+05           3.207647                   1  \n",
       "2        3.715735e+06           3.233015                   1  \n",
       "3        3.813583e+05           3.201022                   0  \n",
       "4        5.006615e+05           3.206119                   0  \n",
       "...               ...                ...                 ...  \n",
       "2199944  2.442623e+05           3.191706                   0  \n",
       "2199945  3.044278e+05           3.196470                   0  \n",
       "2199946  4.793599e+05           3.205333                   0  \n",
       "2199947  5.692389e+05           3.208380                   1  \n",
       "2199948  5.956917e+05           3.209158                   1  \n",
       "\n",
       "[2199949 rows x 7 columns]"
      ]
     },
     "execution_count": 55,
     "metadata": {},
     "output_type": "execute_result"
    }
   ],
   "source": [
    "df"
   ]
  },
  {
   "cell_type": "code",
   "execution_count": 452,
   "id": "168aa075",
   "metadata": {},
   "outputs": [],
   "source": [
    "#df['multi'] = pd.qcut(df['ppu'], q=4, labels=[1, 2, 3, 4])\n",
    "#df['multi_transformed'] = pd.qcut(df['price_transformed'], q=4, labels=[1, 2, 3, 4])\n",
    "#df[df['multi']==1].ppu.describe()\n",
    "#df[df['multi']==2].ppu.describe()\n",
    "#df[df['multi']==3].ppu.describe()\n",
    "#df[df['multi']==4].ppu.describe()\n",
    "#sns.histplot(df['multi'])\n",
    "#sns.histplot(df['multi_transformed'])"
   ]
  },
  {
   "cell_type": "code",
   "execution_count": 453,
   "id": "6780f784",
   "metadata": {},
   "outputs": [],
   "source": [
    "#df['multi_transformed'] = pd.qcut(df['price_transformed'], q=4, labels=[1, 2, 3, 4])"
   ]
  },
  {
   "cell_type": "code",
   "execution_count": 28,
   "id": "69866a98",
   "metadata": {},
   "outputs": [],
   "source": [
    "#df[df['multi']==1].ppu.describe()"
   ]
  },
  {
   "cell_type": "code",
   "execution_count": 29,
   "id": "da4d3665",
   "metadata": {},
   "outputs": [],
   "source": [
    "#df[df['multi_transformed']==1].ppu.describe()"
   ]
  },
  {
   "cell_type": "code",
   "execution_count": 30,
   "id": "b2b9ace5",
   "metadata": {},
   "outputs": [],
   "source": [
    "#df[df['multi']==2].ppu.describe()"
   ]
  },
  {
   "cell_type": "code",
   "execution_count": 31,
   "id": "f6ae91a7",
   "metadata": {},
   "outputs": [],
   "source": [
    "#df[df['multi']==3].ppu.describe()"
   ]
  },
  {
   "cell_type": "code",
   "execution_count": 32,
   "id": "bd5bbfef",
   "metadata": {},
   "outputs": [],
   "source": [
    "#df[df['multi']==4].ppu.describe()"
   ]
  },
  {
   "cell_type": "code",
   "execution_count": 27,
   "id": "a5172c2c",
   "metadata": {},
   "outputs": [],
   "source": [
    "#sns.histplot(df['multi'])"
   ]
  },
  {
   "cell_type": "code",
   "execution_count": 33,
   "id": "38d55203",
   "metadata": {},
   "outputs": [],
   "source": [
    "#sns.histplot(df['multi_transformed'])"
   ]
  },
  {
   "cell_type": "code",
   "execution_count": 56,
   "id": "a52ab759",
   "metadata": {},
   "outputs": [],
   "source": [
    "transformed_df = df.copy()"
   ]
  },
  {
   "cell_type": "code",
   "execution_count": 59,
   "id": "a664adf5",
   "metadata": {},
   "outputs": [],
   "source": [
    "#df.drop(columns=['Unnamed: 0','ppu', 'zipyear', 'price_transformed'], inplace=True)"
   ]
  },
  {
   "cell_type": "code",
   "execution_count": 60,
   "id": "a8518378",
   "metadata": {},
   "outputs": [
    {
     "data": {
      "text/html": [
       "<div>\n",
       "<style scoped>\n",
       "    .dataframe tbody tr th:only-of-type {\n",
       "        vertical-align: middle;\n",
       "    }\n",
       "\n",
       "    .dataframe tbody tr th {\n",
       "        vertical-align: top;\n",
       "    }\n",
       "\n",
       "    .dataframe thead th {\n",
       "        text-align: right;\n",
       "    }\n",
       "</style>\n",
       "<table border=\"1\" class=\"dataframe\">\n",
       "  <thead>\n",
       "    <tr style=\"text-align: right;\">\n",
       "      <th></th>\n",
       "      <th>descriptor</th>\n",
       "      <th>complaint_type</th>\n",
       "      <th>median_transformed</th>\n",
       "    </tr>\n",
       "  </thead>\n",
       "  <tbody>\n",
       "    <tr>\n",
       "      <th>0</th>\n",
       "      <td>Loud Music/Party</td>\n",
       "      <td>Noise - Residential</td>\n",
       "      <td>0</td>\n",
       "    </tr>\n",
       "    <tr>\n",
       "      <th>1</th>\n",
       "      <td>Loud Music/Party</td>\n",
       "      <td>Noise - Residential</td>\n",
       "      <td>1</td>\n",
       "    </tr>\n",
       "    <tr>\n",
       "      <th>2</th>\n",
       "      <td>Loud Talking</td>\n",
       "      <td>Noise - Residential</td>\n",
       "      <td>1</td>\n",
       "    </tr>\n",
       "    <tr>\n",
       "      <th>3</th>\n",
       "      <td>Loud Music/Party</td>\n",
       "      <td>Noise - Residential</td>\n",
       "      <td>0</td>\n",
       "    </tr>\n",
       "    <tr>\n",
       "      <th>4</th>\n",
       "      <td>Loud Music/Party</td>\n",
       "      <td>Noise - Residential</td>\n",
       "      <td>0</td>\n",
       "    </tr>\n",
       "    <tr>\n",
       "      <th>...</th>\n",
       "      <td>...</td>\n",
       "      <td>...</td>\n",
       "      <td>...</td>\n",
       "    </tr>\n",
       "    <tr>\n",
       "      <th>2199944</th>\n",
       "      <td>Loud Music/Party</td>\n",
       "      <td>Noise - Residential</td>\n",
       "      <td>0</td>\n",
       "    </tr>\n",
       "    <tr>\n",
       "      <th>2199945</th>\n",
       "      <td>Loud Music/Party</td>\n",
       "      <td>Noise - Residential</td>\n",
       "      <td>0</td>\n",
       "    </tr>\n",
       "    <tr>\n",
       "      <th>2199946</th>\n",
       "      <td>Banging/Pounding</td>\n",
       "      <td>Noise - Residential</td>\n",
       "      <td>0</td>\n",
       "    </tr>\n",
       "    <tr>\n",
       "      <th>2199947</th>\n",
       "      <td>Loud Music/Party</td>\n",
       "      <td>Noise - Residential</td>\n",
       "      <td>1</td>\n",
       "    </tr>\n",
       "    <tr>\n",
       "      <th>2199948</th>\n",
       "      <td>Loud Music/Party</td>\n",
       "      <td>Noise - Residential</td>\n",
       "      <td>1</td>\n",
       "    </tr>\n",
       "  </tbody>\n",
       "</table>\n",
       "<p>2199949 rows × 3 columns</p>\n",
       "</div>"
      ],
      "text/plain": [
       "               descriptor       complaint_type  median_transformed\n",
       "0        Loud Music/Party  Noise - Residential                   0\n",
       "1        Loud Music/Party  Noise - Residential                   1\n",
       "2            Loud Talking  Noise - Residential                   1\n",
       "3        Loud Music/Party  Noise - Residential                   0\n",
       "4        Loud Music/Party  Noise - Residential                   0\n",
       "...                   ...                  ...                 ...\n",
       "2199944  Loud Music/Party  Noise - Residential                   0\n",
       "2199945  Loud Music/Party  Noise - Residential                   0\n",
       "2199946  Banging/Pounding  Noise - Residential                   0\n",
       "2199947  Loud Music/Party  Noise - Residential                   1\n",
       "2199948  Loud Music/Party  Noise - Residential                   1\n",
       "\n",
       "[2199949 rows x 3 columns]"
      ]
     },
     "execution_count": 60,
     "metadata": {},
     "output_type": "execute_result"
    }
   ],
   "source": [
    "df"
   ]
  },
  {
   "cell_type": "code",
   "execution_count": 65,
   "id": "311fdc6a",
   "metadata": {},
   "outputs": [],
   "source": [
    "# Split features\n",
    "\n",
    "X = df.drop('median_transformed', axis=1)\n",
    "\n",
    "y = df['median_transformed']"
   ]
  },
  {
   "cell_type": "code",
   "execution_count": 75,
   "id": "05f8e868",
   "metadata": {},
   "outputs": [],
   "source": [
    "# Dummify features\n",
    "X = pd.get_dummies(X, columns = ['descriptor', 'complaint_type'], drop_first=True)"
   ]
  },
  {
   "attachments": {},
   "cell_type": "markdown",
   "id": "42bff6ee",
   "metadata": {},
   "source": [
    "Import XGBoost and prepare parameters."
   ]
  },
  {
   "cell_type": "code",
   "execution_count": 77,
   "id": "2a285c0a",
   "metadata": {},
   "outputs": [],
   "source": [
    "# import XGBoost\n",
    "import xgboost as xgb\n",
    "\n",
    "# define data_dmatrix\n",
    "data_dmatrix = xgb.DMatrix(data=X,label=y)\n"
   ]
  },
  {
   "cell_type": "code",
   "execution_count": 79,
   "id": "65bf85ed",
   "metadata": {},
   "outputs": [],
   "source": [
    "# split X and y into training and testing sets\n",
    "\n",
    "from sklearn.model_selection import train_test_split\n",
    "\n",
    "X_train, X_test, y_train, y_test = train_test_split(X, y, test_size = 0.3, random_state = 1)"
   ]
  },
  {
   "cell_type": "code",
   "execution_count": null,
   "id": "07d855f4",
   "metadata": {},
   "outputs": [],
   "source": [
    "# import XGBClassifier\n",
    "from xgboost import XGBClassifier\n",
    "\n",
    "\n",
    "# declare parameters\n",
    "# declare parameters\n",
    "params = {\n",
    "            'objective':'binary:logistic',\n",
    "            'max_depth': 4,\n",
    "            'alpha': 10,\n",
    "            'learning_rate': 1.0,\n",
    "            'n_estimators':100\n",
    "        } \n",
    "          \n",
    "# instantiate the classifier \n",
    "xgb_clf_best = XGBClassifier(**params)\n",
    "\n",
    "\n",
    "# fit the classifier to the training data\n",
    "xgb_clf_best.fit(X_train, y_train, verbose=2)"
   ]
  },
  {
   "cell_type": "code",
   "execution_count": 118,
   "id": "29a5e76c",
   "metadata": {},
   "outputs": [],
   "source": [
    "y_pred = xgb_clf.predict(X_test)"
   ]
  },
  {
   "cell_type": "code",
   "execution_count": 119,
   "id": "2091907f",
   "metadata": {},
   "outputs": [
    {
     "name": "stdout",
     "output_type": "stream",
     "text": [
      "XGBoost model accuracy score: 0.6295\n"
     ]
    }
   ],
   "source": [
    "# compute and print accuracy score\n",
    "\n",
    "from sklearn.metrics import accuracy_score\n",
    "\n",
    "print('XGBoost model accuracy score: {0:0.4f}'. format(accuracy_score(y_test, y_pred)))"
   ]
  },
  {
   "cell_type": "code",
   "execution_count": 83,
   "id": "31e762fc",
   "metadata": {},
   "outputs": [],
   "source": [
    "from xgboost import cv\n",
    "\n",
    "params = {\"objective\":\"binary:logistic\",'colsample_bytree': 0.3,'learning_rate': 0.1,\n",
    "                'max_depth': 5, 'alpha': 10}\n",
    "\n",
    "xgb_cv = cv(dtrain=data_dmatrix, params=params, nfold=3,\n",
    "                    num_boost_round=50, early_stopping_rounds=10, metrics=\"auc\", as_pandas=True, seed=123)"
   ]
  },
  {
   "attachments": {},
   "cell_type": "markdown",
   "id": "3303e3b1",
   "metadata": {},
   "source": [
    "Evaluate binary XGBoost"
   ]
  },
  {
   "cell_type": "code",
   "execution_count": 87,
   "id": "b3ec9776",
   "metadata": {},
   "outputs": [
    {
     "data": {
      "text/html": [
       "<div>\n",
       "<style scoped>\n",
       "    .dataframe tbody tr th:only-of-type {\n",
       "        vertical-align: middle;\n",
       "    }\n",
       "\n",
       "    .dataframe tbody tr th {\n",
       "        vertical-align: top;\n",
       "    }\n",
       "\n",
       "    .dataframe thead th {\n",
       "        text-align: right;\n",
       "    }\n",
       "</style>\n",
       "<table border=\"1\" class=\"dataframe\">\n",
       "  <thead>\n",
       "    <tr style=\"text-align: right;\">\n",
       "      <th></th>\n",
       "      <th>train-auc-mean</th>\n",
       "      <th>train-auc-std</th>\n",
       "      <th>test-auc-mean</th>\n",
       "      <th>test-auc-std</th>\n",
       "    </tr>\n",
       "  </thead>\n",
       "  <tbody>\n",
       "    <tr>\n",
       "      <th>0</th>\n",
       "      <td>0.642419</td>\n",
       "      <td>0.000185</td>\n",
       "      <td>0.642419</td>\n",
       "      <td>0.000370</td>\n",
       "    </tr>\n",
       "    <tr>\n",
       "      <th>1</th>\n",
       "      <td>0.647510</td>\n",
       "      <td>0.001129</td>\n",
       "      <td>0.647475</td>\n",
       "      <td>0.001371</td>\n",
       "    </tr>\n",
       "    <tr>\n",
       "      <th>2</th>\n",
       "      <td>0.654057</td>\n",
       "      <td>0.003645</td>\n",
       "      <td>0.654019</td>\n",
       "      <td>0.003862</td>\n",
       "    </tr>\n",
       "    <tr>\n",
       "      <th>3</th>\n",
       "      <td>0.655644</td>\n",
       "      <td>0.001575</td>\n",
       "      <td>0.655605</td>\n",
       "      <td>0.001807</td>\n",
       "    </tr>\n",
       "    <tr>\n",
       "      <th>4</th>\n",
       "      <td>0.657423</td>\n",
       "      <td>0.000442</td>\n",
       "      <td>0.657407</td>\n",
       "      <td>0.000838</td>\n",
       "    </tr>\n",
       "    <tr>\n",
       "      <th>5</th>\n",
       "      <td>0.658422</td>\n",
       "      <td>0.000962</td>\n",
       "      <td>0.658416</td>\n",
       "      <td>0.000474</td>\n",
       "    </tr>\n",
       "    <tr>\n",
       "      <th>6</th>\n",
       "      <td>0.657721</td>\n",
       "      <td>0.000508</td>\n",
       "      <td>0.657652</td>\n",
       "      <td>0.000658</td>\n",
       "    </tr>\n",
       "    <tr>\n",
       "      <th>7</th>\n",
       "      <td>0.657932</td>\n",
       "      <td>0.000360</td>\n",
       "      <td>0.657913</td>\n",
       "      <td>0.000388</td>\n",
       "    </tr>\n",
       "    <tr>\n",
       "      <th>8</th>\n",
       "      <td>0.659020</td>\n",
       "      <td>0.001749</td>\n",
       "      <td>0.658969</td>\n",
       "      <td>0.001590</td>\n",
       "    </tr>\n",
       "    <tr>\n",
       "      <th>9</th>\n",
       "      <td>0.659983</td>\n",
       "      <td>0.001319</td>\n",
       "      <td>0.659936</td>\n",
       "      <td>0.000703</td>\n",
       "    </tr>\n",
       "    <tr>\n",
       "      <th>10</th>\n",
       "      <td>0.659922</td>\n",
       "      <td>0.001390</td>\n",
       "      <td>0.659892</td>\n",
       "      <td>0.000741</td>\n",
       "    </tr>\n",
       "    <tr>\n",
       "      <th>11</th>\n",
       "      <td>0.660108</td>\n",
       "      <td>0.001541</td>\n",
       "      <td>0.660073</td>\n",
       "      <td>0.000864</td>\n",
       "    </tr>\n",
       "    <tr>\n",
       "      <th>12</th>\n",
       "      <td>0.660139</td>\n",
       "      <td>0.001600</td>\n",
       "      <td>0.660088</td>\n",
       "      <td>0.000935</td>\n",
       "    </tr>\n",
       "    <tr>\n",
       "      <th>13</th>\n",
       "      <td>0.660184</td>\n",
       "      <td>0.001506</td>\n",
       "      <td>0.660135</td>\n",
       "      <td>0.000854</td>\n",
       "    </tr>\n",
       "    <tr>\n",
       "      <th>14</th>\n",
       "      <td>0.660448</td>\n",
       "      <td>0.001311</td>\n",
       "      <td>0.660405</td>\n",
       "      <td>0.000625</td>\n",
       "    </tr>\n",
       "    <tr>\n",
       "      <th>15</th>\n",
       "      <td>0.660629</td>\n",
       "      <td>0.001176</td>\n",
       "      <td>0.660576</td>\n",
       "      <td>0.000504</td>\n",
       "    </tr>\n",
       "    <tr>\n",
       "      <th>16</th>\n",
       "      <td>0.661376</td>\n",
       "      <td>0.000351</td>\n",
       "      <td>0.661314</td>\n",
       "      <td>0.000579</td>\n",
       "    </tr>\n",
       "    <tr>\n",
       "      <th>17</th>\n",
       "      <td>0.661274</td>\n",
       "      <td>0.000556</td>\n",
       "      <td>0.661213</td>\n",
       "      <td>0.000236</td>\n",
       "    </tr>\n",
       "    <tr>\n",
       "      <th>18</th>\n",
       "      <td>0.661636</td>\n",
       "      <td>0.000957</td>\n",
       "      <td>0.661583</td>\n",
       "      <td>0.000536</td>\n",
       "    </tr>\n",
       "    <tr>\n",
       "      <th>19</th>\n",
       "      <td>0.661851</td>\n",
       "      <td>0.000846</td>\n",
       "      <td>0.661805</td>\n",
       "      <td>0.000521</td>\n",
       "    </tr>\n",
       "    <tr>\n",
       "      <th>20</th>\n",
       "      <td>0.661425</td>\n",
       "      <td>0.000590</td>\n",
       "      <td>0.661367</td>\n",
       "      <td>0.000189</td>\n",
       "    </tr>\n",
       "    <tr>\n",
       "      <th>21</th>\n",
       "      <td>0.661471</td>\n",
       "      <td>0.000601</td>\n",
       "      <td>0.661407</td>\n",
       "      <td>0.000139</td>\n",
       "    </tr>\n",
       "    <tr>\n",
       "      <th>22</th>\n",
       "      <td>0.661805</td>\n",
       "      <td>0.000988</td>\n",
       "      <td>0.661751</td>\n",
       "      <td>0.000493</td>\n",
       "    </tr>\n",
       "    <tr>\n",
       "      <th>23</th>\n",
       "      <td>0.661812</td>\n",
       "      <td>0.000997</td>\n",
       "      <td>0.661756</td>\n",
       "      <td>0.000497</td>\n",
       "    </tr>\n",
       "    <tr>\n",
       "      <th>24</th>\n",
       "      <td>0.661814</td>\n",
       "      <td>0.001000</td>\n",
       "      <td>0.661763</td>\n",
       "      <td>0.000500</td>\n",
       "    </tr>\n",
       "    <tr>\n",
       "      <th>25</th>\n",
       "      <td>0.662009</td>\n",
       "      <td>0.000814</td>\n",
       "      <td>0.661964</td>\n",
       "      <td>0.000511</td>\n",
       "    </tr>\n",
       "    <tr>\n",
       "      <th>26</th>\n",
       "      <td>0.662360</td>\n",
       "      <td>0.000880</td>\n",
       "      <td>0.662247</td>\n",
       "      <td>0.000227</td>\n",
       "    </tr>\n",
       "    <tr>\n",
       "      <th>27</th>\n",
       "      <td>0.662383</td>\n",
       "      <td>0.000869</td>\n",
       "      <td>0.662276</td>\n",
       "      <td>0.000206</td>\n",
       "    </tr>\n",
       "    <tr>\n",
       "      <th>28</th>\n",
       "      <td>0.662545</td>\n",
       "      <td>0.000601</td>\n",
       "      <td>0.662447</td>\n",
       "      <td>0.000283</td>\n",
       "    </tr>\n",
       "    <tr>\n",
       "      <th>29</th>\n",
       "      <td>0.662583</td>\n",
       "      <td>0.000626</td>\n",
       "      <td>0.662494</td>\n",
       "      <td>0.000266</td>\n",
       "    </tr>\n",
       "    <tr>\n",
       "      <th>30</th>\n",
       "      <td>0.662779</td>\n",
       "      <td>0.000726</td>\n",
       "      <td>0.662691</td>\n",
       "      <td>0.000039</td>\n",
       "    </tr>\n",
       "    <tr>\n",
       "      <th>31</th>\n",
       "      <td>0.663119</td>\n",
       "      <td>0.000264</td>\n",
       "      <td>0.663082</td>\n",
       "      <td>0.000560</td>\n",
       "    </tr>\n",
       "    <tr>\n",
       "      <th>32</th>\n",
       "      <td>0.662817</td>\n",
       "      <td>0.000752</td>\n",
       "      <td>0.662734</td>\n",
       "      <td>0.000001</td>\n",
       "    </tr>\n",
       "    <tr>\n",
       "      <th>33</th>\n",
       "      <td>0.662867</td>\n",
       "      <td>0.000728</td>\n",
       "      <td>0.662788</td>\n",
       "      <td>0.000046</td>\n",
       "    </tr>\n",
       "    <tr>\n",
       "      <th>34</th>\n",
       "      <td>0.663170</td>\n",
       "      <td>0.000282</td>\n",
       "      <td>0.663148</td>\n",
       "      <td>0.000531</td>\n",
       "    </tr>\n",
       "    <tr>\n",
       "      <th>35</th>\n",
       "      <td>0.663425</td>\n",
       "      <td>0.000173</td>\n",
       "      <td>0.663391</td>\n",
       "      <td>0.000730</td>\n",
       "    </tr>\n",
       "    <tr>\n",
       "      <th>36</th>\n",
       "      <td>0.663436</td>\n",
       "      <td>0.000182</td>\n",
       "      <td>0.663395</td>\n",
       "      <td>0.000725</td>\n",
       "    </tr>\n",
       "    <tr>\n",
       "      <th>37</th>\n",
       "      <td>0.663711</td>\n",
       "      <td>0.000355</td>\n",
       "      <td>0.663701</td>\n",
       "      <td>0.000823</td>\n",
       "    </tr>\n",
       "    <tr>\n",
       "      <th>38</th>\n",
       "      <td>0.663424</td>\n",
       "      <td>0.000602</td>\n",
       "      <td>0.663375</td>\n",
       "      <td>0.000407</td>\n",
       "    </tr>\n",
       "    <tr>\n",
       "      <th>39</th>\n",
       "      <td>0.663407</td>\n",
       "      <td>0.000580</td>\n",
       "      <td>0.663367</td>\n",
       "      <td>0.000436</td>\n",
       "    </tr>\n",
       "    <tr>\n",
       "      <th>40</th>\n",
       "      <td>0.663917</td>\n",
       "      <td>0.000192</td>\n",
       "      <td>0.663892</td>\n",
       "      <td>0.000666</td>\n",
       "    </tr>\n",
       "    <tr>\n",
       "      <th>41</th>\n",
       "      <td>0.663909</td>\n",
       "      <td>0.000227</td>\n",
       "      <td>0.663874</td>\n",
       "      <td>0.000619</td>\n",
       "    </tr>\n",
       "    <tr>\n",
       "      <th>42</th>\n",
       "      <td>0.663765</td>\n",
       "      <td>0.000463</td>\n",
       "      <td>0.663728</td>\n",
       "      <td>0.000393</td>\n",
       "    </tr>\n",
       "    <tr>\n",
       "      <th>43</th>\n",
       "      <td>0.663790</td>\n",
       "      <td>0.000433</td>\n",
       "      <td>0.663746</td>\n",
       "      <td>0.000429</td>\n",
       "    </tr>\n",
       "    <tr>\n",
       "      <th>44</th>\n",
       "      <td>0.663824</td>\n",
       "      <td>0.000390</td>\n",
       "      <td>0.663789</td>\n",
       "      <td>0.000484</td>\n",
       "    </tr>\n",
       "    <tr>\n",
       "      <th>45</th>\n",
       "      <td>0.663870</td>\n",
       "      <td>0.000427</td>\n",
       "      <td>0.663820</td>\n",
       "      <td>0.000506</td>\n",
       "    </tr>\n",
       "    <tr>\n",
       "      <th>46</th>\n",
       "      <td>0.663911</td>\n",
       "      <td>0.000431</td>\n",
       "      <td>0.663862</td>\n",
       "      <td>0.000521</td>\n",
       "    </tr>\n",
       "    <tr>\n",
       "      <th>47</th>\n",
       "      <td>0.663952</td>\n",
       "      <td>0.000444</td>\n",
       "      <td>0.663902</td>\n",
       "      <td>0.000480</td>\n",
       "    </tr>\n",
       "    <tr>\n",
       "      <th>48</th>\n",
       "      <td>0.663944</td>\n",
       "      <td>0.000442</td>\n",
       "      <td>0.663898</td>\n",
       "      <td>0.000487</td>\n",
       "    </tr>\n",
       "    <tr>\n",
       "      <th>49</th>\n",
       "      <td>0.663994</td>\n",
       "      <td>0.000450</td>\n",
       "      <td>0.663960</td>\n",
       "      <td>0.000409</td>\n",
       "    </tr>\n",
       "  </tbody>\n",
       "</table>\n",
       "</div>"
      ],
      "text/plain": [
       "    train-auc-mean  train-auc-std  test-auc-mean  test-auc-std\n",
       "0         0.642419       0.000185       0.642419      0.000370\n",
       "1         0.647510       0.001129       0.647475      0.001371\n",
       "2         0.654057       0.003645       0.654019      0.003862\n",
       "3         0.655644       0.001575       0.655605      0.001807\n",
       "4         0.657423       0.000442       0.657407      0.000838\n",
       "5         0.658422       0.000962       0.658416      0.000474\n",
       "6         0.657721       0.000508       0.657652      0.000658\n",
       "7         0.657932       0.000360       0.657913      0.000388\n",
       "8         0.659020       0.001749       0.658969      0.001590\n",
       "9         0.659983       0.001319       0.659936      0.000703\n",
       "10        0.659922       0.001390       0.659892      0.000741\n",
       "11        0.660108       0.001541       0.660073      0.000864\n",
       "12        0.660139       0.001600       0.660088      0.000935\n",
       "13        0.660184       0.001506       0.660135      0.000854\n",
       "14        0.660448       0.001311       0.660405      0.000625\n",
       "15        0.660629       0.001176       0.660576      0.000504\n",
       "16        0.661376       0.000351       0.661314      0.000579\n",
       "17        0.661274       0.000556       0.661213      0.000236\n",
       "18        0.661636       0.000957       0.661583      0.000536\n",
       "19        0.661851       0.000846       0.661805      0.000521\n",
       "20        0.661425       0.000590       0.661367      0.000189\n",
       "21        0.661471       0.000601       0.661407      0.000139\n",
       "22        0.661805       0.000988       0.661751      0.000493\n",
       "23        0.661812       0.000997       0.661756      0.000497\n",
       "24        0.661814       0.001000       0.661763      0.000500\n",
       "25        0.662009       0.000814       0.661964      0.000511\n",
       "26        0.662360       0.000880       0.662247      0.000227\n",
       "27        0.662383       0.000869       0.662276      0.000206\n",
       "28        0.662545       0.000601       0.662447      0.000283\n",
       "29        0.662583       0.000626       0.662494      0.000266\n",
       "30        0.662779       0.000726       0.662691      0.000039\n",
       "31        0.663119       0.000264       0.663082      0.000560\n",
       "32        0.662817       0.000752       0.662734      0.000001\n",
       "33        0.662867       0.000728       0.662788      0.000046\n",
       "34        0.663170       0.000282       0.663148      0.000531\n",
       "35        0.663425       0.000173       0.663391      0.000730\n",
       "36        0.663436       0.000182       0.663395      0.000725\n",
       "37        0.663711       0.000355       0.663701      0.000823\n",
       "38        0.663424       0.000602       0.663375      0.000407\n",
       "39        0.663407       0.000580       0.663367      0.000436\n",
       "40        0.663917       0.000192       0.663892      0.000666\n",
       "41        0.663909       0.000227       0.663874      0.000619\n",
       "42        0.663765       0.000463       0.663728      0.000393\n",
       "43        0.663790       0.000433       0.663746      0.000429\n",
       "44        0.663824       0.000390       0.663789      0.000484\n",
       "45        0.663870       0.000427       0.663820      0.000506\n",
       "46        0.663911       0.000431       0.663862      0.000521\n",
       "47        0.663952       0.000444       0.663902      0.000480\n",
       "48        0.663944       0.000442       0.663898      0.000487\n",
       "49        0.663994       0.000450       0.663960      0.000409"
      ]
     },
     "execution_count": 87,
     "metadata": {},
     "output_type": "execute_result"
    }
   ],
   "source": [
    "xgb_cv"
   ]
  },
  {
   "cell_type": "code",
   "execution_count": 88,
   "id": "768c31da",
   "metadata": {},
   "outputs": [
    {
     "data": {
      "text/plain": [
       "Text(0.5, 0, 'Round')"
      ]
     },
     "execution_count": 88,
     "metadata": {},
     "output_type": "execute_result"
    },
    {
     "data": {
      "image/png": "[encoded data removed]",
      "text/plain": [
       "<Figure size 640x480 with 1 Axes>"
      ]
     },
     "metadata": {},
     "output_type": "display_data"
    }
   ],
   "source": [
    "plt.plot(xgb_cv.iloc[:,0])\n",
    "plt.ylabel(\"Accuracy\")\n",
    "plt.xlabel('Round')"
   ]
  },
  {
   "cell_type": "code",
   "execution_count": 89,
   "id": "13eed1c4",
   "metadata": {},
   "outputs": [
    {
     "data": {
      "image/png": "[encoded data removed]",
      "text/plain": [
       "<Figure size 640x480 with 1 Axes>"
      ]
     },
     "metadata": {},
     "output_type": "display_data"
    },
    {
     "data": {
      "text/plain": [
       "<Figure size 1600x1200 with 0 Axes>"
      ]
     },
     "metadata": {},
     "output_type": "display_data"
    }
   ],
   "source": [
    "xgb.plot_importance(xgb_clf)\n",
    "plt.figure(figsize = (16, 12))\n",
    "plt.show()"
   ]
  },
  {
   "cell_type": "code",
   "execution_count": 129,
   "id": "d6d7144d",
   "metadata": {},
   "outputs": [],
   "source": [
    "from sklearn.metrics import precision_score"
   ]
  },
  {
   "cell_type": "code",
   "execution_count": 130,
   "id": "e80163c1",
   "metadata": {},
   "outputs": [],
   "source": [
    "from sklearn.metrics import recall_score"
   ]
  },
  {
   "cell_type": "code",
   "execution_count": 131,
   "id": "55e0bd2f",
   "metadata": {},
   "outputs": [],
   "source": [
    "from sklearn.metrics import f1_score"
   ]
  },
  {
   "cell_type": "code",
   "execution_count": 186,
   "id": "6d361f9c",
   "metadata": {},
   "outputs": [
    {
     "name": "stdout",
     "output_type": "stream",
     "text": [
      "\n",
      "------------------ Confusion Matrix -----------------\n",
      "\n",
      "[[232222  94575]\n",
      " [150106 183082]]\n",
      "\n",
      "-------------------- Key Metrics --------------------\n",
      "\n",
      "Accuracy: 0.6293\n",
      "Micro Precision: 0.6293\n",
      "Micro Recall: 0.6293\n",
      "Micro F1-score: 0.6293\n",
      "\n",
      "Macro Precision: 0.6334\n",
      "Macro Recall: 0.6300\n",
      "Macro F1-score: 0.6272\n",
      "\n",
      "Weighted Precision: 0.6336\n",
      "Weighted Recall: 0.6293\n",
      "Weighted F1-score: 0.6269\n",
      "\n",
      "--------------- Classification Report ---------------\n",
      "\n",
      "              precision    recall  f1-score   support\n",
      "\n",
      "           0       0.61      0.71      0.65    326797\n",
      "           1       0.66      0.55      0.60    333188\n",
      "\n",
      "    accuracy                           0.63    659985\n",
      "   macro avg       0.63      0.63      0.63    659985\n",
      "weighted avg       0.63      0.63      0.63    659985\n",
      "\n",
      "---------------------- XGBoost ----------------------\n"
     ]
    }
   ],
   "source": [
    "print('\\n------------------ Confusion Matrix -----------------\\n')\n",
    "print(confusion_matrix(y_test, y_pred))\n",
    "\n",
    "print('\\n-------------------- Key Metrics --------------------')\n",
    "print('\\nAccuracy: {:.4f}'.format(accuracy_score(y_test, y_pred)))\n",
    "\n",
    "print('Micro Precision: {:.4f}'.format(precision_score(y_test, y_pred, average='micro')))\n",
    "print('Micro Recall: {:.4f}'.format(recall_score(y_test, y_pred, average='micro')))\n",
    "print('Micro F1-score: {:.4f}\\n'.format(f1_score(y_test, y_pred, average='micro')))\n",
    "\n",
    "print('Macro Precision: {:.4f}'.format(precision_score(y_test, y_pred, average='macro')))\n",
    "print('Macro Recall: {:.4f}'.format(recall_score(y_test, y_pred, average='macro')))\n",
    "print('Macro F1-score: {:.4f}\\n'.format(f1_score(y_test, y_pred, average='macro')))\n",
    "\n",
    "print('Weighted Precision: {:.4f}'.format(precision_score(y_test, y_pred, average='weighted')))\n",
    "print('Weighted Recall: {:.4f}'.format(recall_score(y_test, y_pred, average='weighted')))\n",
    "print('Weighted F1-score: {:.4f}'.format(f1_score(y_test, y_pred, average='weighted')))\n",
    "\n",
    "print('\\n--------------- Classification Report ---------------\\n')\n",
    "print(classification_report(y_test, y_pred))\n",
    "print('---------------------- XGBoost ----------------------') # unnecessary fancy styling"
   ]
  },
  {
   "cell_type": "code",
   "execution_count": 248,
   "id": "cc520fe5",
   "metadata": {},
   "outputs": [
    {
     "data": {
      "image/png": "[encoded data removed]",
      "text/plain": [
       "<Figure size 640x480 with 2 Axes>"
      ]
     },
     "metadata": {},
     "output_type": "display_data"
    }
   ],
   "source": [
    "ConfusionMatrixDisplay.from_predictions(y_pred, \n",
    "                                        y_test, cmap='Blues', normalize='all')\n",
    "\n",
    "       \n",
    "plt.title(\"Confusion Matrix\")\n",
    "plt.show()"
   ]
  },
  {
   "cell_type": "code",
   "execution_count": null,
   "id": "4250f818",
   "metadata": {},
   "outputs": [],
   "source": [
    "from sklearn import metrics\n",
    "def buildROC(target_test,test_preds):\n",
    "    fpr, tpr, threshold = metrics.roc_curve(target_test, test_preds)\n",
    "    roc_auc = metrics.auc(fpr, tpr)\n",
    "    plt.title('XGBoost binary classification')\n",
    "    plt.plot(fpr, tpr, 'b', label = 'AUC = %0.2f' % roc_auc)\n",
    "    plt.legend(loc = 'lower right')\n",
    "    plt.plot([0, 1], [0, 1],'r--')\n",
    "    plt.ylabel('True Positive Rate')\n",
    "    plt.xlabel('False Positive Rate')\n",
    "    plt.gcf().savefig('roc.png')"
   ]
  },
  {
   "cell_type": "code",
   "execution_count": 138,
   "id": "4a84a1cd",
   "metadata": {},
   "outputs": [
    {
     "data": {
      "image/png": "[encoded data removed]",
      "text/plain": [
       "<Figure size 640x480 with 1 Axes>"
      ]
     },
     "metadata": {},
     "output_type": "display_data"
    }
   ],
   "source": [
    "buildROC(y_test, y_pred)"
   ]
  },
  {
   "cell_type": "code",
   "execution_count": 180,
   "id": "4da6760b",
   "metadata": {},
   "outputs": [],
   "source": [
    "from sklearn.metrics import precision_recall_curve"
   ]
  },
  {
   "cell_type": "code",
   "execution_count": null,
   "id": "8f2357fa",
   "metadata": {},
   "outputs": [],
   "source": [
    "Use precisionRecall for multiclass XGBoost"
   ]
  },
  {
   "cell_type": "code",
   "execution_count": 184,
   "id": "6fbe1724",
   "metadata": {},
   "outputs": [],
   "source": [
    "def PrecisionRecall(y, ypred):\n",
    "    '''Plot precision and recall plot based on test and predicted target values'''\n",
    "    precision, recall, thresholds = precision_recall_curve(y, ypred)\n",
    "    plt.figure(figsize = (8,8))\n",
    "    plt.plot(recall, precision)\n",
    "    plt.plot([0, 1], [0.5, 0.5], linestyle = '--')  #baseline\n",
    "    plt.xlabel('Recall', fontsize = 10)\n",
    "    plt.ylabel('Precision', fontsize = 10)\n",
    "    plt.title('XGBoost Precision-Recall Curve', fontsize = 14)"
   ]
  },
  {
   "cell_type": "code",
   "execution_count": 185,
   "id": "66298871",
   "metadata": {},
   "outputs": [
    {
     "data": {
      "image/png": "[encoded data removed]",
      "text/plain": [
       "<Figure size 800x800 with 1 Axes>"
      ]
     },
     "metadata": {},
     "output_type": "display_data"
    }
   ],
   "source": [
    "PrecisionRecall(y_test, y_pred)"
   ]
  },
  {
   "attachments": {},
   "cell_type": "markdown",
   "id": "6a5ee67f",
   "metadata": {},
   "source": [
    "Run bindary model with Bayesian Optimization with HYPEROPT."
   ]
  },
  {
   "attachments": {},
   "cell_type": "markdown",
   "id": "ed745beb",
   "metadata": {},
   "source": [
    "\n",
    "<!-- HYPEROPT is a powerful python library that search through an hyperparameter space of values and find the best possible values that yield the minimum of the loss function.\n",
    "\n",
    "Bayesian Optimization technique uses Hyperopt to tune the model hyperparameters. Hyperopt is a Python library which is used to tune model hyperparameters.\n",
    "\n",
    "More information on Hyperopt can be found at the following link:-\n",
    "\n",
    "https://hyperopt.github.io/hyperopt/?source=post_page --> -->"
   ]
  },
  {
   "cell_type": "code",
   "execution_count": null,
   "id": "9131d890",
   "metadata": {},
   "outputs": [],
   "source": [
    "# Initialize domain space for range of values "
   ]
  },
  {
   "cell_type": "code",
   "execution_count": 96,
   "id": "8461fed9",
   "metadata": {},
   "outputs": [
    {
     "ename": "ImportError",
     "evalue": "cannot import name 'uniform' from 'hyperopt' (/Users/ksalmon/opt/anaconda3/envs/tf2/lib/python3.8/site-packages/hyperopt/__init__.py)",
     "output_type": "error",
     "traceback": [
      "\u001b[0;31m---------------------------------------------------------------------------\u001b[0m",
      "\u001b[0;31mImportError\u001b[0m                               Traceback (most recent call last)",
      "Cell \u001b[0;32mIn[96], line 1\u001b[0m\n\u001b[0;32m----> 1\u001b[0m \u001b[38;5;28;01mfrom\u001b[39;00m \u001b[38;5;21;01mhyperopt\u001b[39;00m \u001b[38;5;28;01mimport\u001b[39;00m uniform\n",
      "\u001b[0;31mImportError\u001b[0m: cannot import name 'uniform' from 'hyperopt' (/Users/ksalmon/opt/anaconda3/envs/tf2/lib/python3.8/site-packages/hyperopt/__init__.py)"
     ]
    }
   ],
   "source": [
    "from hyperopt import uniform"
   ]
  },
  {
   "cell_type": "code",
   "execution_count": 108,
   "id": "48de7dd4",
   "metadata": {},
   "outputs": [],
   "source": [
    "space={'max_depth': hp.quniform(\"max_depth\", 3, 5, 1),\n",
    "        'gamma': hp.uniform ('gamma', 1,9),\n",
    "        'reg_alpha' : hp.quniform('reg_alpha', 40,180,1),\n",
    "        'reg_lambda' : hp.uniform('reg_lambda', 0,1),\n",
    "        'colsample_bytree' : hp.uniform('colsample_bytree', 0.5,1),\n",
    "        'min_child_weight' : hp.quniform('min_child_weight', 0, 10, 1),\n",
    "        'n_estimators': 100,\n",
    "        'seed': 0\n",
    "    }"
   ]
  },
  {
   "cell_type": "code",
   "execution_count": 109,
   "id": "4403bfaf",
   "metadata": {},
   "outputs": [],
   "source": [
    "def objective(space):\n",
    "    clf=xgb.XGBClassifier(\n",
    "                    n_estimators =space['n_estimators'], max_depth = int(space['max_depth']), gamma = space['gamma'],\n",
    "                    reg_alpha = int(space['reg_alpha']),min_child_weight=int(space['min_child_weight']),\n",
    "                    colsample_bytree=int(space['colsample_bytree']))\n",
    "    \n",
    "    evaluation = [( X_train, y_train), ( X_test, y_test)]\n",
    "    \n",
    "    clf.fit(X_train, y_train,\n",
    "            eval_set=evaluation, eval_metric=\"auc\",\n",
    "            early_stopping_rounds=10,verbose=False)\n",
    "    \n",
    "\n",
    "    pred = clf.predict(X_test)\n",
    "    accuracy = accuracy_score(y_test, pred>0.5)\n",
    "    print (\"SCORE:\", accuracy)\n",
    "    return {'loss': -accuracy, 'status': STATUS_OK }"
   ]
  },
  {
   "cell_type": "code",
   "execution_count": 110,
   "id": "5eb715cb",
   "metadata": {},
   "outputs": [
    {
     "name": "stdout",
     "output_type": "stream",
     "text": [
      "SCORE:                                                                          \n",
      "0.6266218171625113                                                              \n",
      "  3%|▎        | 1/30 [00:28<13:58, 28.92s/trial, best loss: -0.6266218171625113]"
     ]
    },
    {
     "name": "stderr",
     "output_type": "stream",
     "text": [
      "/Users/ksalmon/opt/anaconda3/envs/tf2/lib/python3.8/site-packages/xgboost/sklearn.py:835: UserWarning: `eval_metric` in `fit` method is deprecated for better compatibility with scikit-learn, use `eval_metric` in constructor or`set_params` instead.\n",
      "  warnings.warn(\n",
      "\n",
      "/Users/ksalmon/opt/anaconda3/envs/tf2/lib/python3.8/site-packages/xgboost/sklearn.py:835: UserWarning: `early_stopping_rounds` in `fit` method is deprecated for better compatibility with scikit-learn, use `early_stopping_rounds` in constructor or`set_params` instead.\n",
      "  warnings.warn(\n",
      "\n"
     ]
    },
    {
     "name": "stdout",
     "output_type": "stream",
     "text": [
      "SCORE:                                                                          \n",
      "0.6266112108608529                                                              \n",
      "  7%|▌        | 2/30 [01:00<14:14, 30.51s/trial, best loss: -0.6266218171625113]"
     ]
    },
    {
     "name": "stderr",
     "output_type": "stream",
     "text": [
      "/Users/ksalmon/opt/anaconda3/envs/tf2/lib/python3.8/site-packages/xgboost/sklearn.py:835: UserWarning: `eval_metric` in `fit` method is deprecated for better compatibility with scikit-learn, use `eval_metric` in constructor or`set_params` instead.\n",
      "  warnings.warn(\n",
      "\n",
      "/Users/ksalmon/opt/anaconda3/envs/tf2/lib/python3.8/site-packages/xgboost/sklearn.py:835: UserWarning: `early_stopping_rounds` in `fit` method is deprecated for better compatibility with scikit-learn, use `early_stopping_rounds` in constructor or`set_params` instead.\n",
      "  warnings.warn(\n",
      "\n"
     ]
    },
    {
     "name": "stdout",
     "output_type": "stream",
     "text": [
      "SCORE:                                                                          \n",
      "0.6266218171625113                                                              \n",
      " 10%|▉        | 3/30 [01:35<14:37, 32.51s/trial, best loss: -0.6266218171625113]"
     ]
    },
    {
     "name": "stderr",
     "output_type": "stream",
     "text": [
      "/Users/ksalmon/opt/anaconda3/envs/tf2/lib/python3.8/site-packages/xgboost/sklearn.py:835: UserWarning: `eval_metric` in `fit` method is deprecated for better compatibility with scikit-learn, use `eval_metric` in constructor or`set_params` instead.\n",
      "  warnings.warn(\n",
      "\n",
      "/Users/ksalmon/opt/anaconda3/envs/tf2/lib/python3.8/site-packages/xgboost/sklearn.py:835: UserWarning: `early_stopping_rounds` in `fit` method is deprecated for better compatibility with scikit-learn, use `early_stopping_rounds` in constructor or`set_params` instead.\n",
      "  warnings.warn(\n",
      "\n"
     ]
    },
    {
     "name": "stdout",
     "output_type": "stream",
     "text": [
      "SCORE:                                                                          \n",
      "0.6266218171625113                                                              \n",
      " 13%|█▏       | 4/30 [02:05<13:45, 31.74s/trial, best loss: -0.6266218171625113]"
     ]
    },
    {
     "name": "stderr",
     "output_type": "stream",
     "text": [
      "/Users/ksalmon/opt/anaconda3/envs/tf2/lib/python3.8/site-packages/xgboost/sklearn.py:835: UserWarning: `eval_metric` in `fit` method is deprecated for better compatibility with scikit-learn, use `eval_metric` in constructor or`set_params` instead.\n",
      "  warnings.warn(\n",
      "\n",
      "/Users/ksalmon/opt/anaconda3/envs/tf2/lib/python3.8/site-packages/xgboost/sklearn.py:835: UserWarning: `early_stopping_rounds` in `fit` method is deprecated for better compatibility with scikit-learn, use `early_stopping_rounds` in constructor or`set_params` instead.\n",
      "  warnings.warn(\n",
      "\n"
     ]
    },
    {
     "name": "stdout",
     "output_type": "stream",
     "text": [
      "SCORE:                                                                          \n",
      "0.6266263627203649                                                              \n",
      " 17%|█▌       | 5/30 [02:39<13:29, 32.37s/trial, best loss: -0.6266263627203649]"
     ]
    },
    {
     "name": "stderr",
     "output_type": "stream",
     "text": [
      "/Users/ksalmon/opt/anaconda3/envs/tf2/lib/python3.8/site-packages/xgboost/sklearn.py:835: UserWarning: `eval_metric` in `fit` method is deprecated for better compatibility with scikit-learn, use `eval_metric` in constructor or`set_params` instead.\n",
      "  warnings.warn(\n",
      "\n",
      "/Users/ksalmon/opt/anaconda3/envs/tf2/lib/python3.8/site-packages/xgboost/sklearn.py:835: UserWarning: `early_stopping_rounds` in `fit` method is deprecated for better compatibility with scikit-learn, use `early_stopping_rounds` in constructor or`set_params` instead.\n",
      "  warnings.warn(\n",
      "\n"
     ]
    },
    {
     "name": "stdout",
     "output_type": "stream",
     "text": [
      "SCORE:                                                                          \n",
      "0.6266218171625113                                                              \n",
      " 20%|█▊       | 6/30 [03:10<12:42, 31.78s/trial, best loss: -0.6266263627203649]"
     ]
    },
    {
     "name": "stderr",
     "output_type": "stream",
     "text": [
      "/Users/ksalmon/opt/anaconda3/envs/tf2/lib/python3.8/site-packages/xgboost/sklearn.py:835: UserWarning: `eval_metric` in `fit` method is deprecated for better compatibility with scikit-learn, use `eval_metric` in constructor or`set_params` instead.\n",
      "  warnings.warn(\n",
      "\n",
      "/Users/ksalmon/opt/anaconda3/envs/tf2/lib/python3.8/site-packages/xgboost/sklearn.py:835: UserWarning: `early_stopping_rounds` in `fit` method is deprecated for better compatibility with scikit-learn, use `early_stopping_rounds` in constructor or`set_params` instead.\n",
      "  warnings.warn(\n",
      "\n"
     ]
    },
    {
     "name": "stdout",
     "output_type": "stream",
     "text": [
      "SCORE:                                                                          \n",
      "0.6266112108608529                                                              \n",
      " 23%|██       | 7/30 [03:38<11:46, 30.71s/trial, best loss: -0.6266263627203649]"
     ]
    },
    {
     "name": "stderr",
     "output_type": "stream",
     "text": [
      "/Users/ksalmon/opt/anaconda3/envs/tf2/lib/python3.8/site-packages/xgboost/sklearn.py:835: UserWarning: `eval_metric` in `fit` method is deprecated for better compatibility with scikit-learn, use `eval_metric` in constructor or`set_params` instead.\n",
      "  warnings.warn(\n",
      "\n",
      "/Users/ksalmon/opt/anaconda3/envs/tf2/lib/python3.8/site-packages/xgboost/sklearn.py:835: UserWarning: `early_stopping_rounds` in `fit` method is deprecated for better compatibility with scikit-learn, use `early_stopping_rounds` in constructor or`set_params` instead.\n",
      "  warnings.warn(\n",
      "\n"
     ]
    },
    {
     "name": "stdout",
     "output_type": "stream",
     "text": [
      "SCORE:                                                                          \n",
      "0.6266218171625113                                                              \n",
      " 27%|██▍      | 8/30 [04:07<11:01, 30.06s/trial, best loss: -0.6266263627203649]"
     ]
    },
    {
     "name": "stderr",
     "output_type": "stream",
     "text": [
      "/Users/ksalmon/opt/anaconda3/envs/tf2/lib/python3.8/site-packages/xgboost/sklearn.py:835: UserWarning: `eval_metric` in `fit` method is deprecated for better compatibility with scikit-learn, use `eval_metric` in constructor or`set_params` instead.\n",
      "  warnings.warn(\n",
      "\n",
      "/Users/ksalmon/opt/anaconda3/envs/tf2/lib/python3.8/site-packages/xgboost/sklearn.py:835: UserWarning: `early_stopping_rounds` in `fit` method is deprecated for better compatibility with scikit-learn, use `early_stopping_rounds` in constructor or`set_params` instead.\n",
      "  warnings.warn(\n",
      "\n"
     ]
    },
    {
     "name": "stdout",
     "output_type": "stream",
     "text": [
      "SCORE:                                                                          \n",
      "0.6266263627203649                                                              \n",
      " 30%|██▋      | 9/30 [04:35<10:21, 29.60s/trial, best loss: -0.6266263627203649]"
     ]
    },
    {
     "name": "stderr",
     "output_type": "stream",
     "text": [
      "/Users/ksalmon/opt/anaconda3/envs/tf2/lib/python3.8/site-packages/xgboost/sklearn.py:835: UserWarning: `eval_metric` in `fit` method is deprecated for better compatibility with scikit-learn, use `eval_metric` in constructor or`set_params` instead.\n",
      "  warnings.warn(\n",
      "\n",
      "/Users/ksalmon/opt/anaconda3/envs/tf2/lib/python3.8/site-packages/xgboost/sklearn.py:835: UserWarning: `early_stopping_rounds` in `fit` method is deprecated for better compatibility with scikit-learn, use `early_stopping_rounds` in constructor or`set_params` instead.\n",
      "  warnings.warn(\n",
      "\n"
     ]
    },
    {
     "name": "stdout",
     "output_type": "stream",
     "text": [
      "SCORE:                                                                          \n",
      "0.6266112108608529                                                              \n",
      " 33%|██▋     | 10/30 [05:13<10:43, 32.17s/trial, best loss: -0.6266263627203649]"
     ]
    },
    {
     "name": "stderr",
     "output_type": "stream",
     "text": [
      "/Users/ksalmon/opt/anaconda3/envs/tf2/lib/python3.8/site-packages/xgboost/sklearn.py:835: UserWarning: `eval_metric` in `fit` method is deprecated for better compatibility with scikit-learn, use `eval_metric` in constructor or`set_params` instead.\n",
      "  warnings.warn(\n",
      "\n",
      "/Users/ksalmon/opt/anaconda3/envs/tf2/lib/python3.8/site-packages/xgboost/sklearn.py:835: UserWarning: `early_stopping_rounds` in `fit` method is deprecated for better compatibility with scikit-learn, use `early_stopping_rounds` in constructor or`set_params` instead.\n",
      "  warnings.warn(\n",
      "\n"
     ]
    },
    {
     "name": "stdout",
     "output_type": "stream",
     "text": [
      "SCORE:                                                                          \n",
      "0.6266218171625113                                                              \n",
      " 37%|██▉     | 11/30 [05:42<09:51, 31.13s/trial, best loss: -0.6266263627203649]"
     ]
    },
    {
     "name": "stderr",
     "output_type": "stream",
     "text": [
      "/Users/ksalmon/opt/anaconda3/envs/tf2/lib/python3.8/site-packages/xgboost/sklearn.py:835: UserWarning: `eval_metric` in `fit` method is deprecated for better compatibility with scikit-learn, use `eval_metric` in constructor or`set_params` instead.\n",
      "  warnings.warn(\n",
      "\n",
      "/Users/ksalmon/opt/anaconda3/envs/tf2/lib/python3.8/site-packages/xgboost/sklearn.py:835: UserWarning: `early_stopping_rounds` in `fit` method is deprecated for better compatibility with scikit-learn, use `early_stopping_rounds` in constructor or`set_params` instead.\n",
      "  warnings.warn(\n",
      "\n"
     ]
    },
    {
     "name": "stdout",
     "output_type": "stream",
     "text": [
      "SCORE:                                                                          \n",
      "0.6266263627203649                                                              \n",
      " 40%|███▏    | 12/30 [06:10<09:04, 30.23s/trial, best loss: -0.6266263627203649]"
     ]
    },
    {
     "name": "stderr",
     "output_type": "stream",
     "text": [
      "/Users/ksalmon/opt/anaconda3/envs/tf2/lib/python3.8/site-packages/xgboost/sklearn.py:835: UserWarning: `eval_metric` in `fit` method is deprecated for better compatibility with scikit-learn, use `eval_metric` in constructor or`set_params` instead.\n",
      "  warnings.warn(\n",
      "\n",
      "/Users/ksalmon/opt/anaconda3/envs/tf2/lib/python3.8/site-packages/xgboost/sklearn.py:835: UserWarning: `early_stopping_rounds` in `fit` method is deprecated for better compatibility with scikit-learn, use `early_stopping_rounds` in constructor or`set_params` instead.\n",
      "  warnings.warn(\n",
      "\n"
     ]
    },
    {
     "name": "stdout",
     "output_type": "stream",
     "text": [
      "SCORE:                                                                          \n",
      "0.6266112108608529                                                              \n",
      " 43%|███▍    | 13/30 [06:37<08:18, 29.31s/trial, best loss: -0.6266263627203649]"
     ]
    },
    {
     "name": "stderr",
     "output_type": "stream",
     "text": [
      "/Users/ksalmon/opt/anaconda3/envs/tf2/lib/python3.8/site-packages/xgboost/sklearn.py:835: UserWarning: `eval_metric` in `fit` method is deprecated for better compatibility with scikit-learn, use `eval_metric` in constructor or`set_params` instead.\n",
      "  warnings.warn(\n",
      "\n",
      "/Users/ksalmon/opt/anaconda3/envs/tf2/lib/python3.8/site-packages/xgboost/sklearn.py:835: UserWarning: `early_stopping_rounds` in `fit` method is deprecated for better compatibility with scikit-learn, use `early_stopping_rounds` in constructor or`set_params` instead.\n",
      "  warnings.warn(\n",
      "\n"
     ]
    },
    {
     "name": "stdout",
     "output_type": "stream",
     "text": [
      "SCORE:                                                                          \n",
      "0.6266218171625113                                                              \n",
      " 47%|███▋    | 14/30 [07:06<07:47, 29.23s/trial, best loss: -0.6266263627203649]"
     ]
    },
    {
     "name": "stderr",
     "output_type": "stream",
     "text": [
      "/Users/ksalmon/opt/anaconda3/envs/tf2/lib/python3.8/site-packages/xgboost/sklearn.py:835: UserWarning: `eval_metric` in `fit` method is deprecated for better compatibility with scikit-learn, use `eval_metric` in constructor or`set_params` instead.\n",
      "  warnings.warn(\n",
      "\n",
      "/Users/ksalmon/opt/anaconda3/envs/tf2/lib/python3.8/site-packages/xgboost/sklearn.py:835: UserWarning: `early_stopping_rounds` in `fit` method is deprecated for better compatibility with scikit-learn, use `early_stopping_rounds` in constructor or`set_params` instead.\n",
      "  warnings.warn(\n",
      "\n"
     ]
    },
    {
     "name": "stdout",
     "output_type": "stream",
     "text": [
      "SCORE:                                                                          \n",
      "0.6266218171625113                                                              \n",
      " 50%|████    | 15/30 [07:35<07:15, 29.06s/trial, best loss: -0.6266263627203649]"
     ]
    },
    {
     "name": "stderr",
     "output_type": "stream",
     "text": [
      "/Users/ksalmon/opt/anaconda3/envs/tf2/lib/python3.8/site-packages/xgboost/sklearn.py:835: UserWarning: `eval_metric` in `fit` method is deprecated for better compatibility with scikit-learn, use `eval_metric` in constructor or`set_params` instead.\n",
      "  warnings.warn(\n",
      "\n",
      "/Users/ksalmon/opt/anaconda3/envs/tf2/lib/python3.8/site-packages/xgboost/sklearn.py:835: UserWarning: `early_stopping_rounds` in `fit` method is deprecated for better compatibility with scikit-learn, use `early_stopping_rounds` in constructor or`set_params` instead.\n",
      "  warnings.warn(\n",
      "\n"
     ]
    },
    {
     "name": "stdout",
     "output_type": "stream",
     "text": [
      "SCORE:                                                                          \n",
      "0.6266112108608529                                                              \n",
      " 53%|████▎   | 16/30 [08:03<06:41, 28.67s/trial, best loss: -0.6266263627203649]"
     ]
    },
    {
     "name": "stderr",
     "output_type": "stream",
     "text": [
      "/Users/ksalmon/opt/anaconda3/envs/tf2/lib/python3.8/site-packages/xgboost/sklearn.py:835: UserWarning: `eval_metric` in `fit` method is deprecated for better compatibility with scikit-learn, use `eval_metric` in constructor or`set_params` instead.\n",
      "  warnings.warn(\n",
      "\n",
      "/Users/ksalmon/opt/anaconda3/envs/tf2/lib/python3.8/site-packages/xgboost/sklearn.py:835: UserWarning: `early_stopping_rounds` in `fit` method is deprecated for better compatibility with scikit-learn, use `early_stopping_rounds` in constructor or`set_params` instead.\n",
      "  warnings.warn(\n",
      "\n"
     ]
    },
    {
     "name": "stdout",
     "output_type": "stream",
     "text": [
      "SCORE:                                                                          \n",
      "0.6266112108608529                                                              \n",
      " 57%|████▌   | 17/30 [08:31<06:09, 28.45s/trial, best loss: -0.6266263627203649]"
     ]
    },
    {
     "name": "stderr",
     "output_type": "stream",
     "text": [
      "/Users/ksalmon/opt/anaconda3/envs/tf2/lib/python3.8/site-packages/xgboost/sklearn.py:835: UserWarning: `eval_metric` in `fit` method is deprecated for better compatibility with scikit-learn, use `eval_metric` in constructor or`set_params` instead.\n",
      "  warnings.warn(\n",
      "\n",
      "/Users/ksalmon/opt/anaconda3/envs/tf2/lib/python3.8/site-packages/xgboost/sklearn.py:835: UserWarning: `early_stopping_rounds` in `fit` method is deprecated for better compatibility with scikit-learn, use `early_stopping_rounds` in constructor or`set_params` instead.\n",
      "  warnings.warn(\n",
      "\n"
     ]
    },
    {
     "name": "stdout",
     "output_type": "stream",
     "text": [
      "SCORE:                                                                          \n",
      "0.6266112108608529                                                              \n",
      " 60%|████▊   | 18/30 [08:59<05:40, 28.34s/trial, best loss: -0.6266263627203649]"
     ]
    },
    {
     "name": "stderr",
     "output_type": "stream",
     "text": [
      "/Users/ksalmon/opt/anaconda3/envs/tf2/lib/python3.8/site-packages/xgboost/sklearn.py:835: UserWarning: `eval_metric` in `fit` method is deprecated for better compatibility with scikit-learn, use `eval_metric` in constructor or`set_params` instead.\n",
      "  warnings.warn(\n",
      "\n",
      "/Users/ksalmon/opt/anaconda3/envs/tf2/lib/python3.8/site-packages/xgboost/sklearn.py:835: UserWarning: `early_stopping_rounds` in `fit` method is deprecated for better compatibility with scikit-learn, use `early_stopping_rounds` in constructor or`set_params` instead.\n",
      "  warnings.warn(\n",
      "\n"
     ]
    },
    {
     "name": "stdout",
     "output_type": "stream",
     "text": [
      "SCORE:                                                                          \n",
      "0.6266218171625113                                                              \n",
      " 63%|█████   | 19/30 [09:26<05:07, 27.92s/trial, best loss: -0.6266263627203649]"
     ]
    },
    {
     "name": "stderr",
     "output_type": "stream",
     "text": [
      "/Users/ksalmon/opt/anaconda3/envs/tf2/lib/python3.8/site-packages/xgboost/sklearn.py:835: UserWarning: `eval_metric` in `fit` method is deprecated for better compatibility with scikit-learn, use `eval_metric` in constructor or`set_params` instead.\n",
      "  warnings.warn(\n",
      "\n",
      "/Users/ksalmon/opt/anaconda3/envs/tf2/lib/python3.8/site-packages/xgboost/sklearn.py:835: UserWarning: `early_stopping_rounds` in `fit` method is deprecated for better compatibility with scikit-learn, use `early_stopping_rounds` in constructor or`set_params` instead.\n",
      "  warnings.warn(\n",
      "\n"
     ]
    },
    {
     "name": "stdout",
     "output_type": "stream",
     "text": [
      "SCORE:                                                                          \n",
      "0.6266218171625113                                                              \n",
      " 67%|█████▎  | 20/30 [09:53<04:36, 27.68s/trial, best loss: -0.6266263627203649]"
     ]
    },
    {
     "name": "stderr",
     "output_type": "stream",
     "text": [
      "/Users/ksalmon/opt/anaconda3/envs/tf2/lib/python3.8/site-packages/xgboost/sklearn.py:835: UserWarning: `eval_metric` in `fit` method is deprecated for better compatibility with scikit-learn, use `eval_metric` in constructor or`set_params` instead.\n",
      "  warnings.warn(\n",
      "\n",
      "/Users/ksalmon/opt/anaconda3/envs/tf2/lib/python3.8/site-packages/xgboost/sklearn.py:835: UserWarning: `early_stopping_rounds` in `fit` method is deprecated for better compatibility with scikit-learn, use `early_stopping_rounds` in constructor or`set_params` instead.\n",
      "  warnings.warn(\n",
      "\n"
     ]
    },
    {
     "name": "stdout",
     "output_type": "stream",
     "text": [
      "SCORE:                                                                          \n",
      "0.6266263627203649                                                              \n",
      " 70%|█████▌  | 21/30 [10:21<04:09, 27.71s/trial, best loss: -0.6266263627203649]"
     ]
    },
    {
     "name": "stderr",
     "output_type": "stream",
     "text": [
      "/Users/ksalmon/opt/anaconda3/envs/tf2/lib/python3.8/site-packages/xgboost/sklearn.py:835: UserWarning: `eval_metric` in `fit` method is deprecated for better compatibility with scikit-learn, use `eval_metric` in constructor or`set_params` instead.\n",
      "  warnings.warn(\n",
      "\n",
      "/Users/ksalmon/opt/anaconda3/envs/tf2/lib/python3.8/site-packages/xgboost/sklearn.py:835: UserWarning: `early_stopping_rounds` in `fit` method is deprecated for better compatibility with scikit-learn, use `early_stopping_rounds` in constructor or`set_params` instead.\n",
      "  warnings.warn(\n",
      "\n"
     ]
    },
    {
     "name": "stdout",
     "output_type": "stream",
     "text": [
      "SCORE:                                                                          \n",
      "0.6266263627203649                                                              \n",
      " 73%|█████▊  | 22/30 [10:48<03:40, 27.57s/trial, best loss: -0.6266263627203649]"
     ]
    },
    {
     "name": "stderr",
     "output_type": "stream",
     "text": [
      "/Users/ksalmon/opt/anaconda3/envs/tf2/lib/python3.8/site-packages/xgboost/sklearn.py:835: UserWarning: `eval_metric` in `fit` method is deprecated for better compatibility with scikit-learn, use `eval_metric` in constructor or`set_params` instead.\n",
      "  warnings.warn(\n",
      "\n",
      "/Users/ksalmon/opt/anaconda3/envs/tf2/lib/python3.8/site-packages/xgboost/sklearn.py:835: UserWarning: `early_stopping_rounds` in `fit` method is deprecated for better compatibility with scikit-learn, use `early_stopping_rounds` in constructor or`set_params` instead.\n",
      "  warnings.warn(\n",
      "\n"
     ]
    },
    {
     "name": "stdout",
     "output_type": "stream",
     "text": [
      "SCORE:                                                                          \n",
      "0.6266263627203649                                                              \n",
      " 77%|██████▏ | 23/30 [11:15<03:12, 27.50s/trial, best loss: -0.6266263627203649]"
     ]
    },
    {
     "name": "stderr",
     "output_type": "stream",
     "text": [
      "/Users/ksalmon/opt/anaconda3/envs/tf2/lib/python3.8/site-packages/xgboost/sklearn.py:835: UserWarning: `eval_metric` in `fit` method is deprecated for better compatibility with scikit-learn, use `eval_metric` in constructor or`set_params` instead.\n",
      "  warnings.warn(\n",
      "\n",
      "/Users/ksalmon/opt/anaconda3/envs/tf2/lib/python3.8/site-packages/xgboost/sklearn.py:835: UserWarning: `early_stopping_rounds` in `fit` method is deprecated for better compatibility with scikit-learn, use `early_stopping_rounds` in constructor or`set_params` instead.\n",
      "  warnings.warn(\n",
      "\n"
     ]
    },
    {
     "name": "stdout",
     "output_type": "stream",
     "text": [
      "SCORE:                                                                          \n",
      "0.6266263627203649                                                              \n",
      " 80%|██████▍ | 24/30 [11:43<02:44, 27.45s/trial, best loss: -0.6266263627203649]"
     ]
    },
    {
     "name": "stderr",
     "output_type": "stream",
     "text": [
      "/Users/ksalmon/opt/anaconda3/envs/tf2/lib/python3.8/site-packages/xgboost/sklearn.py:835: UserWarning: `eval_metric` in `fit` method is deprecated for better compatibility with scikit-learn, use `eval_metric` in constructor or`set_params` instead.\n",
      "  warnings.warn(\n",
      "\n",
      "/Users/ksalmon/opt/anaconda3/envs/tf2/lib/python3.8/site-packages/xgboost/sklearn.py:835: UserWarning: `early_stopping_rounds` in `fit` method is deprecated for better compatibility with scikit-learn, use `early_stopping_rounds` in constructor or`set_params` instead.\n",
      "  warnings.warn(\n",
      "\n"
     ]
    },
    {
     "name": "stdout",
     "output_type": "stream",
     "text": [
      "SCORE:                                                                          \n",
      "0.6266112108608529                                                              \n",
      " 83%|██████▋ | 25/30 [12:10<02:17, 27.50s/trial, best loss: -0.6266263627203649]"
     ]
    },
    {
     "name": "stderr",
     "output_type": "stream",
     "text": [
      "/Users/ksalmon/opt/anaconda3/envs/tf2/lib/python3.8/site-packages/xgboost/sklearn.py:835: UserWarning: `eval_metric` in `fit` method is deprecated for better compatibility with scikit-learn, use `eval_metric` in constructor or`set_params` instead.\n",
      "  warnings.warn(\n",
      "\n",
      "/Users/ksalmon/opt/anaconda3/envs/tf2/lib/python3.8/site-packages/xgboost/sklearn.py:835: UserWarning: `early_stopping_rounds` in `fit` method is deprecated for better compatibility with scikit-learn, use `early_stopping_rounds` in constructor or`set_params` instead.\n",
      "  warnings.warn(\n",
      "\n"
     ]
    },
    {
     "name": "stdout",
     "output_type": "stream",
     "text": [
      "SCORE:                                                                          \n",
      "0.6266263627203649                                                              \n",
      " 87%|██████▉ | 26/30 [12:40<01:52, 28.18s/trial, best loss: -0.6266263627203649]"
     ]
    },
    {
     "name": "stderr",
     "output_type": "stream",
     "text": [
      "/Users/ksalmon/opt/anaconda3/envs/tf2/lib/python3.8/site-packages/xgboost/sklearn.py:835: UserWarning: `eval_metric` in `fit` method is deprecated for better compatibility with scikit-learn, use `eval_metric` in constructor or`set_params` instead.\n",
      "  warnings.warn(\n",
      "\n",
      "/Users/ksalmon/opt/anaconda3/envs/tf2/lib/python3.8/site-packages/xgboost/sklearn.py:835: UserWarning: `early_stopping_rounds` in `fit` method is deprecated for better compatibility with scikit-learn, use `early_stopping_rounds` in constructor or`set_params` instead.\n",
      "  warnings.warn(\n",
      "\n"
     ]
    },
    {
     "name": "stdout",
     "output_type": "stream",
     "text": [
      "SCORE:                                                                          \n",
      "0.6266263627203649                                                              \n",
      " 90%|███████▏| 27/30 [13:09<01:25, 28.38s/trial, best loss: -0.6266263627203649]"
     ]
    },
    {
     "name": "stderr",
     "output_type": "stream",
     "text": [
      "/Users/ksalmon/opt/anaconda3/envs/tf2/lib/python3.8/site-packages/xgboost/sklearn.py:835: UserWarning: `eval_metric` in `fit` method is deprecated for better compatibility with scikit-learn, use `eval_metric` in constructor or`set_params` instead.\n",
      "  warnings.warn(\n",
      "\n",
      "/Users/ksalmon/opt/anaconda3/envs/tf2/lib/python3.8/site-packages/xgboost/sklearn.py:835: UserWarning: `early_stopping_rounds` in `fit` method is deprecated for better compatibility with scikit-learn, use `early_stopping_rounds` in constructor or`set_params` instead.\n",
      "  warnings.warn(\n",
      "\n"
     ]
    },
    {
     "name": "stdout",
     "output_type": "stream",
     "text": [
      "SCORE:                                                                          \n",
      "0.6266112108608529                                                              \n",
      " 93%|███████▍| 28/30 [13:38<00:57, 28.71s/trial, best loss: -0.6266263627203649]"
     ]
    },
    {
     "name": "stderr",
     "output_type": "stream",
     "text": [
      "/Users/ksalmon/opt/anaconda3/envs/tf2/lib/python3.8/site-packages/xgboost/sklearn.py:835: UserWarning: `eval_metric` in `fit` method is deprecated for better compatibility with scikit-learn, use `eval_metric` in constructor or`set_params` instead.\n",
      "  warnings.warn(\n",
      "\n",
      "/Users/ksalmon/opt/anaconda3/envs/tf2/lib/python3.8/site-packages/xgboost/sklearn.py:835: UserWarning: `early_stopping_rounds` in `fit` method is deprecated for better compatibility with scikit-learn, use `early_stopping_rounds` in constructor or`set_params` instead.\n",
      "  warnings.warn(\n",
      "\n"
     ]
    },
    {
     "name": "stdout",
     "output_type": "stream",
     "text": [
      "SCORE:                                                                          \n",
      "0.6266263627203649                                                              \n",
      " 97%|███████▋| 29/30 [14:07<00:28, 28.59s/trial, best loss: -0.6266263627203649]"
     ]
    },
    {
     "name": "stderr",
     "output_type": "stream",
     "text": [
      "/Users/ksalmon/opt/anaconda3/envs/tf2/lib/python3.8/site-packages/xgboost/sklearn.py:835: UserWarning: `eval_metric` in `fit` method is deprecated for better compatibility with scikit-learn, use `eval_metric` in constructor or`set_params` instead.\n",
      "  warnings.warn(\n",
      "\n",
      "/Users/ksalmon/opt/anaconda3/envs/tf2/lib/python3.8/site-packages/xgboost/sklearn.py:835: UserWarning: `early_stopping_rounds` in `fit` method is deprecated for better compatibility with scikit-learn, use `early_stopping_rounds` in constructor or`set_params` instead.\n",
      "  warnings.warn(\n",
      "\n"
     ]
    },
    {
     "name": "stdout",
     "output_type": "stream",
     "text": [
      "SCORE:                                                                          \n",
      "0.6266112108608529                                                              \n",
      "100%|████████| 30/30 [14:36<00:00, 29.23s/trial, best loss: -0.6266263627203649]\n"
     ]
    }
   ],
   "source": [
    "trials = Trials()\n",
    "\n",
    "best_hyperparams = fmin(fn = objective,\n",
    "                        space = space,\n",
    "                        algo = tpe.suggest,\n",
    "                        max_evals = 30,\n",
    "                        trials = trials)"
   ]
  },
  {
   "cell_type": "code",
   "execution_count": 116,
   "id": "6ad3e126",
   "metadata": {},
   "outputs": [
    {
     "name": "stdout",
     "output_type": "stream",
     "text": [
      "The best hyperparameters are :  \n",
      "\n",
      "{'colsample_bytree': 0.7998875394609944, 'gamma': 2.1070992010563954, 'max_depth': 5.0, 'min_child_weight': 5.0, 'reg_alpha': 44.0, 'reg_lambda': 0.8895311674601302}\n"
     ]
    }
   ],
   "source": [
    "print(\"The best hyperparameters are : \",\"\\n\")\n",
    "print(best_hyperparams)"
   ]
  },
  {
   "cell_type": "code",
   "execution_count": 117,
   "id": "cdfe87c1",
   "metadata": {},
   "outputs": [
    {
     "data": {
      "text/html": [
       "<style>#sk-container-id-2 {color: black;background-color: white;}#sk-container-id-2 pre{padding: 0;}#sk-container-id-2 div.sk-toggleable {background-color: white;}#sk-container-id-2 label.sk-toggleable__label {cursor: pointer;display: block;width: 100%;margin-bottom: 0;padding: 0.3em;box-sizing: border-box;text-align: center;}#sk-container-id-2 label.sk-toggleable__label-arrow:before {content: \"▸\";float: left;margin-right: 0.25em;color: #696969;}#sk-container-id-2 label.sk-toggleable__label-arrow:hover:before {color: black;}#sk-container-id-2 div.sk-estimator:hover label.sk-toggleable__label-arrow:before {color: black;}#sk-container-id-2 div.sk-toggleable__content {max-height: 0;max-width: 0;overflow: hidden;text-align: left;background-color: #f0f8ff;}#sk-container-id-2 div.sk-toggleable__content pre {margin: 0.2em;color: black;border-radius: 0.25em;background-color: #f0f8ff;}#sk-container-id-2 input.sk-toggleable__control:checked~div.sk-toggleable__content {max-height: 200px;max-width: 100%;overflow: auto;}#sk-container-id-2 input.sk-toggleable__control:checked~label.sk-toggleable__label-arrow:before {content: \"▾\";}#sk-container-id-2 div.sk-estimator input.sk-toggleable__control:checked~label.sk-toggleable__label {background-color: #d4ebff;}#sk-container-id-2 div.sk-label input.sk-toggleable__control:checked~label.sk-toggleable__label {background-color: #d4ebff;}#sk-container-id-2 input.sk-hidden--visually {border: 0;clip: rect(1px 1px 1px 1px);clip: rect(1px, 1px, 1px, 1px);height: 1px;margin: -1px;overflow: hidden;padding: 0;position: absolute;width: 1px;}#sk-container-id-2 div.sk-estimator {font-family: monospace;background-color: #f0f8ff;border: 1px dotted black;border-radius: 0.25em;box-sizing: border-box;margin-bottom: 0.5em;}#sk-container-id-2 div.sk-estimator:hover {background-color: #d4ebff;}#sk-container-id-2 div.sk-parallel-item::after {content: \"\";width: 100%;border-bottom: 1px solid gray;flex-grow: 1;}#sk-container-id-2 div.sk-label:hover label.sk-toggleable__label {background-color: #d4ebff;}#sk-container-id-2 div.sk-serial::before {content: \"\";position: absolute;border-left: 1px solid gray;box-sizing: border-box;top: 0;bottom: 0;left: 50%;z-index: 0;}#sk-container-id-2 div.sk-serial {display: flex;flex-direction: column;align-items: center;background-color: white;padding-right: 0.2em;padding-left: 0.2em;position: relative;}#sk-container-id-2 div.sk-item {position: relative;z-index: 1;}#sk-container-id-2 div.sk-parallel {display: flex;align-items: stretch;justify-content: center;background-color: white;position: relative;}#sk-container-id-2 div.sk-item::before, #sk-container-id-2 div.sk-parallel-item::before {content: \"\";position: absolute;border-left: 1px solid gray;box-sizing: border-box;top: 0;bottom: 0;left: 50%;z-index: -1;}#sk-container-id-2 div.sk-parallel-item {display: flex;flex-direction: column;z-index: 1;position: relative;background-color: white;}#sk-container-id-2 div.sk-parallel-item:first-child::after {align-self: flex-end;width: 50%;}#sk-container-id-2 div.sk-parallel-item:last-child::after {align-self: flex-start;width: 50%;}#sk-container-id-2 div.sk-parallel-item:only-child::after {width: 0;}#sk-container-id-2 div.sk-dashed-wrapped {border: 1px dashed gray;margin: 0 0.4em 0.5em 0.4em;box-sizing: border-box;padding-bottom: 0.4em;background-color: white;}#sk-container-id-2 div.sk-label label {font-family: monospace;font-weight: bold;display: inline-block;line-height: 1.2em;}#sk-container-id-2 div.sk-label-container {text-align: center;}#sk-container-id-2 div.sk-container {/* jupyter's `normalize.less` sets `[hidden] { display: none; }` but bootstrap.min.css set `[hidden] { display: none !important; }` so we also need the `!important` here to be able to override the default hidden behavior on the sphinx rendered scikit-learn.org. See: https://github.com/scikit-learn/scikit-learn/issues/21755 */display: inline-block !important;position: relative;}#sk-container-id-2 div.sk-text-repr-fallback {display: none;}</style><div id=\"sk-container-id-2\" class=\"sk-top-container\"><div class=\"sk-text-repr-fallback\"><pre>XGBClassifier(base_score=None, booster=None, callbacks=None,\n",
       "              colsample_bylevel=None, colsample_bynode=None,\n",
       "              colsample_bytree=0.7998875394609944, early_stopping_rounds=None,\n",
       "              enable_categorical=False, eval_metric=None, feature_types=None,\n",
       "              gamma=2.1070992010563954, gpu_id=None, grow_policy=None,\n",
       "              importance_type=None, interaction_constraints=None,\n",
       "              learning_rate=None, max_bin=None, max_cat_threshold=None,\n",
       "              max_cat_to_onehot=None, max_delta_step=None, max_depth=5,\n",
       "              max_leaves=None, min_child_weight=5, missing=nan,\n",
       "              monotone_constraints=None, n_estimators=100, n_jobs=None,\n",
       "              num_parallel_tree=None, predictor=None, random_state=None, ...)</pre><b>In a Jupyter environment, please rerun this cell to show the HTML representation or trust the notebook. <br />On GitHub, the HTML representation is unable to render, please try loading this page with nbviewer.org.</b></div><div class=\"sk-container\" hidden><div class=\"sk-item\"><div class=\"sk-estimator sk-toggleable\"><input class=\"sk-toggleable__control sk-hidden--visually\" id=\"sk-estimator-id-2\" type=\"checkbox\" checked><label for=\"sk-estimator-id-2\" class=\"sk-toggleable__label sk-toggleable__label-arrow\">XGBClassifier</label><div class=\"sk-toggleable__content\"><pre>XGBClassifier(base_score=None, booster=None, callbacks=None,\n",
       "              colsample_bylevel=None, colsample_bynode=None,\n",
       "              colsample_bytree=0.7998875394609944, early_stopping_rounds=None,\n",
       "              enable_categorical=False, eval_metric=None, feature_types=None,\n",
       "              gamma=2.1070992010563954, gpu_id=None, grow_policy=None,\n",
       "              importance_type=None, interaction_constraints=None,\n",
       "              learning_rate=None, max_bin=None, max_cat_threshold=None,\n",
       "              max_cat_to_onehot=None, max_delta_step=None, max_depth=5,\n",
       "              max_leaves=None, min_child_weight=5, missing=nan,\n",
       "              monotone_constraints=None, n_estimators=100, n_jobs=None,\n",
       "              num_parallel_tree=None, predictor=None, random_state=None, ...)</pre></div></div></div></div></div>"
      ],
      "text/plain": [
       "XGBClassifier(base_score=None, booster=None, callbacks=None,\n",
       "              colsample_bylevel=None, colsample_bynode=None,\n",
       "              colsample_bytree=0.7998875394609944, early_stopping_rounds=None,\n",
       "              enable_categorical=False, eval_metric=None, feature_types=None,\n",
       "              gamma=2.1070992010563954, gpu_id=None, grow_policy=None,\n",
       "              importance_type=None, interaction_constraints=None,\n",
       "              learning_rate=None, max_bin=None, max_cat_threshold=None,\n",
       "              max_cat_to_onehot=None, max_delta_step=None, max_depth=5,\n",
       "              max_leaves=None, min_child_weight=5, missing=nan,\n",
       "              monotone_constraints=None, n_estimators=100, n_jobs=None,\n",
       "              num_parallel_tree=None, predictor=None, random_state=None, ...)"
      ]
     },
     "execution_count": 117,
     "metadata": {},
     "output_type": "execute_result"
    }
   ],
   "source": [
    "# import XGBClassifier\n",
    "from xgboost import XGBClassifier\n",
    "\n",
    "\n",
    "# declare parameters\n",
    "params = {'colsample_bytree': 0.7998875394609944, 'gamma': 2.1070992010563954, \n",
    "          'max_depth': 5, 'min_child_weight': 5, 'reg_alpha': 44, \n",
    "          'reg_lambda': 0.8895311674601302}  \n",
    "          \n",
    "# instantiate the classifier \n",
    "xgb_clf_best = XGBClassifier(**params)\n",
    "\n",
    "\n",
    "# fit the classifier to the training data\n",
    "xgb_clf_best.fit(X_test, y_test, verbose=2)\n"
   ]
  },
  {
   "cell_type": "code",
   "execution_count": 120,
   "id": "a7e3e521",
   "metadata": {},
   "outputs": [
    {
     "name": "stdout",
     "output_type": "stream",
     "text": [
      "XGBClassifier(base_score=None, booster=None, callbacks=None,\n",
      "              colsample_bylevel=None, colsample_bynode=None,\n",
      "              colsample_bytree=0.7998875394609944, early_stopping_rounds=None,\n",
      "              enable_categorical=False, eval_metric=None, feature_types=None,\n",
      "              gamma=2.1070992010563954, gpu_id=None, grow_policy=None,\n",
      "              importance_type=None, interaction_constraints=None,\n",
      "              learning_rate=None, max_bin=None, max_cat_threshold=None,\n",
      "              max_cat_to_onehot=None, max_delta_step=None, max_depth=5,\n",
      "              max_leaves=None, min_child_weight=5, missing=nan,\n",
      "              monotone_constraints=None, n_estimators=100, n_jobs=None,\n",
      "              num_parallel_tree=None, predictor=None, random_state=None, ...)\n"
     ]
    }
   ],
   "source": [
    "print(xgb_clf_best)"
   ]
  },
  {
   "cell_type": "code",
   "execution_count": 122,
   "id": "ebfdb17b",
   "metadata": {},
   "outputs": [],
   "source": [
    "y_pred_best = xgb_clf_best.predict(X_test)"
   ]
  },
  {
   "cell_type": "code",
   "execution_count": 123,
   "id": "c5b704ba",
   "metadata": {},
   "outputs": [
    {
     "name": "stdout",
     "output_type": "stream",
     "text": [
      "XGBoost model accuracy score: 0.6293\n"
     ]
    }
   ],
   "source": [
    "# compute and print accuracy score\n",
    "\n",
    "from sklearn.metrics import accuracy_score\n",
    "\n",
    "print('XGBoost model accuracy score: {0:0.4f}'. format(accuracy_score(y_test, y_pred_best)))"
   ]
  },
  {
   "cell_type": "markdown",
   "id": "f77150f2",
   "metadata": {},
   "source": [
    "Try XGboost with multi class"
   ]
  },
  {
   "cell_type": "code",
   "execution_count": 212,
   "id": "46ed70f2",
   "metadata": {},
   "outputs": [],
   "source": [
    "df = transformed_df.copy()"
   ]
  },
  {
   "cell_type": "code",
   "execution_count": 213,
   "id": "818ab55f",
   "metadata": {},
   "outputs": [],
   "source": [
    "df['multi_transformed'] = pd.qcut(df['price_transformed'], q=4, labels=[0, 1, 2, 3])\n"
   ]
  },
  {
   "cell_type": "code",
   "execution_count": 214,
   "id": "b8210c38",
   "metadata": {},
   "outputs": [
    {
     "data": {
      "text/plain": [
       "<AxesSubplot: xlabel='multi_transformed', ylabel='Count'>"
      ]
     },
     "execution_count": 214,
     "metadata": {},
     "output_type": "execute_result"
    },
    {
     "data": {
      "image/png": "[encoded data removed]",
      "text/plain": [
       "<Figure size 640x480 with 1 Axes>"
      ]
     },
     "metadata": {},
     "output_type": "display_data"
    }
   ],
   "source": [
    "sns.histplot(df['multi_transformed'])"
   ]
  },
  {
   "cell_type": "code",
   "execution_count": 215,
   "id": "bf52aec7",
   "metadata": {},
   "outputs": [
    {
     "data": {
      "text/plain": [
       "Index(['Unnamed: 0', 'descriptor', 'complaint_type', 'zipyear', 'ppu',\n",
       "       'price_transformed', 'median_transformed', 'multi_transformed'],\n",
       "      dtype='object')"
      ]
     },
     "execution_count": 215,
     "metadata": {},
     "output_type": "execute_result"
    }
   ],
   "source": [
    "df.columns"
   ]
  },
  {
   "cell_type": "code",
   "execution_count": 216,
   "id": "175085e0",
   "metadata": {},
   "outputs": [],
   "source": [
    "df.drop(columns=['Unnamed: 0','ppu', 'zipyear', 'price_transformed', 'median_transformed'], inplace=True)"
   ]
  },
  {
   "cell_type": "code",
   "execution_count": 217,
   "id": "d6ec7e54",
   "metadata": {},
   "outputs": [],
   "source": [
    "# Split features\n",
    "\n",
    "X = df.drop('multi_transformed', axis=1)\n",
    "\n",
    "y = df['multi_transformed']"
   ]
  },
  {
   "cell_type": "code",
   "execution_count": 222,
   "id": "940b1ffa",
   "metadata": {},
   "outputs": [
    {
     "data": {
      "text/html": [
       "<div>\n",
       "<style scoped>\n",
       "    .dataframe tbody tr th:only-of-type {\n",
       "        vertical-align: middle;\n",
       "    }\n",
       "\n",
       "    .dataframe tbody tr th {\n",
       "        vertical-align: top;\n",
       "    }\n",
       "\n",
       "    .dataframe thead th {\n",
       "        text-align: right;\n",
       "    }\n",
       "</style>\n",
       "<table border=\"1\" class=\"dataframe\">\n",
       "  <thead>\n",
       "    <tr style=\"text-align: right;\">\n",
       "      <th></th>\n",
       "      <th>descriptor</th>\n",
       "      <th>complaint_type</th>\n",
       "    </tr>\n",
       "  </thead>\n",
       "  <tbody>\n",
       "    <tr>\n",
       "      <th>0</th>\n",
       "      <td>Loud Music/Party</td>\n",
       "      <td>Noise - Residential</td>\n",
       "    </tr>\n",
       "    <tr>\n",
       "      <th>1</th>\n",
       "      <td>Loud Music/Party</td>\n",
       "      <td>Noise - Residential</td>\n",
       "    </tr>\n",
       "    <tr>\n",
       "      <th>2</th>\n",
       "      <td>Loud Talking</td>\n",
       "      <td>Noise - Residential</td>\n",
       "    </tr>\n",
       "    <tr>\n",
       "      <th>3</th>\n",
       "      <td>Loud Music/Party</td>\n",
       "      <td>Noise - Residential</td>\n",
       "    </tr>\n",
       "    <tr>\n",
       "      <th>4</th>\n",
       "      <td>Loud Music/Party</td>\n",
       "      <td>Noise - Residential</td>\n",
       "    </tr>\n",
       "    <tr>\n",
       "      <th>...</th>\n",
       "      <td>...</td>\n",
       "      <td>...</td>\n",
       "    </tr>\n",
       "    <tr>\n",
       "      <th>2199944</th>\n",
       "      <td>Loud Music/Party</td>\n",
       "      <td>Noise - Residential</td>\n",
       "    </tr>\n",
       "    <tr>\n",
       "      <th>2199945</th>\n",
       "      <td>Loud Music/Party</td>\n",
       "      <td>Noise - Residential</td>\n",
       "    </tr>\n",
       "    <tr>\n",
       "      <th>2199946</th>\n",
       "      <td>Banging/Pounding</td>\n",
       "      <td>Noise - Residential</td>\n",
       "    </tr>\n",
       "    <tr>\n",
       "      <th>2199947</th>\n",
       "      <td>Loud Music/Party</td>\n",
       "      <td>Noise - Residential</td>\n",
       "    </tr>\n",
       "    <tr>\n",
       "      <th>2199948</th>\n",
       "      <td>Loud Music/Party</td>\n",
       "      <td>Noise - Residential</td>\n",
       "    </tr>\n",
       "  </tbody>\n",
       "</table>\n",
       "<p>2199949 rows × 2 columns</p>\n",
       "</div>"
      ],
      "text/plain": [
       "               descriptor       complaint_type\n",
       "0        Loud Music/Party  Noise - Residential\n",
       "1        Loud Music/Party  Noise - Residential\n",
       "2            Loud Talking  Noise - Residential\n",
       "3        Loud Music/Party  Noise - Residential\n",
       "4        Loud Music/Party  Noise - Residential\n",
       "...                   ...                  ...\n",
       "2199944  Loud Music/Party  Noise - Residential\n",
       "2199945  Loud Music/Party  Noise - Residential\n",
       "2199946  Banging/Pounding  Noise - Residential\n",
       "2199947  Loud Music/Party  Noise - Residential\n",
       "2199948  Loud Music/Party  Noise - Residential\n",
       "\n",
       "[2199949 rows x 2 columns]"
      ]
     },
     "execution_count": 222,
     "metadata": {},
     "output_type": "execute_result"
    }
   ],
   "source": [
    "X"
   ]
  },
  {
   "cell_type": "code",
   "execution_count": null,
   "id": "82f472f2",
   "metadata": {},
   "outputs": [],
   "source": []
  },
  {
   "cell_type": "code",
   "execution_count": 223,
   "id": "5ec5b60d",
   "metadata": {},
   "outputs": [],
   "source": [
    "X = pd.get_dummies(X, columns = ['descriptor', 'complaint_type'], drop_first=True)"
   ]
  },
  {
   "cell_type": "code",
   "execution_count": 224,
   "id": "bef699d1",
   "metadata": {},
   "outputs": [],
   "source": [
    "X_train, X_test, y_train, y_test = train_test_split(X, y, random_state=42, stratify=y)"
   ]
  },
  {
   "cell_type": "code",
   "execution_count": 219,
   "id": "953de9f6",
   "metadata": {},
   "outputs": [],
   "source": [
    "# import XGBoost\n",
    "import xgboost as xgb\n",
    "\n",
    "# define data_dmatrix\n",
    "#data_dmatrix = xgb.DMatrix(data=X,label=y)"
   ]
  },
  {
   "cell_type": "code",
   "execution_count": 225,
   "id": "e0731490",
   "metadata": {},
   "outputs": [
    {
     "name": "stdout",
     "output_type": "stream",
     "text": [
      "[0]\tvalidation_0-merror:0.62189\tvalidation_0-mlogloss:1.35524\tvalidation_1-merror:0.62186\tvalidation_1-mlogloss:1.35515\n",
      "[1]\tvalidation_0-merror:0.62192\tvalidation_0-mlogloss:1.33628\tvalidation_1-merror:0.62188\tvalidation_1-mlogloss:1.33612\n",
      "[2]\tvalidation_0-merror:0.62212\tvalidation_0-mlogloss:1.32439\tvalidation_1-merror:0.62214\tvalidation_1-mlogloss:1.32415\n",
      "[3]\tvalidation_0-merror:0.62158\tvalidation_0-mlogloss:1.31636\tvalidation_1-merror:0.62160\tvalidation_1-mlogloss:1.31606\n",
      "[4]\tvalidation_0-merror:0.62155\tvalidation_0-mlogloss:1.31122\tvalidation_1-merror:0.62149\tvalidation_1-mlogloss:1.31090\n",
      "[5]\tvalidation_0-merror:0.62155\tvalidation_0-mlogloss:1.30775\tvalidation_1-merror:0.62149\tvalidation_1-mlogloss:1.30740\n",
      "[6]\tvalidation_0-merror:0.62155\tvalidation_0-mlogloss:1.30544\tvalidation_1-merror:0.62149\tvalidation_1-mlogloss:1.30505\n",
      "[7]\tvalidation_0-merror:0.62148\tvalidation_0-mlogloss:1.30381\tvalidation_1-merror:0.62145\tvalidation_1-mlogloss:1.30343\n",
      "[8]\tvalidation_0-merror:0.62155\tvalidation_0-mlogloss:1.30267\tvalidation_1-merror:0.62149\tvalidation_1-mlogloss:1.30228\n",
      "[9]\tvalidation_0-merror:0.62155\tvalidation_0-mlogloss:1.30185\tvalidation_1-merror:0.62149\tvalidation_1-mlogloss:1.30147\n",
      "[10]\tvalidation_0-merror:0.62155\tvalidation_0-mlogloss:1.30130\tvalidation_1-merror:0.62149\tvalidation_1-mlogloss:1.30092\n",
      "[11]\tvalidation_0-merror:0.62155\tvalidation_0-mlogloss:1.30090\tvalidation_1-merror:0.62149\tvalidation_1-mlogloss:1.30051\n",
      "[12]\tvalidation_0-merror:0.62130\tvalidation_0-mlogloss:1.30060\tvalidation_1-merror:0.62134\tvalidation_1-mlogloss:1.30022\n",
      "[13]\tvalidation_0-merror:0.62122\tvalidation_0-mlogloss:1.30038\tvalidation_1-merror:0.62125\tvalidation_1-mlogloss:1.30000\n",
      "[14]\tvalidation_0-merror:0.62122\tvalidation_0-mlogloss:1.30023\tvalidation_1-merror:0.62125\tvalidation_1-mlogloss:1.29985\n",
      "[15]\tvalidation_0-merror:0.62121\tvalidation_0-mlogloss:1.30012\tvalidation_1-merror:0.62125\tvalidation_1-mlogloss:1.29974\n",
      "[16]\tvalidation_0-merror:0.62121\tvalidation_0-mlogloss:1.30003\tvalidation_1-merror:0.62125\tvalidation_1-mlogloss:1.29965\n",
      "[17]\tvalidation_0-merror:0.62121\tvalidation_0-mlogloss:1.29996\tvalidation_1-merror:0.62125\tvalidation_1-mlogloss:1.29958\n",
      "[18]\tvalidation_0-merror:0.62121\tvalidation_0-mlogloss:1.29991\tvalidation_1-merror:0.62125\tvalidation_1-mlogloss:1.29953\n",
      "[19]\tvalidation_0-merror:0.62121\tvalidation_0-mlogloss:1.29987\tvalidation_1-merror:0.62125\tvalidation_1-mlogloss:1.29949\n",
      "[20]\tvalidation_0-merror:0.62121\tvalidation_0-mlogloss:1.29984\tvalidation_1-merror:0.62125\tvalidation_1-mlogloss:1.29946\n",
      "[21]\tvalidation_0-merror:0.62121\tvalidation_0-mlogloss:1.29982\tvalidation_1-merror:0.62125\tvalidation_1-mlogloss:1.29944\n",
      "[22]\tvalidation_0-merror:0.62121\tvalidation_0-mlogloss:1.29980\tvalidation_1-merror:0.62125\tvalidation_1-mlogloss:1.29942\n",
      "[23]\tvalidation_0-merror:0.62121\tvalidation_0-mlogloss:1.29978\tvalidation_1-merror:0.62125\tvalidation_1-mlogloss:1.29941\n",
      "[24]\tvalidation_0-merror:0.62121\tvalidation_0-mlogloss:1.29977\tvalidation_1-merror:0.62125\tvalidation_1-mlogloss:1.29939\n",
      "[25]\tvalidation_0-merror:0.62121\tvalidation_0-mlogloss:1.29976\tvalidation_1-merror:0.62125\tvalidation_1-mlogloss:1.29938\n",
      "[26]\tvalidation_0-merror:0.62121\tvalidation_0-mlogloss:1.29975\tvalidation_1-merror:0.62125\tvalidation_1-mlogloss:1.29937\n",
      "[27]\tvalidation_0-merror:0.62121\tvalidation_0-mlogloss:1.29974\tvalidation_1-merror:0.62125\tvalidation_1-mlogloss:1.29937\n",
      "[28]\tvalidation_0-merror:0.62121\tvalidation_0-mlogloss:1.29973\tvalidation_1-merror:0.62125\tvalidation_1-mlogloss:1.29936\n",
      "[29]\tvalidation_0-merror:0.62121\tvalidation_0-mlogloss:1.29972\tvalidation_1-merror:0.62125\tvalidation_1-mlogloss:1.29935\n",
      "[30]\tvalidation_0-merror:0.62118\tvalidation_0-mlogloss:1.29972\tvalidation_1-merror:0.62122\tvalidation_1-mlogloss:1.29935\n",
      "[31]\tvalidation_0-merror:0.62118\tvalidation_0-mlogloss:1.29972\tvalidation_1-merror:0.62122\tvalidation_1-mlogloss:1.29935\n",
      "[32]\tvalidation_0-merror:0.62118\tvalidation_0-mlogloss:1.29971\tvalidation_1-merror:0.62122\tvalidation_1-mlogloss:1.29935\n",
      "[33]\tvalidation_0-merror:0.62118\tvalidation_0-mlogloss:1.29971\tvalidation_1-merror:0.62122\tvalidation_1-mlogloss:1.29934\n",
      "[34]\tvalidation_0-merror:0.62118\tvalidation_0-mlogloss:1.29971\tvalidation_1-merror:0.62122\tvalidation_1-mlogloss:1.29934\n",
      "[35]\tvalidation_0-merror:0.62118\tvalidation_0-mlogloss:1.29970\tvalidation_1-merror:0.62122\tvalidation_1-mlogloss:1.29934\n",
      "[36]\tvalidation_0-merror:0.62118\tvalidation_0-mlogloss:1.29970\tvalidation_1-merror:0.62122\tvalidation_1-mlogloss:1.29934\n",
      "[37]\tvalidation_0-merror:0.62118\tvalidation_0-mlogloss:1.29970\tvalidation_1-merror:0.62122\tvalidation_1-mlogloss:1.29934\n",
      "[38]\tvalidation_0-merror:0.62118\tvalidation_0-mlogloss:1.29970\tvalidation_1-merror:0.62122\tvalidation_1-mlogloss:1.29933\n",
      "[39]\tvalidation_0-merror:0.62118\tvalidation_0-mlogloss:1.29970\tvalidation_1-merror:0.62122\tvalidation_1-mlogloss:1.29933\n",
      "[40]\tvalidation_0-merror:0.62118\tvalidation_0-mlogloss:1.29970\tvalidation_1-merror:0.62122\tvalidation_1-mlogloss:1.29933\n",
      "[41]\tvalidation_0-merror:0.62118\tvalidation_0-mlogloss:1.29970\tvalidation_1-merror:0.62122\tvalidation_1-mlogloss:1.29933\n",
      "[42]\tvalidation_0-merror:0.62118\tvalidation_0-mlogloss:1.29969\tvalidation_1-merror:0.62122\tvalidation_1-mlogloss:1.29933\n",
      "[43]\tvalidation_0-merror:0.62118\tvalidation_0-mlogloss:1.29969\tvalidation_1-merror:0.62122\tvalidation_1-mlogloss:1.29933\n",
      "[44]\tvalidation_0-merror:0.62118\tvalidation_0-mlogloss:1.29969\tvalidation_1-merror:0.62122\tvalidation_1-mlogloss:1.29933\n",
      "[45]\tvalidation_0-merror:0.62118\tvalidation_0-mlogloss:1.29969\tvalidation_1-merror:0.62122\tvalidation_1-mlogloss:1.29933\n",
      "[46]\tvalidation_0-merror:0.62118\tvalidation_0-mlogloss:1.29969\tvalidation_1-merror:0.62122\tvalidation_1-mlogloss:1.29933\n",
      "[47]\tvalidation_0-merror:0.62118\tvalidation_0-mlogloss:1.29969\tvalidation_1-merror:0.62122\tvalidation_1-mlogloss:1.29933\n",
      "[48]\tvalidation_0-merror:0.62118\tvalidation_0-mlogloss:1.29969\tvalidation_1-merror:0.62122\tvalidation_1-mlogloss:1.29933\n",
      "[49]\tvalidation_0-merror:0.62118\tvalidation_0-mlogloss:1.29969\tvalidation_1-merror:0.62122\tvalidation_1-mlogloss:1.29933\n",
      "[50]\tvalidation_0-merror:0.62118\tvalidation_0-mlogloss:1.29969\tvalidation_1-merror:0.62122\tvalidation_1-mlogloss:1.29933\n",
      "[51]\tvalidation_0-merror:0.62118\tvalidation_0-mlogloss:1.29969\tvalidation_1-merror:0.62122\tvalidation_1-mlogloss:1.29933\n",
      "[52]\tvalidation_0-merror:0.62118\tvalidation_0-mlogloss:1.29969\tvalidation_1-merror:0.62122\tvalidation_1-mlogloss:1.29933\n",
      "[53]\tvalidation_0-merror:0.62118\tvalidation_0-mlogloss:1.29969\tvalidation_1-merror:0.62122\tvalidation_1-mlogloss:1.29933\n",
      "[54]\tvalidation_0-merror:0.62118\tvalidation_0-mlogloss:1.29969\tvalidation_1-merror:0.62122\tvalidation_1-mlogloss:1.29933\n",
      "[55]\tvalidation_0-merror:0.62118\tvalidation_0-mlogloss:1.29969\tvalidation_1-merror:0.62122\tvalidation_1-mlogloss:1.29933\n",
      "[56]\tvalidation_0-merror:0.62118\tvalidation_0-mlogloss:1.29969\tvalidation_1-merror:0.62122\tvalidation_1-mlogloss:1.29933\n",
      "[57]\tvalidation_0-merror:0.62118\tvalidation_0-mlogloss:1.29969\tvalidation_1-merror:0.62122\tvalidation_1-mlogloss:1.29933\n",
      "[58]\tvalidation_0-merror:0.62118\tvalidation_0-mlogloss:1.29969\tvalidation_1-merror:0.62122\tvalidation_1-mlogloss:1.29933\n",
      "[59]\tvalidation_0-merror:0.62118\tvalidation_0-mlogloss:1.29969\tvalidation_1-merror:0.62122\tvalidation_1-mlogloss:1.29933\n",
      "[60]\tvalidation_0-merror:0.62118\tvalidation_0-mlogloss:1.29969\tvalidation_1-merror:0.62122\tvalidation_1-mlogloss:1.29933\n",
      "[61]\tvalidation_0-merror:0.62118\tvalidation_0-mlogloss:1.29969\tvalidation_1-merror:0.62122\tvalidation_1-mlogloss:1.29933\n"
     ]
    },
    {
     "data": {
      "text/html": [
       "<style>#sk-container-id-5 {color: black;background-color: white;}#sk-container-id-5 pre{padding: 0;}#sk-container-id-5 div.sk-toggleable {background-color: white;}#sk-container-id-5 label.sk-toggleable__label {cursor: pointer;display: block;width: 100%;margin-bottom: 0;padding: 0.3em;box-sizing: border-box;text-align: center;}#sk-container-id-5 label.sk-toggleable__label-arrow:before {content: \"▸\";float: left;margin-right: 0.25em;color: #696969;}#sk-container-id-5 label.sk-toggleable__label-arrow:hover:before {color: black;}#sk-container-id-5 div.sk-estimator:hover label.sk-toggleable__label-arrow:before {color: black;}#sk-container-id-5 div.sk-toggleable__content {max-height: 0;max-width: 0;overflow: hidden;text-align: left;background-color: #f0f8ff;}#sk-container-id-5 div.sk-toggleable__content pre {margin: 0.2em;color: black;border-radius: 0.25em;background-color: #f0f8ff;}#sk-container-id-5 input.sk-toggleable__control:checked~div.sk-toggleable__content {max-height: 200px;max-width: 100%;overflow: auto;}#sk-container-id-5 input.sk-toggleable__control:checked~label.sk-toggleable__label-arrow:before {content: \"▾\";}#sk-container-id-5 div.sk-estimator input.sk-toggleable__control:checked~label.sk-toggleable__label {background-color: #d4ebff;}#sk-container-id-5 div.sk-label input.sk-toggleable__control:checked~label.sk-toggleable__label {background-color: #d4ebff;}#sk-container-id-5 input.sk-hidden--visually {border: 0;clip: rect(1px 1px 1px 1px);clip: rect(1px, 1px, 1px, 1px);height: 1px;margin: -1px;overflow: hidden;padding: 0;position: absolute;width: 1px;}#sk-container-id-5 div.sk-estimator {font-family: monospace;background-color: #f0f8ff;border: 1px dotted black;border-radius: 0.25em;box-sizing: border-box;margin-bottom: 0.5em;}#sk-container-id-5 div.sk-estimator:hover {background-color: #d4ebff;}#sk-container-id-5 div.sk-parallel-item::after {content: \"\";width: 100%;border-bottom: 1px solid gray;flex-grow: 1;}#sk-container-id-5 div.sk-label:hover label.sk-toggleable__label {background-color: #d4ebff;}#sk-container-id-5 div.sk-serial::before {content: \"\";position: absolute;border-left: 1px solid gray;box-sizing: border-box;top: 0;bottom: 0;left: 50%;z-index: 0;}#sk-container-id-5 div.sk-serial {display: flex;flex-direction: column;align-items: center;background-color: white;padding-right: 0.2em;padding-left: 0.2em;position: relative;}#sk-container-id-5 div.sk-item {position: relative;z-index: 1;}#sk-container-id-5 div.sk-parallel {display: flex;align-items: stretch;justify-content: center;background-color: white;position: relative;}#sk-container-id-5 div.sk-item::before, #sk-container-id-5 div.sk-parallel-item::before {content: \"\";position: absolute;border-left: 1px solid gray;box-sizing: border-box;top: 0;bottom: 0;left: 50%;z-index: -1;}#sk-container-id-5 div.sk-parallel-item {display: flex;flex-direction: column;z-index: 1;position: relative;background-color: white;}#sk-container-id-5 div.sk-parallel-item:first-child::after {align-self: flex-end;width: 50%;}#sk-container-id-5 div.sk-parallel-item:last-child::after {align-self: flex-start;width: 50%;}#sk-container-id-5 div.sk-parallel-item:only-child::after {width: 0;}#sk-container-id-5 div.sk-dashed-wrapped {border: 1px dashed gray;margin: 0 0.4em 0.5em 0.4em;box-sizing: border-box;padding-bottom: 0.4em;background-color: white;}#sk-container-id-5 div.sk-label label {font-family: monospace;font-weight: bold;display: inline-block;line-height: 1.2em;}#sk-container-id-5 div.sk-label-container {text-align: center;}#sk-container-id-5 div.sk-container {/* jupyter's `normalize.less` sets `[hidden] { display: none; }` but bootstrap.min.css set `[hidden] { display: none !important; }` so we also need the `!important` here to be able to override the default hidden behavior on the sphinx rendered scikit-learn.org. See: https://github.com/scikit-learn/scikit-learn/issues/21755 */display: inline-block !important;position: relative;}#sk-container-id-5 div.sk-text-repr-fallback {display: none;}</style><div id=\"sk-container-id-5\" class=\"sk-top-container\"><div class=\"sk-text-repr-fallback\"><pre>XGBClassifier(base_score=None, booster=None, callbacks=None,\n",
       "              colsample_bylevel=None, colsample_bynode=None,\n",
       "              colsample_bytree=None, early_stopping_rounds=10,\n",
       "              enable_categorical=False, eval_metric=[&#x27;merror&#x27;, &#x27;mlogloss&#x27;],\n",
       "              feature_types=None, gamma=None, gpu_id=None, grow_policy=None,\n",
       "              importance_type=None, interaction_constraints=None,\n",
       "              learning_rate=None, max_bin=None, max_cat_threshold=None,\n",
       "              max_cat_to_onehot=None, max_delta_step=None, max_depth=None,\n",
       "              max_leaves=None, min_child_weight=None, missing=1,\n",
       "              monotone_constraints=None, n_estimators=100, n_jobs=None,\n",
       "              num_class=3, num_parallel_tree=None, objective=&#x27;multi:softmax&#x27;, ...)</pre><b>In a Jupyter environment, please rerun this cell to show the HTML representation or trust the notebook. <br />On GitHub, the HTML representation is unable to render, please try loading this page with nbviewer.org.</b></div><div class=\"sk-container\" hidden><div class=\"sk-item\"><div class=\"sk-estimator sk-toggleable\"><input class=\"sk-toggleable__control sk-hidden--visually\" id=\"sk-estimator-id-5\" type=\"checkbox\" checked><label for=\"sk-estimator-id-5\" class=\"sk-toggleable__label sk-toggleable__label-arrow\">XGBClassifier</label><div class=\"sk-toggleable__content\"><pre>XGBClassifier(base_score=None, booster=None, callbacks=None,\n",
       "              colsample_bylevel=None, colsample_bynode=None,\n",
       "              colsample_bytree=None, early_stopping_rounds=10,\n",
       "              enable_categorical=False, eval_metric=[&#x27;merror&#x27;, &#x27;mlogloss&#x27;],\n",
       "              feature_types=None, gamma=None, gpu_id=None, grow_policy=None,\n",
       "              importance_type=None, interaction_constraints=None,\n",
       "              learning_rate=None, max_bin=None, max_cat_threshold=None,\n",
       "              max_cat_to_onehot=None, max_delta_step=None, max_depth=None,\n",
       "              max_leaves=None, min_child_weight=None, missing=1,\n",
       "              monotone_constraints=None, n_estimators=100, n_jobs=None,\n",
       "              num_class=3, num_parallel_tree=None, objective=&#x27;multi:softmax&#x27;, ...)</pre></div></div></div></div></div>"
      ],
      "text/plain": [
       "XGBClassifier(base_score=None, booster=None, callbacks=None,\n",
       "              colsample_bylevel=None, colsample_bynode=None,\n",
       "              colsample_bytree=None, early_stopping_rounds=10,\n",
       "              enable_categorical=False, eval_metric=['merror', 'mlogloss'],\n",
       "              feature_types=None, gamma=None, gpu_id=None, grow_policy=None,\n",
       "              importance_type=None, interaction_constraints=None,\n",
       "              learning_rate=None, max_bin=None, max_cat_threshold=None,\n",
       "              max_cat_to_onehot=None, max_delta_step=None, max_depth=None,\n",
       "              max_leaves=None, min_child_weight=None, missing=1,\n",
       "              monotone_constraints=None, n_estimators=100, n_jobs=None,\n",
       "              num_class=3, num_parallel_tree=None, objective='multi:softmax', ...)"
      ]
     },
     "execution_count": 225,
     "metadata": {},
     "output_type": "execute_result"
    }
   ],
   "source": [
    "xgb_clf = xgb.XGBClassifier(objective='multi:softmax', \n",
    "                            num_class=3, \n",
    "                            missing=1, \n",
    "                            early_stopping_rounds=10, \n",
    "                            eval_metric=['merror','mlogloss'], \n",
    "                            seed=42)\n",
    "xgb_clf.fit(X_train, \n",
    "            y_train,\n",
    "            verbose=1, # set to 1 to see xgb training round intermediate results\n",
    "            eval_set=[(X_train, y_train), (X_test, y_test)])"
   ]
  },
  {
   "cell_type": "code",
   "execution_count": 229,
   "id": "4be97554",
   "metadata": {},
   "outputs": [
    {
     "name": "stdout",
     "output_type": "stream",
     "text": [
      "\n",
      "------------------ Confusion Matrix -----------------\n",
      "\n",
      "[[98225  7507 20909 11245]\n",
      " [84059 11715 21322 25697]\n",
      " [65449  9684 31694 29377]\n",
      " [38982  7202 20229 66692]]\n",
      "\n",
      "-------------------- Key Metrics --------------------\n",
      "\n",
      "Accuracy: 0.3788\n",
      "Micro Precision: 0.3788\n",
      "Micro Recall: 0.3788\n",
      "Micro F1-score: 0.3788\n",
      "\n",
      "Macro Precision: 0.3763\n",
      "Macro Recall: 0.3820\n",
      "Macro F1-score: 0.3425\n",
      "\n",
      "Weighted Precision: 0.3748\n",
      "Weighted Recall: 0.3788\n",
      "Weighted F1-score: 0.3394\n",
      "\n",
      "--------------- Classification Report ---------------\n",
      "\n",
      "              precision    recall  f1-score   support\n",
      "\n",
      "           0       0.34      0.71      0.46    137886\n",
      "           1       0.32      0.08      0.13    142793\n",
      "           2       0.34      0.23      0.28    136204\n",
      "           3       0.50      0.50      0.50    133105\n",
      "\n",
      "    accuracy                           0.38    549988\n",
      "   macro avg       0.38      0.38      0.34    549988\n",
      "weighted avg       0.37      0.38      0.34    549988\n",
      "\n",
      "---------------------- XGBoost ----------------------\n"
     ]
    }
   ],
   "source": [
    "\n",
    "# preparing evaluation metric plots\n",
    "results = xgb_clf.evals_result()\n",
    "epochs = len(results['validation_0']['mlogloss'])\n",
    "x_axis = range(0, epochs)\n",
    "\n",
    "\n",
    "## ---------- Model Classification Report ----------\n",
    "## get predictions and create model quality report\n",
    "\n",
    "y_pred = xgb_clf.predict(X_test)\n",
    "\n",
    "print('\\n------------------ Confusion Matrix -----------------\\n')\n",
    "print(confusion_matrix(y_test, y_pred))\n",
    "\n",
    "print('\\n-------------------- Key Metrics --------------------')\n",
    "print('\\nAccuracy: {:.4f}'.format(accuracy_score(y_test, y_pred)))\n",
    "\n",
    "print('Micro Precision: {:.4f}'.format(precision_score(y_test, y_pred, average='micro')))\n",
    "print('Micro Recall: {:.4f}'.format(recall_score(y_test, y_pred, average='micro')))\n",
    "print('Micro F1-score: {:.4f}\\n'.format(f1_score(y_test, y_pred, average='micro')))\n",
    "\n",
    "print('Macro Precision: {:.4f}'.format(precision_score(y_test, y_pred, average='macro')))\n",
    "print('Macro Recall: {:.4f}'.format(recall_score(y_test, y_pred, average='macro')))\n",
    "print('Macro F1-score: {:.4f}\\n'.format(f1_score(y_test, y_pred, average='macro')))\n",
    "\n",
    "print('Weighted Precision: {:.4f}'.format(precision_score(y_test, y_pred, average='weighted')))\n",
    "print('Weighted Recall: {:.4f}'.format(recall_score(y_test, y_pred, average='weighted')))\n",
    "print('Weighted F1-score: {:.4f}'.format(f1_score(y_test, y_pred, average='weighted')))\n",
    "\n",
    "print('\\n--------------- Classification Report ---------------\\n')\n",
    "print(classification_report(y_test, y_pred))\n",
    "print('---------------------- XGBoost ----------------------') # unnecessary fancy styling"
   ]
  }
 ],
 "metadata": {
  "kernelspec": {
   "display_name": "tf2",
   "language": "python",
   "name": "tf2"
  },
  "language_info": {
   "codemirror_mode": {
    "name": "ipython",
    "version": 3
   },
   "file_extension": ".py",
   "mimetype": "text/x-python",
   "name": "python",
   "nbconvert_exporter": "python",
   "pygments_lexer": "ipython3",
   "version": "3.8.15"
  }
 },
 "nbformat": 4,
 "nbformat_minor": 5
}
