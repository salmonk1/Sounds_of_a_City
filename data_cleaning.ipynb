{
 "cells": [
  {
   "cell_type": "code",
   "execution_count": 1,
   "id": "78b3fdd5",
   "metadata": {},
   "outputs": [],
   "source": [
    "import os\n",
    "import re\n",
    "\n",
    "from sodapy import Socrata\n",
    "\n",
    "from tqdm import tqdm\n",
    "import time\n",
    "\n",
    "import pandas as pd\n",
    "import numpy as np\n",
    "import requests\n",
    "import matplotlib.pyplot as plt\n",
    "import seaborn as sns\n",
    "from pprint import pprint\n",
    "from sodapy import Socrata\n",
    "%matplotlib inline\n",
    "\n",
    "import scipy.stats as stats\n",
    "import math\n",
    "\n",
    "pd.set_option('display.max_rows', 1000)"
   ]
  },
  {
   "cell_type": "markdown",
   "id": "9b0831f2",
   "metadata": {},
   "source": [
    "This jupyter notebook is where I cleaned my property sales data and merged it with my noise data for each year. Below is what I did for 2020. I did this separately for each year following the same process. "
   ]
  },
  {
   "cell_type": "markdown",
   "id": "fde2b2bb",
   "metadata": {},
   "source": [
    "Start with Sales data"
   ]
  },
  {
   "cell_type": "markdown",
   "id": "7d3c40c4",
   "metadata": {},
   "source": [
    "Import each xlsx sheet for each of the 5 boroughs and concat."
   ]
  },
  {
   "cell_type": "code",
   "execution_count": 2,
   "id": "f0b2696c",
   "metadata": {},
   "outputs": [],
   "source": [
    "df1 = pd.read_excel('/Users/ksalmon/Desktop/GA/DSI20-lessons/projects/project-capstone/2020_staten_island.xlsx')"
   ]
  },
  {
   "cell_type": "code",
   "execution_count": 3,
   "id": "2339971e",
   "metadata": {},
   "outputs": [],
   "source": [
    "df2 = pd.read_excel('/Users/ksalmon/Desktop/GA/DSI20-lessons/projects/project-capstone/2020_bronx.xlsx')"
   ]
  },
  {
   "cell_type": "code",
   "execution_count": 4,
   "id": "fa4166a3",
   "metadata": {},
   "outputs": [],
   "source": [
    "df3 = pd.read_excel('/Users/ksalmon/Desktop/GA/DSI20-lessons/projects/project-capstone/2020_brooklyn.xlsx')"
   ]
  },
  {
   "cell_type": "code",
   "execution_count": 5,
   "id": "606bfc51",
   "metadata": {},
   "outputs": [],
   "source": [
    "df4 = pd.read_excel('/Users/ksalmon/Desktop/GA/DSI20-lessons/projects/project-capstone/2020_queens.xlsx')"
   ]
  },
  {
   "cell_type": "code",
   "execution_count": 6,
   "id": "a9bd8f8d",
   "metadata": {},
   "outputs": [],
   "source": [
    "df5 = pd.read_excel('/Users/ksalmon/Desktop/GA/DSI20-lessons/projects/project-capstone/2020_manhattan.xlsx')"
   ]
  },
  {
   "cell_type": "code",
   "execution_count": 7,
   "id": "71b1a536",
   "metadata": {},
   "outputs": [],
   "source": [
    "dfs = [df1, df2, df3, df4, df5]"
   ]
  },
  {
   "cell_type": "code",
   "execution_count": 8,
   "id": "4c9741d2",
   "metadata": {},
   "outputs": [
    {
     "data": {
      "text/html": [
       "<div>\n",
       "<style scoped>\n",
       "    .dataframe tbody tr th:only-of-type {\n",
       "        vertical-align: middle;\n",
       "    }\n",
       "\n",
       "    .dataframe tbody tr th {\n",
       "        vertical-align: top;\n",
       "    }\n",
       "\n",
       "    .dataframe thead th {\n",
       "        text-align: right;\n",
       "    }\n",
       "</style>\n",
       "<table border=\"1\" class=\"dataframe\">\n",
       "  <thead>\n",
       "    <tr style=\"text-align: right;\">\n",
       "      <th></th>\n",
       "      <th>BRONX ANNUAL SALES FOR CALENDAR YEAR 2020</th>\n",
       "      <th>Unnamed: 1</th>\n",
       "      <th>Unnamed: 2</th>\n",
       "      <th>Unnamed: 3</th>\n",
       "      <th>Unnamed: 4</th>\n",
       "      <th>Unnamed: 5</th>\n",
       "      <th>Unnamed: 6</th>\n",
       "      <th>Unnamed: 7</th>\n",
       "      <th>Unnamed: 8</th>\n",
       "      <th>Unnamed: 9</th>\n",
       "      <th>...</th>\n",
       "      <th>Unnamed: 11</th>\n",
       "      <th>Unnamed: 12</th>\n",
       "      <th>Unnamed: 13</th>\n",
       "      <th>Unnamed: 14</th>\n",
       "      <th>Unnamed: 15</th>\n",
       "      <th>Unnamed: 16</th>\n",
       "      <th>Unnamed: 17</th>\n",
       "      <th>Unnamed: 18</th>\n",
       "      <th>Unnamed: 19</th>\n",
       "      <th>Unnamed: 20</th>\n",
       "    </tr>\n",
       "  </thead>\n",
       "  <tbody>\n",
       "    <tr>\n",
       "      <th>0</th>\n",
       "      <td>All Sales From January 2020- December 2020. Pr...</td>\n",
       "      <td>NaN</td>\n",
       "      <td>NaN</td>\n",
       "      <td>NaN</td>\n",
       "      <td>NaN</td>\n",
       "      <td>NaN</td>\n",
       "      <td>NaN</td>\n",
       "      <td>NaN</td>\n",
       "      <td>NaN</td>\n",
       "      <td>NaN</td>\n",
       "      <td>...</td>\n",
       "      <td>NaN</td>\n",
       "      <td>NaN</td>\n",
       "      <td>NaN</td>\n",
       "      <td>NaN</td>\n",
       "      <td>NaN</td>\n",
       "      <td>NaN</td>\n",
       "      <td>NaN</td>\n",
       "      <td>NaN</td>\n",
       "      <td>NaN</td>\n",
       "      <td>NaN</td>\n",
       "    </tr>\n",
       "    <tr>\n",
       "      <th>1</th>\n",
       "      <td>For sales prior to the Final, Neighborhood Nam...</td>\n",
       "      <td>NaN</td>\n",
       "      <td>NaN</td>\n",
       "      <td>NaN</td>\n",
       "      <td>NaN</td>\n",
       "      <td>NaN</td>\n",
       "      <td>NaN</td>\n",
       "      <td>NaN</td>\n",
       "      <td>NaN</td>\n",
       "      <td>NaN</td>\n",
       "      <td>...</td>\n",
       "      <td>NaN</td>\n",
       "      <td>NaN</td>\n",
       "      <td>NaN</td>\n",
       "      <td>NaN</td>\n",
       "      <td>NaN</td>\n",
       "      <td>NaN</td>\n",
       "      <td>NaN</td>\n",
       "      <td>NaN</td>\n",
       "      <td>NaN</td>\n",
       "      <td>NaN</td>\n",
       "    </tr>\n",
       "    <tr>\n",
       "      <th>2</th>\n",
       "      <td>Sales after the Final Roll, Neighborhood Name ...</td>\n",
       "      <td>NaN</td>\n",
       "      <td>NaN</td>\n",
       "      <td>NaN</td>\n",
       "      <td>NaN</td>\n",
       "      <td>NaN</td>\n",
       "      <td>NaN</td>\n",
       "      <td>NaN</td>\n",
       "      <td>NaN</td>\n",
       "      <td>NaN</td>\n",
       "      <td>...</td>\n",
       "      <td>NaN</td>\n",
       "      <td>NaN</td>\n",
       "      <td>NaN</td>\n",
       "      <td>NaN</td>\n",
       "      <td>NaN</td>\n",
       "      <td>NaN</td>\n",
       "      <td>NaN</td>\n",
       "      <td>NaN</td>\n",
       "      <td>NaN</td>\n",
       "      <td>NaN</td>\n",
       "    </tr>\n",
       "    <tr>\n",
       "      <th>3</th>\n",
       "      <td>Building Class Category is based on Building C...</td>\n",
       "      <td>NaN</td>\n",
       "      <td>NaN</td>\n",
       "      <td>NaN</td>\n",
       "      <td>NaN</td>\n",
       "      <td>NaN</td>\n",
       "      <td>NaN</td>\n",
       "      <td>NaN</td>\n",
       "      <td>NaN</td>\n",
       "      <td>NaN</td>\n",
       "      <td>...</td>\n",
       "      <td>NaN</td>\n",
       "      <td>NaN</td>\n",
       "      <td>NaN</td>\n",
       "      <td>NaN</td>\n",
       "      <td>NaN</td>\n",
       "      <td>NaN</td>\n",
       "      <td>NaN</td>\n",
       "      <td>NaN</td>\n",
       "      <td>NaN</td>\n",
       "      <td>NaN</td>\n",
       "    </tr>\n",
       "    <tr>\n",
       "      <th>4</th>\n",
       "      <td>Note: Condominium and cooperative sales are on...</td>\n",
       "      <td>NaN</td>\n",
       "      <td>NaN</td>\n",
       "      <td>NaN</td>\n",
       "      <td>NaN</td>\n",
       "      <td>NaN</td>\n",
       "      <td>NaN</td>\n",
       "      <td>NaN</td>\n",
       "      <td>NaN</td>\n",
       "      <td>NaN</td>\n",
       "      <td>...</td>\n",
       "      <td>NaN</td>\n",
       "      <td>NaN</td>\n",
       "      <td>NaN</td>\n",
       "      <td>NaN</td>\n",
       "      <td>NaN</td>\n",
       "      <td>NaN</td>\n",
       "      <td>NaN</td>\n",
       "      <td>NaN</td>\n",
       "      <td>NaN</td>\n",
       "      <td>NaN</td>\n",
       "    </tr>\n",
       "    <tr>\n",
       "      <th>5</th>\n",
       "      <td>BOROUGH</td>\n",
       "      <td>NEIGHBORHOOD</td>\n",
       "      <td>BUILDING CLASS CATEGORY</td>\n",
       "      <td>TAX CLASS AT PRESENT</td>\n",
       "      <td>BLOCK</td>\n",
       "      <td>LOT</td>\n",
       "      <td>EASE-MENT</td>\n",
       "      <td>BUILDING CLASS AT PRESENT</td>\n",
       "      <td>ADDRESS</td>\n",
       "      <td>APARTMENT NUMBER</td>\n",
       "      <td>...</td>\n",
       "      <td>RESIDENTIAL\\nUNITS</td>\n",
       "      <td>COMMERCIAL\\nUNITS</td>\n",
       "      <td>TOTAL \\nUNITS</td>\n",
       "      <td>LAND \\nSQUARE FEET</td>\n",
       "      <td>GROSS \\nSQUARE FEET</td>\n",
       "      <td>YEAR BUILT</td>\n",
       "      <td>TAX CLASS AT TIME OF SALE</td>\n",
       "      <td>BUILDING CLASS\\nAT TIME OF SALE</td>\n",
       "      <td>SALE PRICE</td>\n",
       "      <td>SALE DATE</td>\n",
       "    </tr>\n",
       "    <tr>\n",
       "      <th>6</th>\n",
       "      <td>NaN</td>\n",
       "      <td>NaN</td>\n",
       "      <td>NaN</td>\n",
       "      <td>NaN</td>\n",
       "      <td>NaN</td>\n",
       "      <td>NaN</td>\n",
       "      <td>NaN</td>\n",
       "      <td>NaN</td>\n",
       "      <td>NaN</td>\n",
       "      <td>NaN</td>\n",
       "      <td>...</td>\n",
       "      <td>NaN</td>\n",
       "      <td>NaN</td>\n",
       "      <td>NaN</td>\n",
       "      <td>NaN</td>\n",
       "      <td>NaN</td>\n",
       "      <td>NaN</td>\n",
       "      <td>NaN</td>\n",
       "      <td>NaN</td>\n",
       "      <td>NaN</td>\n",
       "      <td>NaN</td>\n",
       "    </tr>\n",
       "    <tr>\n",
       "      <th>7</th>\n",
       "      <td>2</td>\n",
       "      <td>BATHGATE</td>\n",
       "      <td>01 ONE FAMILY DWELLINGS</td>\n",
       "      <td>1</td>\n",
       "      <td>3029</td>\n",
       "      <td>36</td>\n",
       "      <td>NaN</td>\n",
       "      <td>A5</td>\n",
       "      <td>418 EAST 180 STREET</td>\n",
       "      <td>NaN</td>\n",
       "      <td>...</td>\n",
       "      <td>1</td>\n",
       "      <td>0</td>\n",
       "      <td>1</td>\n",
       "      <td>1568</td>\n",
       "      <td>1526</td>\n",
       "      <td>1899</td>\n",
       "      <td>1</td>\n",
       "      <td>A5</td>\n",
       "      <td>0</td>\n",
       "      <td>2020-07-09 00:00:00</td>\n",
       "    </tr>\n",
       "  </tbody>\n",
       "</table>\n",
       "<p>8 rows × 21 columns</p>\n",
       "</div>"
      ],
      "text/plain": [
       "           BRONX ANNUAL SALES FOR CALENDAR YEAR 2020    Unnamed: 1  \\\n",
       "0  All Sales From January 2020- December 2020. Pr...           NaN   \n",
       "1  For sales prior to the Final, Neighborhood Nam...           NaN   \n",
       "2  Sales after the Final Roll, Neighborhood Name ...           NaN   \n",
       "3  Building Class Category is based on Building C...           NaN   \n",
       "4  Note: Condominium and cooperative sales are on...           NaN   \n",
       "5                                            BOROUGH  NEIGHBORHOOD   \n",
       "6                                                NaN           NaN   \n",
       "7                                                  2      BATHGATE   \n",
       "\n",
       "                Unnamed: 2            Unnamed: 3 Unnamed: 4 Unnamed: 5  \\\n",
       "0                      NaN                   NaN        NaN        NaN   \n",
       "1                      NaN                   NaN        NaN        NaN   \n",
       "2                      NaN                   NaN        NaN        NaN   \n",
       "3                      NaN                   NaN        NaN        NaN   \n",
       "4                      NaN                   NaN        NaN        NaN   \n",
       "5  BUILDING CLASS CATEGORY  TAX CLASS AT PRESENT      BLOCK        LOT   \n",
       "6                      NaN                   NaN        NaN        NaN   \n",
       "7  01 ONE FAMILY DWELLINGS                     1       3029         36   \n",
       "\n",
       "  Unnamed: 6                 Unnamed: 7           Unnamed: 8  \\\n",
       "0        NaN                        NaN                  NaN   \n",
       "1        NaN                        NaN                  NaN   \n",
       "2        NaN                        NaN                  NaN   \n",
       "3        NaN                        NaN                  NaN   \n",
       "4        NaN                        NaN                  NaN   \n",
       "5  EASE-MENT  BUILDING CLASS AT PRESENT              ADDRESS   \n",
       "6        NaN                        NaN                  NaN   \n",
       "7        NaN                         A5  418 EAST 180 STREET   \n",
       "\n",
       "         Unnamed: 9  ...         Unnamed: 11        Unnamed: 12  \\\n",
       "0               NaN  ...                 NaN                NaN   \n",
       "1               NaN  ...                 NaN                NaN   \n",
       "2               NaN  ...                 NaN                NaN   \n",
       "3               NaN  ...                 NaN                NaN   \n",
       "4               NaN  ...                 NaN                NaN   \n",
       "5  APARTMENT NUMBER  ...  RESIDENTIAL\\nUNITS  COMMERCIAL\\nUNITS   \n",
       "6               NaN  ...                 NaN                NaN   \n",
       "7               NaN  ...                   1                  0   \n",
       "\n",
       "     Unnamed: 13         Unnamed: 14          Unnamed: 15 Unnamed: 16  \\\n",
       "0            NaN                 NaN                  NaN         NaN   \n",
       "1            NaN                 NaN                  NaN         NaN   \n",
       "2            NaN                 NaN                  NaN         NaN   \n",
       "3            NaN                 NaN                  NaN         NaN   \n",
       "4            NaN                 NaN                  NaN         NaN   \n",
       "5  TOTAL \\nUNITS  LAND \\nSQUARE FEET  GROSS \\nSQUARE FEET  YEAR BUILT   \n",
       "6            NaN                 NaN                  NaN         NaN   \n",
       "7              1                1568                 1526        1899   \n",
       "\n",
       "                 Unnamed: 17                      Unnamed: 18 Unnamed: 19  \\\n",
       "0                        NaN                              NaN         NaN   \n",
       "1                        NaN                              NaN         NaN   \n",
       "2                        NaN                              NaN         NaN   \n",
       "3                        NaN                              NaN         NaN   \n",
       "4                        NaN                              NaN         NaN   \n",
       "5  TAX CLASS AT TIME OF SALE  BUILDING CLASS\\nAT TIME OF SALE  SALE PRICE   \n",
       "6                        NaN                              NaN         NaN   \n",
       "7                          1                               A5           0   \n",
       "\n",
       "           Unnamed: 20  \n",
       "0                  NaN  \n",
       "1                  NaN  \n",
       "2                  NaN  \n",
       "3                  NaN  \n",
       "4                  NaN  \n",
       "5            SALE DATE  \n",
       "6                  NaN  \n",
       "7  2020-07-09 00:00:00  \n",
       "\n",
       "[8 rows x 21 columns]"
      ]
     },
     "execution_count": 8,
     "metadata": {},
     "output_type": "execute_result"
    }
   ],
   "source": [
    "df2.head(8)"
   ]
  },
  {
   "cell_type": "markdown",
   "id": "c6afd7f4",
   "metadata": {},
   "source": [
    "Set column headers for each DF and combine into one DF."
   ]
  },
  {
   "cell_type": "code",
   "execution_count": 9,
   "id": "b594a6dd",
   "metadata": {},
   "outputs": [],
   "source": [
    "\n",
    "def get_heads(l):\n",
    "    appended_data = []\n",
    "    for x in l:\n",
    "        x.columns = x.iloc[5]\n",
    "        x = x[7:]\n",
    "        appended_data.append(x)\n",
    "    appended_data = pd.concat(appended_data)\n",
    "    return appended_data\n",
    "\n",
    "    "
   ]
  },
  {
   "cell_type": "code",
   "execution_count": 10,
   "id": "d2adb057",
   "metadata": {},
   "outputs": [],
   "source": [
    "all_dfs = get_heads(dfs)"
   ]
  },
  {
   "cell_type": "code",
   "execution_count": 11,
   "id": "4e95a6c1",
   "metadata": {},
   "outputs": [],
   "source": [
    "all_dfs.to_csv('/Users/ksalmon/Desktop/GA/DSI20-lessons/projects/project-capstone/sales2020_raw.csv')"
   ]
  },
  {
   "cell_type": "code",
   "execution_count": 12,
   "id": "1aec87d7",
   "metadata": {},
   "outputs": [
    {
     "data": {
      "text/plain": [
       "Index(['BOROUGH', 'NEIGHBORHOOD', 'BUILDING CLASS CATEGORY',\n",
       "       'TAX CLASS AT PRESENT', 'BLOCK', 'LOT', 'EASE-MENT',\n",
       "       'BUILDING CLASS AT PRESENT', 'ADDRESS', 'APARTMENT NUMBER', 'ZIP CODE',\n",
       "       'RESIDENTIAL\\nUNITS', 'COMMERCIAL\\nUNITS', 'TOTAL \\nUNITS',\n",
       "       'LAND \\nSQUARE FEET', 'GROSS \\nSQUARE FEET', 'YEAR BUILT',\n",
       "       'TAX CLASS AT TIME OF SALE', 'BUILDING CLASS\\nAT TIME OF SALE',\n",
       "       'SALE PRICE', 'SALE DATE'],\n",
       "      dtype='object', name=5)"
      ]
     },
     "execution_count": 12,
     "metadata": {},
     "output_type": "execute_result"
    }
   ],
   "source": [
    "all_dfs.columns"
   ]
  },
  {
   "cell_type": "code",
   "execution_count": 13,
   "id": "c919b439",
   "metadata": {},
   "outputs": [],
   "source": [
    "df = all_dfs.copy()"
   ]
  },
  {
   "cell_type": "markdown",
   "id": "7cdcf598",
   "metadata": {},
   "source": [
    "Now that I have 1 df, drop unnecessary cols and clean headers"
   ]
  },
  {
   "cell_type": "code",
   "execution_count": 14,
   "id": "087a2bb3",
   "metadata": {},
   "outputs": [],
   "source": [
    "# Rename cols, drop extraneous cols\n",
    "\n",
    "def init_clean(x):\n",
    "    x.columns = x.columns.str.replace('\\n', '', regex=True)\n",
    "    x.drop(columns=['BOROUGH', 'BLOCK','LOT', 'EASE-MENT', 'APARTMENT NUMBER','LAND SQUARE FEET',\n",
    "       'GROSS SQUARE FEET', 'BUILDING CLASSAT TIME OF SALE',\n",
    "                'YEAR BUILT', 'SALE DATE', 'TOTAL UNITS'], inplace=True)\n",
    "    return x\n",
    "    \n",
    "    \n",
    "    "
   ]
  },
  {
   "cell_type": "code",
   "execution_count": 15,
   "id": "9e83fa69",
   "metadata": {},
   "outputs": [],
   "source": [
    "df = init_clean(df)"
   ]
  },
  {
   "cell_type": "code",
   "execution_count": 16,
   "id": "5b4650e1",
   "metadata": {},
   "outputs": [
    {
     "data": {
      "text/html": [
       "<div>\n",
       "<style scoped>\n",
       "    .dataframe tbody tr th:only-of-type {\n",
       "        vertical-align: middle;\n",
       "    }\n",
       "\n",
       "    .dataframe tbody tr th {\n",
       "        vertical-align: top;\n",
       "    }\n",
       "\n",
       "    .dataframe thead th {\n",
       "        text-align: right;\n",
       "    }\n",
       "</style>\n",
       "<table border=\"1\" class=\"dataframe\">\n",
       "  <thead>\n",
       "    <tr style=\"text-align: right;\">\n",
       "      <th>5</th>\n",
       "      <th>NEIGHBORHOOD</th>\n",
       "      <th>BUILDING CLASS CATEGORY</th>\n",
       "      <th>TAX CLASS AT PRESENT</th>\n",
       "      <th>BUILDING CLASS AT PRESENT</th>\n",
       "      <th>ADDRESS</th>\n",
       "      <th>ZIP CODE</th>\n",
       "      <th>RESIDENTIALUNITS</th>\n",
       "      <th>COMMERCIALUNITS</th>\n",
       "      <th>TAX CLASS AT TIME OF SALE</th>\n",
       "      <th>SALE PRICE</th>\n",
       "    </tr>\n",
       "  </thead>\n",
       "  <tbody>\n",
       "    <tr>\n",
       "      <th>7</th>\n",
       "      <td>ANNADALE</td>\n",
       "      <td>01 ONE FAMILY DWELLINGS</td>\n",
       "      <td>1</td>\n",
       "      <td>A5</td>\n",
       "      <td>4726 AMBOY ROAD</td>\n",
       "      <td>10312</td>\n",
       "      <td>1</td>\n",
       "      <td>0</td>\n",
       "      <td>1</td>\n",
       "      <td>0</td>\n",
       "    </tr>\n",
       "    <tr>\n",
       "      <th>8</th>\n",
       "      <td>ANNADALE</td>\n",
       "      <td>01 ONE FAMILY DWELLINGS</td>\n",
       "      <td>1</td>\n",
       "      <td>A1</td>\n",
       "      <td>119 LENZIE STREET</td>\n",
       "      <td>10312</td>\n",
       "      <td>1</td>\n",
       "      <td>0</td>\n",
       "      <td>1</td>\n",
       "      <td>315000</td>\n",
       "    </tr>\n",
       "    <tr>\n",
       "      <th>9</th>\n",
       "      <td>ANNADALE</td>\n",
       "      <td>01 ONE FAMILY DWELLINGS</td>\n",
       "      <td>1</td>\n",
       "      <td>A1</td>\n",
       "      <td>118 ELMBANK STREET</td>\n",
       "      <td>10312</td>\n",
       "      <td>1</td>\n",
       "      <td>0</td>\n",
       "      <td>1</td>\n",
       "      <td>450000</td>\n",
       "    </tr>\n",
       "    <tr>\n",
       "      <th>10</th>\n",
       "      <td>ANNADALE</td>\n",
       "      <td>01 ONE FAMILY DWELLINGS</td>\n",
       "      <td>1</td>\n",
       "      <td>A1</td>\n",
       "      <td>7 SANDGAP STREET</td>\n",
       "      <td>10312</td>\n",
       "      <td>1</td>\n",
       "      <td>0</td>\n",
       "      <td>1</td>\n",
       "      <td>525000</td>\n",
       "    </tr>\n",
       "    <tr>\n",
       "      <th>11</th>\n",
       "      <td>ANNADALE</td>\n",
       "      <td>01 ONE FAMILY DWELLINGS</td>\n",
       "      <td>1</td>\n",
       "      <td>A5</td>\n",
       "      <td>91 EAGAN AVENUE</td>\n",
       "      <td>10312</td>\n",
       "      <td>1</td>\n",
       "      <td>0</td>\n",
       "      <td>1</td>\n",
       "      <td>480000</td>\n",
       "    </tr>\n",
       "    <tr>\n",
       "      <th>12</th>\n",
       "      <td>ANNADALE</td>\n",
       "      <td>01 ONE FAMILY DWELLINGS</td>\n",
       "      <td>1</td>\n",
       "      <td>A1</td>\n",
       "      <td>7 SEGUINE PLACE</td>\n",
       "      <td>10312</td>\n",
       "      <td>1</td>\n",
       "      <td>0</td>\n",
       "      <td>1</td>\n",
       "      <td>720000</td>\n",
       "    </tr>\n",
       "    <tr>\n",
       "      <th>13</th>\n",
       "      <td>ANNADALE</td>\n",
       "      <td>01 ONE FAMILY DWELLINGS</td>\n",
       "      <td>1</td>\n",
       "      <td>A5</td>\n",
       "      <td>44 MAY PLACE</td>\n",
       "      <td>10312</td>\n",
       "      <td>1</td>\n",
       "      <td>0</td>\n",
       "      <td>1</td>\n",
       "      <td>0</td>\n",
       "    </tr>\n",
       "    <tr>\n",
       "      <th>14</th>\n",
       "      <td>ANNADALE</td>\n",
       "      <td>01 ONE FAMILY DWELLINGS</td>\n",
       "      <td>1</td>\n",
       "      <td>A5</td>\n",
       "      <td>22 MAY PLACE</td>\n",
       "      <td>10312</td>\n",
       "      <td>1</td>\n",
       "      <td>0</td>\n",
       "      <td>1</td>\n",
       "      <td>0</td>\n",
       "    </tr>\n",
       "    <tr>\n",
       "      <th>15</th>\n",
       "      <td>ANNADALE</td>\n",
       "      <td>01 ONE FAMILY DWELLINGS</td>\n",
       "      <td>1</td>\n",
       "      <td>A5</td>\n",
       "      <td>60 SEGUINE PLACE</td>\n",
       "      <td>10312</td>\n",
       "      <td>1</td>\n",
       "      <td>0</td>\n",
       "      <td>1</td>\n",
       "      <td>429000</td>\n",
       "    </tr>\n",
       "    <tr>\n",
       "      <th>16</th>\n",
       "      <td>ANNADALE</td>\n",
       "      <td>01 ONE FAMILY DWELLINGS</td>\n",
       "      <td>1</td>\n",
       "      <td>A5</td>\n",
       "      <td>15 EAGAN AVENUE</td>\n",
       "      <td>10312</td>\n",
       "      <td>1</td>\n",
       "      <td>0</td>\n",
       "      <td>1</td>\n",
       "      <td>550000</td>\n",
       "    </tr>\n",
       "  </tbody>\n",
       "</table>\n",
       "</div>"
      ],
      "text/plain": [
       "5  NEIGHBORHOOD  BUILDING CLASS CATEGORY TAX CLASS AT PRESENT  \\\n",
       "7      ANNADALE  01 ONE FAMILY DWELLINGS                    1   \n",
       "8      ANNADALE  01 ONE FAMILY DWELLINGS                    1   \n",
       "9      ANNADALE  01 ONE FAMILY DWELLINGS                    1   \n",
       "10     ANNADALE  01 ONE FAMILY DWELLINGS                    1   \n",
       "11     ANNADALE  01 ONE FAMILY DWELLINGS                    1   \n",
       "12     ANNADALE  01 ONE FAMILY DWELLINGS                    1   \n",
       "13     ANNADALE  01 ONE FAMILY DWELLINGS                    1   \n",
       "14     ANNADALE  01 ONE FAMILY DWELLINGS                    1   \n",
       "15     ANNADALE  01 ONE FAMILY DWELLINGS                    1   \n",
       "16     ANNADALE  01 ONE FAMILY DWELLINGS                    1   \n",
       "\n",
       "5  BUILDING CLASS AT PRESENT             ADDRESS ZIP CODE RESIDENTIALUNITS  \\\n",
       "7                         A5     4726 AMBOY ROAD    10312                1   \n",
       "8                         A1   119 LENZIE STREET    10312                1   \n",
       "9                         A1  118 ELMBANK STREET    10312                1   \n",
       "10                        A1    7 SANDGAP STREET    10312                1   \n",
       "11                        A5     91 EAGAN AVENUE    10312                1   \n",
       "12                        A1     7 SEGUINE PLACE    10312                1   \n",
       "13                        A5        44 MAY PLACE    10312                1   \n",
       "14                        A5        22 MAY PLACE    10312                1   \n",
       "15                        A5    60 SEGUINE PLACE    10312                1   \n",
       "16                        A5     15 EAGAN AVENUE    10312                1   \n",
       "\n",
       "5  COMMERCIALUNITS TAX CLASS AT TIME OF SALE SALE PRICE  \n",
       "7                0                         1          0  \n",
       "8                0                         1     315000  \n",
       "9                0                         1     450000  \n",
       "10               0                         1     525000  \n",
       "11               0                         1     480000  \n",
       "12               0                         1     720000  \n",
       "13               0                         1          0  \n",
       "14               0                         1          0  \n",
       "15               0                         1     429000  \n",
       "16               0                         1     550000  "
      ]
     },
     "execution_count": 16,
     "metadata": {},
     "output_type": "execute_result"
    }
   ],
   "source": [
    "df.head(10)"
   ]
  },
  {
   "cell_type": "code",
   "execution_count": 17,
   "id": "0ac6c36e",
   "metadata": {},
   "outputs": [
    {
     "name": "stdout",
     "output_type": "stream",
     "text": [
      "<class 'pandas.core.frame.DataFrame'>\n",
      "Int64Index: 68684 entries, 7 to 12886\n",
      "Data columns (total 10 columns):\n",
      " #   Column                     Non-Null Count  Dtype \n",
      "---  ------                     --------------  ----- \n",
      " 0   NEIGHBORHOOD               68684 non-null  object\n",
      " 1   BUILDING CLASS CATEGORY    68684 non-null  object\n",
      " 2   TAX CLASS AT PRESENT       68644 non-null  object\n",
      " 3   BUILDING CLASS AT PRESENT  68644 non-null  object\n",
      " 4   ADDRESS                    68684 non-null  object\n",
      " 5   ZIP CODE                   68673 non-null  object\n",
      " 6   RESIDENTIALUNITS           55809 non-null  object\n",
      " 7   COMMERCIALUNITS            55809 non-null  object\n",
      " 8   TAX CLASS AT TIME OF SALE  68684 non-null  object\n",
      " 9   SALE PRICE                 68684 non-null  object\n",
      "dtypes: object(10)\n",
      "memory usage: 5.8+ MB\n"
     ]
    }
   ],
   "source": [
    "df.info()"
   ]
  },
  {
   "cell_type": "code",
   "execution_count": 18,
   "id": "c79a27ef",
   "metadata": {},
   "outputs": [],
   "source": [
    "#  Drop $0 sale prices\n",
    "df['SALE PRICE'] = df['SALE PRICE'].astype(int)"
   ]
  },
  {
   "cell_type": "code",
   "execution_count": 19,
   "id": "7c958d3e",
   "metadata": {},
   "outputs": [],
   "source": [
    "df = df[df['SALE PRICE'] != 0]"
   ]
  },
  {
   "cell_type": "code",
   "execution_count": 20,
   "id": "764b4893",
   "metadata": {},
   "outputs": [
    {
     "data": {
      "text/plain": [
       "array(['1', '1B', '4', '1A', '2', '1C', '2A', '2B', '2C', '1D', nan],\n",
       "      dtype=object)"
      ]
     },
     "execution_count": 20,
     "metadata": {},
     "output_type": "execute_result"
    }
   ],
   "source": [
    "df['TAX CLASS AT PRESENT'].unique()\n",
    "# Drop letters from numbers in order to convert to Ints and convert NaNs to 1"
   ]
  },
  {
   "cell_type": "code",
   "execution_count": 21,
   "id": "bf0532d4",
   "metadata": {},
   "outputs": [],
   "source": [
    "mask = df['TAX CLASS AT PRESENT'].isna()"
   ]
  },
  {
   "cell_type": "code",
   "execution_count": 22,
   "id": "c431b55b",
   "metadata": {},
   "outputs": [],
   "source": [
    "df = df[~mask]"
   ]
  },
  {
   "cell_type": "code",
   "execution_count": 23,
   "id": "6e0b03e6",
   "metadata": {},
   "outputs": [
    {
     "data": {
      "text/plain": [
       "1     19555\n",
       "2     18433\n",
       "4      2936\n",
       "2C     1554\n",
       "1A      863\n",
       "2A      703\n",
       "1B      518\n",
       "2B      249\n",
       "1C      115\n",
       "1D      108\n",
       "Name: TAX CLASS AT PRESENT, dtype: int64"
      ]
     },
     "execution_count": 23,
     "metadata": {},
     "output_type": "execute_result"
    }
   ],
   "source": [
    "df['TAX CLASS AT PRESENT'].value_counts()"
   ]
  },
  {
   "cell_type": "code",
   "execution_count": 24,
   "id": "993c3dd3",
   "metadata": {},
   "outputs": [],
   "source": [
    "# Drop letters from class\n",
    "df['TAX CLASS AT PRESENT'] = df['TAX CLASS AT PRESENT'].str.replace(r\"[a-zA-Z]\",'', regex=True)"
   ]
  },
  {
   "cell_type": "code",
   "execution_count": 25,
   "id": "15012ce9",
   "metadata": {},
   "outputs": [],
   "source": [
    "# convert to int and drop rows with 4 (class 4 isn't residential)\n",
    "df['TAX CLASS AT PRESENT'] = df['TAX CLASS AT PRESENT'].astype(int)"
   ]
  },
  {
   "cell_type": "code",
   "execution_count": 26,
   "id": "9ac2d1d0",
   "metadata": {},
   "outputs": [],
   "source": [
    "# Tax Classes 1 and 2 are residental properties, drop class 4 - these aren't residential\n",
    "df = df[df['TAX CLASS AT PRESENT'] != 4]"
   ]
  },
  {
   "cell_type": "code",
   "execution_count": 27,
   "id": "c65c8c20",
   "metadata": {},
   "outputs": [
    {
     "data": {
      "text/plain": [
       "array(['1', '2', '4'], dtype=object)"
      ]
     },
     "execution_count": 27,
     "metadata": {},
     "output_type": "execute_result"
    }
   ],
   "source": [
    "df['TAX CLASS AT TIME OF SALE'].unique()"
   ]
  },
  {
   "cell_type": "code",
   "execution_count": 28,
   "id": "8bc2d5ce",
   "metadata": {},
   "outputs": [],
   "source": [
    "df['TAX CLASS AT TIME OF SALE'] = df['TAX CLASS AT TIME OF SALE'].astype(int)"
   ]
  },
  {
   "cell_type": "code",
   "execution_count": 29,
   "id": "c6d4e7fa",
   "metadata": {},
   "outputs": [],
   "source": [
    "# Tax Classes 1 and 2 are residental properties, drop 4\n",
    "df = df[df['TAX CLASS AT TIME OF SALE'] != 4]"
   ]
  },
  {
   "cell_type": "code",
   "execution_count": 30,
   "id": "567c4dd2",
   "metadata": {},
   "outputs": [],
   "source": [
    "# Drop more columns\n",
    "df.drop(columns=['TAX CLASS AT PRESENT', 'TAX CLASS AT TIME OF SALE', 'BUILDING CLASS AT PRESENT'], axis=1, inplace=True)"
   ]
  },
  {
   "cell_type": "code",
   "execution_count": 31,
   "id": "71d48864",
   "metadata": {},
   "outputs": [
    {
     "name": "stdout",
     "output_type": "stream",
     "text": [
      "<class 'pandas.core.frame.DataFrame'>\n",
      "Int64Index: 42077 entries, 8 to 12877\n",
      "Data columns (total 7 columns):\n",
      " #   Column                   Non-Null Count  Dtype \n",
      "---  ------                   --------------  ----- \n",
      " 0   NEIGHBORHOOD             42077 non-null  object\n",
      " 1   BUILDING CLASS CATEGORY  42077 non-null  object\n",
      " 2   ADDRESS                  42077 non-null  object\n",
      " 3   ZIP CODE                 42077 non-null  object\n",
      " 4   RESIDENTIALUNITS         31060 non-null  object\n",
      " 5   COMMERCIALUNITS          31060 non-null  object\n",
      " 6   SALE PRICE               42077 non-null  int64 \n",
      "dtypes: int64(1), object(6)\n",
      "memory usage: 2.6+ MB\n"
     ]
    }
   ],
   "source": [
    "df.info()"
   ]
  },
  {
   "cell_type": "code",
   "execution_count": 32,
   "id": "00f676e9",
   "metadata": {},
   "outputs": [
    {
     "data": {
      "text/html": [
       "<div>\n",
       "<style scoped>\n",
       "    .dataframe tbody tr th:only-of-type {\n",
       "        vertical-align: middle;\n",
       "    }\n",
       "\n",
       "    .dataframe tbody tr th {\n",
       "        vertical-align: top;\n",
       "    }\n",
       "\n",
       "    .dataframe thead th {\n",
       "        text-align: right;\n",
       "    }\n",
       "</style>\n",
       "<table border=\"1\" class=\"dataframe\">\n",
       "  <thead>\n",
       "    <tr style=\"text-align: right;\">\n",
       "      <th>5</th>\n",
       "      <th>NEIGHBORHOOD</th>\n",
       "      <th>BUILDING CLASS CATEGORY</th>\n",
       "      <th>ADDRESS</th>\n",
       "      <th>ZIP CODE</th>\n",
       "      <th>RESIDENTIALUNITS</th>\n",
       "      <th>COMMERCIALUNITS</th>\n",
       "      <th>SALE PRICE</th>\n",
       "    </tr>\n",
       "  </thead>\n",
       "  <tbody>\n",
       "    <tr>\n",
       "      <th>8</th>\n",
       "      <td>ANNADALE</td>\n",
       "      <td>01 ONE FAMILY DWELLINGS</td>\n",
       "      <td>119 LENZIE STREET</td>\n",
       "      <td>10312</td>\n",
       "      <td>1</td>\n",
       "      <td>0</td>\n",
       "      <td>315000</td>\n",
       "    </tr>\n",
       "    <tr>\n",
       "      <th>9</th>\n",
       "      <td>ANNADALE</td>\n",
       "      <td>01 ONE FAMILY DWELLINGS</td>\n",
       "      <td>118 ELMBANK STREET</td>\n",
       "      <td>10312</td>\n",
       "      <td>1</td>\n",
       "      <td>0</td>\n",
       "      <td>450000</td>\n",
       "    </tr>\n",
       "    <tr>\n",
       "      <th>10</th>\n",
       "      <td>ANNADALE</td>\n",
       "      <td>01 ONE FAMILY DWELLINGS</td>\n",
       "      <td>7 SANDGAP STREET</td>\n",
       "      <td>10312</td>\n",
       "      <td>1</td>\n",
       "      <td>0</td>\n",
       "      <td>525000</td>\n",
       "    </tr>\n",
       "    <tr>\n",
       "      <th>11</th>\n",
       "      <td>ANNADALE</td>\n",
       "      <td>01 ONE FAMILY DWELLINGS</td>\n",
       "      <td>91 EAGAN AVENUE</td>\n",
       "      <td>10312</td>\n",
       "      <td>1</td>\n",
       "      <td>0</td>\n",
       "      <td>480000</td>\n",
       "    </tr>\n",
       "    <tr>\n",
       "      <th>12</th>\n",
       "      <td>ANNADALE</td>\n",
       "      <td>01 ONE FAMILY DWELLINGS</td>\n",
       "      <td>7 SEGUINE PLACE</td>\n",
       "      <td>10312</td>\n",
       "      <td>1</td>\n",
       "      <td>0</td>\n",
       "      <td>720000</td>\n",
       "    </tr>\n",
       "    <tr>\n",
       "      <th>15</th>\n",
       "      <td>ANNADALE</td>\n",
       "      <td>01 ONE FAMILY DWELLINGS</td>\n",
       "      <td>60 SEGUINE PLACE</td>\n",
       "      <td>10312</td>\n",
       "      <td>1</td>\n",
       "      <td>0</td>\n",
       "      <td>429000</td>\n",
       "    </tr>\n",
       "    <tr>\n",
       "      <th>16</th>\n",
       "      <td>ANNADALE</td>\n",
       "      <td>01 ONE FAMILY DWELLINGS</td>\n",
       "      <td>15 EAGAN AVENUE</td>\n",
       "      <td>10312</td>\n",
       "      <td>1</td>\n",
       "      <td>0</td>\n",
       "      <td>550000</td>\n",
       "    </tr>\n",
       "    <tr>\n",
       "      <th>17</th>\n",
       "      <td>ANNADALE</td>\n",
       "      <td>01 ONE FAMILY DWELLINGS</td>\n",
       "      <td>70 SEGUINE PLACE</td>\n",
       "      <td>10312</td>\n",
       "      <td>1</td>\n",
       "      <td>0</td>\n",
       "      <td>455500</td>\n",
       "    </tr>\n",
       "    <tr>\n",
       "      <th>18</th>\n",
       "      <td>ANNADALE</td>\n",
       "      <td>01 ONE FAMILY DWELLINGS</td>\n",
       "      <td>44 LUCY LOOP</td>\n",
       "      <td>10312</td>\n",
       "      <td>1</td>\n",
       "      <td>0</td>\n",
       "      <td>410670</td>\n",
       "    </tr>\n",
       "    <tr>\n",
       "      <th>19</th>\n",
       "      <td>ANNADALE</td>\n",
       "      <td>01 ONE FAMILY DWELLINGS</td>\n",
       "      <td>93 LORRAIN AVENUE</td>\n",
       "      <td>10312</td>\n",
       "      <td>1</td>\n",
       "      <td>0</td>\n",
       "      <td>520000</td>\n",
       "    </tr>\n",
       "  </tbody>\n",
       "</table>\n",
       "</div>"
      ],
      "text/plain": [
       "5  NEIGHBORHOOD  BUILDING CLASS CATEGORY             ADDRESS ZIP CODE  \\\n",
       "8      ANNADALE  01 ONE FAMILY DWELLINGS   119 LENZIE STREET    10312   \n",
       "9      ANNADALE  01 ONE FAMILY DWELLINGS  118 ELMBANK STREET    10312   \n",
       "10     ANNADALE  01 ONE FAMILY DWELLINGS    7 SANDGAP STREET    10312   \n",
       "11     ANNADALE  01 ONE FAMILY DWELLINGS     91 EAGAN AVENUE    10312   \n",
       "12     ANNADALE  01 ONE FAMILY DWELLINGS     7 SEGUINE PLACE    10312   \n",
       "15     ANNADALE  01 ONE FAMILY DWELLINGS    60 SEGUINE PLACE    10312   \n",
       "16     ANNADALE  01 ONE FAMILY DWELLINGS     15 EAGAN AVENUE    10312   \n",
       "17     ANNADALE  01 ONE FAMILY DWELLINGS    70 SEGUINE PLACE    10312   \n",
       "18     ANNADALE  01 ONE FAMILY DWELLINGS        44 LUCY LOOP    10312   \n",
       "19     ANNADALE  01 ONE FAMILY DWELLINGS   93 LORRAIN AVENUE    10312   \n",
       "\n",
       "5  RESIDENTIALUNITS COMMERCIALUNITS  SALE PRICE  \n",
       "8                 1               0      315000  \n",
       "9                 1               0      450000  \n",
       "10                1               0      525000  \n",
       "11                1               0      480000  \n",
       "12                1               0      720000  \n",
       "15                1               0      429000  \n",
       "16                1               0      550000  \n",
       "17                1               0      455500  \n",
       "18                1               0      410670  \n",
       "19                1               0      520000  "
      ]
     },
     "execution_count": 32,
     "metadata": {},
     "output_type": "execute_result"
    }
   ],
   "source": [
    "df.head(10)"
   ]
  },
  {
   "cell_type": "code",
   "execution_count": 33,
   "id": "3d8c28d6",
   "metadata": {},
   "outputs": [],
   "source": [
    "# The units with NaN for 'Residential Units' are single unit properties\n",
    "\n",
    "df.iloc[:,4] = df.iloc[:,4].replace(np.nan, 1)"
   ]
  },
  {
   "cell_type": "code",
   "execution_count": 34,
   "id": "f361941f",
   "metadata": {},
   "outputs": [],
   "source": [
    "# Rows with COMMERCIAL UNITS for NaN are the ones that are single unit residental properties\n",
    "df.iloc[:,5] = df.iloc[:,5].replace(np.nan, 0)"
   ]
  },
  {
   "cell_type": "code",
   "execution_count": 35,
   "id": "5c282b4d",
   "metadata": {},
   "outputs": [],
   "source": [
    "# Make unit cols integers\n",
    "cols = [4, 5]\n",
    "for x in cols:\n",
    "    df.iloc[:,x] = df.iloc[:,x].astype(int)"
   ]
  },
  {
   "cell_type": "code",
   "execution_count": 36,
   "id": "cd021d07",
   "metadata": {},
   "outputs": [],
   "source": [
    "# Drop sales with commercial units greater than 0\n",
    "mask = df['COMMERCIALUNITS'] > 0"
   ]
  },
  {
   "cell_type": "code",
   "execution_count": 37,
   "id": "ccb2ee95",
   "metadata": {},
   "outputs": [],
   "source": [
    "df = df[~mask]"
   ]
  },
  {
   "cell_type": "code",
   "execution_count": 38,
   "id": "4aeed31c",
   "metadata": {},
   "outputs": [],
   "source": [
    "# Fix Res Unit count where it was a single unit sale but the unit count is greater than 1. \n",
    "# These are incorrectly categorized"
   ]
  },
  {
   "cell_type": "code",
   "execution_count": 39,
   "id": "d5c345a4",
   "metadata": {},
   "outputs": [],
   "source": [
    "mask = (df.iloc[:,4] > 1) & (df.iloc[:,2].str.contains(\",\"))"
   ]
  },
  {
   "cell_type": "code",
   "execution_count": 40,
   "id": "54ddd263",
   "metadata": {},
   "outputs": [],
   "source": [
    "comma = df[mask] "
   ]
  },
  {
   "cell_type": "code",
   "execution_count": 41,
   "id": "15850668",
   "metadata": {},
   "outputs": [
    {
     "name": "stderr",
     "output_type": "stream",
     "text": [
      "/Users/ksalmon/opt/anaconda3/lib/python3.8/site-packages/pandas/core/indexing.py:1817: SettingWithCopyWarning: \n",
      "A value is trying to be set on a copy of a slice from a DataFrame.\n",
      "Try using .loc[row_indexer,col_indexer] = value instead\n",
      "\n",
      "See the caveats in the documentation: https://pandas.pydata.org/pandas-docs/stable/user_guide/indexing.html#returning-a-view-versus-a-copy\n",
      "  self._setitem_single_column(loc, value, pi)\n"
     ]
    }
   ],
   "source": [
    "# Units with commas, means there's a unit number in address so the sale was for a single unit. \n",
    "# In these cases where there is a number greater than 1 listed, then the sale is for a single unit and Res Unit needs \n",
    "# to be changed\n",
    "comma.loc[comma['RESIDENTIALUNITS'] > 1, 'RESIDENTIALUNITS'] = 1"
   ]
  },
  {
   "cell_type": "code",
   "execution_count": 42,
   "id": "471c8312",
   "metadata": {},
   "outputs": [],
   "source": [
    "no_comma = df[~mask]"
   ]
  },
  {
   "cell_type": "code",
   "execution_count": 43,
   "id": "bf25ecb8",
   "metadata": {},
   "outputs": [
    {
     "name": "stdout",
     "output_type": "stream",
     "text": [
      "<class 'pandas.core.frame.DataFrame'>\n",
      "Int64Index: 208 entries, 1218 to 12623\n",
      "Data columns (total 7 columns):\n",
      " #   Column                   Non-Null Count  Dtype \n",
      "---  ------                   --------------  ----- \n",
      " 0   NEIGHBORHOOD             208 non-null    object\n",
      " 1   BUILDING CLASS CATEGORY  208 non-null    object\n",
      " 2   ADDRESS                  208 non-null    object\n",
      " 3   ZIP CODE                 208 non-null    object\n",
      " 4   RESIDENTIALUNITS         208 non-null    int64 \n",
      " 5   COMMERCIALUNITS          208 non-null    int64 \n",
      " 6   SALE PRICE               208 non-null    int64 \n",
      "dtypes: int64(3), object(4)\n",
      "memory usage: 13.0+ KB\n"
     ]
    }
   ],
   "source": [
    "comma.info()"
   ]
  },
  {
   "cell_type": "code",
   "execution_count": 44,
   "id": "886e1895",
   "metadata": {
    "scrolled": true
   },
   "outputs": [
    {
     "name": "stdout",
     "output_type": "stream",
     "text": [
      "<class 'pandas.core.frame.DataFrame'>\n",
      "Int64Index: 41021 entries, 8 to 12877\n",
      "Data columns (total 7 columns):\n",
      " #   Column                   Non-Null Count  Dtype \n",
      "---  ------                   --------------  ----- \n",
      " 0   NEIGHBORHOOD             41021 non-null  object\n",
      " 1   BUILDING CLASS CATEGORY  41021 non-null  object\n",
      " 2   ADDRESS                  41021 non-null  object\n",
      " 3   ZIP CODE                 41021 non-null  object\n",
      " 4   RESIDENTIALUNITS         41021 non-null  int64 \n",
      " 5   COMMERCIALUNITS          41021 non-null  int64 \n",
      " 6   SALE PRICE               41021 non-null  int64 \n",
      "dtypes: int64(3), object(4)\n",
      "memory usage: 2.5+ MB\n"
     ]
    }
   ],
   "source": [
    "no_comma.info()"
   ]
  },
  {
   "cell_type": "markdown",
   "id": "03421e41",
   "metadata": {},
   "source": [
    "PPU = price per unit\n",
    "\n",
    "If 1 unit, then the sale price equals the price per unit. If multiple units, then divide sale price by number of residential units."
   ]
  },
  {
   "cell_type": "code",
   "execution_count": 45,
   "id": "616170de",
   "metadata": {},
   "outputs": [
    {
     "name": "stderr",
     "output_type": "stream",
     "text": [
      "<ipython-input-45-70436111192d>:1: SettingWithCopyWarning: \n",
      "A value is trying to be set on a copy of a slice from a DataFrame.\n",
      "Try using .loc[row_indexer,col_indexer] = value instead\n",
      "\n",
      "See the caveats in the documentation: https://pandas.pydata.org/pandas-docs/stable/user_guide/indexing.html#returning-a-view-versus-a-copy\n",
      "  comma['ppu'] = comma['SALE PRICE']\n"
     ]
    }
   ],
   "source": [
    "comma['ppu'] = comma['SALE PRICE']"
   ]
  },
  {
   "cell_type": "code",
   "execution_count": 46,
   "id": "c3b92eca",
   "metadata": {},
   "outputs": [
    {
     "name": "stderr",
     "output_type": "stream",
     "text": [
      "<ipython-input-46-da4ad689350b>:1: SettingWithCopyWarning: \n",
      "A value is trying to be set on a copy of a slice from a DataFrame.\n",
      "Try using .loc[row_indexer,col_indexer] = value instead\n",
      "\n",
      "See the caveats in the documentation: https://pandas.pydata.org/pandas-docs/stable/user_guide/indexing.html#returning-a-view-versus-a-copy\n",
      "  no_comma['ppu'] = no_comma['SALE PRICE'] / no_comma['RESIDENTIALUNITS']\n"
     ]
    }
   ],
   "source": [
    "no_comma['ppu'] = no_comma['SALE PRICE'] / no_comma['RESIDENTIALUNITS']"
   ]
  },
  {
   "cell_type": "code",
   "execution_count": 47,
   "id": "29afa72a",
   "metadata": {},
   "outputs": [],
   "source": [
    "frames = [comma, no_comma]\n",
    "\n",
    "r = pd.concat(frames)"
   ]
  },
  {
   "cell_type": "code",
   "execution_count": 48,
   "id": "a1ec8b59",
   "metadata": {},
   "outputs": [],
   "source": [
    "r.drop_duplicates(inplace=True)"
   ]
  },
  {
   "cell_type": "code",
   "execution_count": 49,
   "id": "6310aad6",
   "metadata": {},
   "outputs": [],
   "source": [
    "# Class 05 is for vacant lots some of which have now had houses built on them\n",
    "# Drop class 05 out of other classes in \"BUILDING CLASS CATEGORY\" where address contains N/A. \n",
    "# Also drop class 05 out of other classes in \"BUILDING CLASS CATEGORY\" where res units is 0"
   ]
  },
  {
   "cell_type": "code",
   "execution_count": 50,
   "id": "9a36a0a8",
   "metadata": {},
   "outputs": [
    {
     "data": {
      "text/html": [
       "<div>\n",
       "<style scoped>\n",
       "    .dataframe tbody tr th:only-of-type {\n",
       "        vertical-align: middle;\n",
       "    }\n",
       "\n",
       "    .dataframe tbody tr th {\n",
       "        vertical-align: top;\n",
       "    }\n",
       "\n",
       "    .dataframe thead th {\n",
       "        text-align: right;\n",
       "    }\n",
       "</style>\n",
       "<table border=\"1\" class=\"dataframe\">\n",
       "  <thead>\n",
       "    <tr style=\"text-align: right;\">\n",
       "      <th>5</th>\n",
       "      <th>NEIGHBORHOOD</th>\n",
       "      <th>BUILDING CLASS CATEGORY</th>\n",
       "      <th>ADDRESS</th>\n",
       "      <th>ZIP CODE</th>\n",
       "      <th>RESIDENTIALUNITS</th>\n",
       "      <th>COMMERCIALUNITS</th>\n",
       "      <th>SALE PRICE</th>\n",
       "      <th>ppu</th>\n",
       "    </tr>\n",
       "  </thead>\n",
       "  <tbody>\n",
       "    <tr>\n",
       "      <th>1218</th>\n",
       "      <td>CONCORD</td>\n",
       "      <td>02 TWO FAMILY DWELLINGS</td>\n",
       "      <td>664 RICHMOND ROAD, 4</td>\n",
       "      <td>10304</td>\n",
       "      <td>1</td>\n",
       "      <td>0</td>\n",
       "      <td>640000</td>\n",
       "      <td>640000.0</td>\n",
       "    </tr>\n",
       "    <tr>\n",
       "      <th>54</th>\n",
       "      <td>BATHGATE</td>\n",
       "      <td>11 SPECIAL CONDO BILLING LOTS</td>\n",
       "      <td>4215 PARK AVENUE, AFFOR</td>\n",
       "      <td>10457</td>\n",
       "      <td>1</td>\n",
       "      <td>0</td>\n",
       "      <td>10</td>\n",
       "      <td>10.0</td>\n",
       "    </tr>\n",
       "    <tr>\n",
       "      <th>1890</th>\n",
       "      <td>EAST TREMONT</td>\n",
       "      <td>11 SPECIAL CONDO BILLING LOTS</td>\n",
       "      <td>1926 CROTONA PARKWAY, RU</td>\n",
       "      <td>10460</td>\n",
       "      <td>1</td>\n",
       "      <td>0</td>\n",
       "      <td>5191770</td>\n",
       "      <td>5191770.0</td>\n",
       "    </tr>\n",
       "    <tr>\n",
       "      <th>2104</th>\n",
       "      <td>HIGHBRIDGE/MORRIS HEIGHTS</td>\n",
       "      <td>08 RENTALS - ELEVATOR APARTMENTS</td>\n",
       "      <td>1200 WOODYCREST AVENUE, 1-H</td>\n",
       "      <td>10452</td>\n",
       "      <td>1</td>\n",
       "      <td>0</td>\n",
       "      <td>30000</td>\n",
       "      <td>30000.0</td>\n",
       "    </tr>\n",
       "    <tr>\n",
       "      <th>2616</th>\n",
       "      <td>MELROSE/CONCOURSE</td>\n",
       "      <td>08 RENTALS - ELEVATOR APARTMENTS</td>\n",
       "      <td>1259 GRANT AVENUE, 10D</td>\n",
       "      <td>10456</td>\n",
       "      <td>1</td>\n",
       "      <td>0</td>\n",
       "      <td>125000</td>\n",
       "      <td>125000.0</td>\n",
       "    </tr>\n",
       "    <tr>\n",
       "      <th>3175</th>\n",
       "      <td>MORRISANIA/LONGWOOD</td>\n",
       "      <td>07 RENTALS - WALKUP APARTMENTS</td>\n",
       "      <td>847 FOX STREET, 1</td>\n",
       "      <td>10459</td>\n",
       "      <td>1</td>\n",
       "      <td>0</td>\n",
       "      <td>42670</td>\n",
       "      <td>42670.0</td>\n",
       "    </tr>\n",
       "    <tr>\n",
       "      <th>3176</th>\n",
       "      <td>MORRISANIA/LONGWOOD</td>\n",
       "      <td>07 RENTALS - WALKUP APARTMENTS</td>\n",
       "      <td>847 FOX STREET, 2</td>\n",
       "      <td>10459</td>\n",
       "      <td>1</td>\n",
       "      <td>0</td>\n",
       "      <td>42670</td>\n",
       "      <td>42670.0</td>\n",
       "    </tr>\n",
       "    <tr>\n",
       "      <th>3177</th>\n",
       "      <td>MORRISANIA/LONGWOOD</td>\n",
       "      <td>07 RENTALS - WALKUP APARTMENTS</td>\n",
       "      <td>847 FOX STREET, 3</td>\n",
       "      <td>10459</td>\n",
       "      <td>1</td>\n",
       "      <td>0</td>\n",
       "      <td>42670</td>\n",
       "      <td>42670.0</td>\n",
       "    </tr>\n",
       "    <tr>\n",
       "      <th>3178</th>\n",
       "      <td>MORRISANIA/LONGWOOD</td>\n",
       "      <td>07 RENTALS - WALKUP APARTMENTS</td>\n",
       "      <td>847 FOX STREET, 4</td>\n",
       "      <td>10459</td>\n",
       "      <td>1</td>\n",
       "      <td>0</td>\n",
       "      <td>42670</td>\n",
       "      <td>42670.0</td>\n",
       "    </tr>\n",
       "    <tr>\n",
       "      <th>3179</th>\n",
       "      <td>MORRISANIA/LONGWOOD</td>\n",
       "      <td>07 RENTALS - WALKUP APARTMENTS</td>\n",
       "      <td>847 FOX STREET, 5</td>\n",
       "      <td>10459</td>\n",
       "      <td>1</td>\n",
       "      <td>0</td>\n",
       "      <td>42670</td>\n",
       "      <td>42670.0</td>\n",
       "    </tr>\n",
       "  </tbody>\n",
       "</table>\n",
       "</div>"
      ],
      "text/plain": [
       "5                  NEIGHBORHOOD           BUILDING CLASS CATEGORY  \\\n",
       "1218                    CONCORD           02 TWO FAMILY DWELLINGS   \n",
       "54                     BATHGATE     11 SPECIAL CONDO BILLING LOTS   \n",
       "1890               EAST TREMONT     11 SPECIAL CONDO BILLING LOTS   \n",
       "2104  HIGHBRIDGE/MORRIS HEIGHTS  08 RENTALS - ELEVATOR APARTMENTS   \n",
       "2616          MELROSE/CONCOURSE  08 RENTALS - ELEVATOR APARTMENTS   \n",
       "3175        MORRISANIA/LONGWOOD    07 RENTALS - WALKUP APARTMENTS   \n",
       "3176        MORRISANIA/LONGWOOD    07 RENTALS - WALKUP APARTMENTS   \n",
       "3177        MORRISANIA/LONGWOOD    07 RENTALS - WALKUP APARTMENTS   \n",
       "3178        MORRISANIA/LONGWOOD    07 RENTALS - WALKUP APARTMENTS   \n",
       "3179        MORRISANIA/LONGWOOD    07 RENTALS - WALKUP APARTMENTS   \n",
       "\n",
       "5                         ADDRESS ZIP CODE  RESIDENTIALUNITS  COMMERCIALUNITS  \\\n",
       "1218         664 RICHMOND ROAD, 4    10304                 1                0   \n",
       "54        4215 PARK AVENUE, AFFOR    10457                 1                0   \n",
       "1890     1926 CROTONA PARKWAY, RU    10460                 1                0   \n",
       "2104  1200 WOODYCREST AVENUE, 1-H    10452                 1                0   \n",
       "2616       1259 GRANT AVENUE, 10D    10456                 1                0   \n",
       "3175            847 FOX STREET, 1    10459                 1                0   \n",
       "3176            847 FOX STREET, 2    10459                 1                0   \n",
       "3177            847 FOX STREET, 3    10459                 1                0   \n",
       "3178            847 FOX STREET, 4    10459                 1                0   \n",
       "3179            847 FOX STREET, 5    10459                 1                0   \n",
       "\n",
       "5     SALE PRICE        ppu  \n",
       "1218      640000   640000.0  \n",
       "54            10       10.0  \n",
       "1890     5191770  5191770.0  \n",
       "2104       30000    30000.0  \n",
       "2616      125000   125000.0  \n",
       "3175       42670    42670.0  \n",
       "3176       42670    42670.0  \n",
       "3177       42670    42670.0  \n",
       "3178       42670    42670.0  \n",
       "3179       42670    42670.0  "
      ]
     },
     "execution_count": 50,
     "metadata": {},
     "output_type": "execute_result"
    }
   ],
   "source": [
    "r.head(10)"
   ]
  },
  {
   "cell_type": "code",
   "execution_count": 52,
   "id": "62e9107a",
   "metadata": {},
   "outputs": [],
   "source": [
    "# No specific house numbers in this subset, so drop them.\n",
    "mask = r[\"BUILDING CLASS CATEGORY\"].str.contains(\"05\") & r[\"ADDRESS\"].str.contains(\"N/A\")"
   ]
  },
  {
   "cell_type": "code",
   "execution_count": 53,
   "id": "cea605d2",
   "metadata": {},
   "outputs": [],
   "source": [
    "r = r[~mask]"
   ]
  },
  {
   "cell_type": "code",
   "execution_count": 54,
   "id": "76c19ae2",
   "metadata": {},
   "outputs": [],
   "source": [
    "# These are vacant lots\n",
    "mask2 = (r[\"BUILDING CLASS CATEGORY\"].str.contains(\"05\")) & (r['RESIDENTIALUNITS'] == 0)"
   ]
  },
  {
   "cell_type": "code",
   "execution_count": 55,
   "id": "ef05be60",
   "metadata": {},
   "outputs": [],
   "source": [
    "r = r[~mask2]"
   ]
  },
  {
   "cell_type": "code",
   "execution_count": 56,
   "id": "ac9a6e13",
   "metadata": {},
   "outputs": [],
   "source": [
    "# 06 = 06 TAX CLASS 1 - OTHER"
   ]
  },
  {
   "cell_type": "code",
   "execution_count": 57,
   "id": "1eb5cf71",
   "metadata": {},
   "outputs": [],
   "source": [
    "# No house numbers in these addresses\n",
    "mask3 = r[\"BUILDING CLASS CATEGORY\"].str.contains(\"06 TAX CLASS 1 - OTHER\") & r[\"ADDRESS\"].str.contains(\"N/A\")"
   ]
  },
  {
   "cell_type": "code",
   "execution_count": 58,
   "id": "9a7747db",
   "metadata": {},
   "outputs": [],
   "source": [
    "r = r[~mask3]"
   ]
  },
  {
   "cell_type": "code",
   "execution_count": 59,
   "id": "77059c24",
   "metadata": {},
   "outputs": [],
   "source": [
    "r.loc[r['RESIDENTIALUNITS'] == 0, 'RESIDENTIALUNITS'] = 1"
   ]
  },
  {
   "cell_type": "code",
   "execution_count": 60,
   "id": "0f579530",
   "metadata": {},
   "outputs": [],
   "source": [
    "mask1 = r['RESIDENTIALUNITS'] == 1"
   ]
  },
  {
   "cell_type": "code",
   "execution_count": 61,
   "id": "28db65d8",
   "metadata": {},
   "outputs": [],
   "source": [
    "one_unit = r[mask1]"
   ]
  },
  {
   "cell_type": "code",
   "execution_count": 62,
   "id": "b9e82b53",
   "metadata": {},
   "outputs": [],
   "source": [
    "multi_unit = r[~mask1]"
   ]
  },
  {
   "cell_type": "code",
   "execution_count": 63,
   "id": "112cc0cd",
   "metadata": {},
   "outputs": [
    {
     "name": "stderr",
     "output_type": "stream",
     "text": [
      "<ipython-input-63-ec16912a3cd6>:1: SettingWithCopyWarning: \n",
      "A value is trying to be set on a copy of a slice from a DataFrame.\n",
      "Try using .loc[row_indexer,col_indexer] = value instead\n",
      "\n",
      "See the caveats in the documentation: https://pandas.pydata.org/pandas-docs/stable/user_guide/indexing.html#returning-a-view-versus-a-copy\n",
      "  one_unit['ppu'] = one_unit['SALE PRICE']\n"
     ]
    }
   ],
   "source": [
    "one_unit['ppu'] = one_unit['SALE PRICE']"
   ]
  },
  {
   "cell_type": "code",
   "execution_count": 64,
   "id": "77ceb59d",
   "metadata": {},
   "outputs": [],
   "source": [
    "dfs = [one_unit, multi_unit]"
   ]
  },
  {
   "cell_type": "code",
   "execution_count": 65,
   "id": "a717ce59",
   "metadata": {},
   "outputs": [],
   "source": [
    "final = pd.concat(dfs)"
   ]
  },
  {
   "cell_type": "code",
   "execution_count": 66,
   "id": "0e7948a9",
   "metadata": {},
   "outputs": [
    {
     "data": {
      "text/plain": [
       "685000.0"
      ]
     },
     "execution_count": 66,
     "metadata": {},
     "output_type": "execute_result"
    }
   ],
   "source": [
    "final['SALE PRICE'].median()"
   ]
  },
  {
   "cell_type": "code",
   "execution_count": 67,
   "id": "2a3af2ab",
   "metadata": {},
   "outputs": [
    {
     "data": {
      "text/plain": [
       "<AxesSubplot:xlabel='SALE PRICE'>"
      ]
     },
     "execution_count": 67,
     "metadata": {},
     "output_type": "execute_result"
    },
    {
     "data": {
      "image/png": "[encoded data removed]",
      "text/plain": [
       "<Figure size 432x288 with 1 Axes>"
      ]
     },
     "metadata": {
      "needs_background": "light"
     },
     "output_type": "display_data"
    }
   ],
   "source": [
    "sns.boxplot(x=final['SALE PRICE'])"
   ]
  },
  {
   "cell_type": "code",
   "execution_count": 68,
   "id": "1560f068",
   "metadata": {},
   "outputs": [
    {
     "data": {
      "text/plain": [
       "<AxesSubplot:ylabel='ppu'>"
      ]
     },
     "execution_count": 68,
     "metadata": {},
     "output_type": "execute_result"
    },
    {
     "data": {
      "image/png": "[encoded data removed]",
      "text/plain": [
       "<Figure size 432x288 with 1 Axes>"
      ]
     },
     "metadata": {
      "needs_background": "light"
     },
     "output_type": "display_data"
    }
   ],
   "source": [
    "sns.scatterplot(data=final['ppu'])"
   ]
  },
  {
   "cell_type": "code",
   "execution_count": 69,
   "id": "f4f447f5",
   "metadata": {
    "scrolled": true
   },
   "outputs": [
    {
     "data": {
      "text/plain": [
       "<AxesSubplot:xlabel='ppu'>"
      ]
     },
     "execution_count": 69,
     "metadata": {},
     "output_type": "execute_result"
    },
    {
     "data": {
      "image/png": "[encoded data removed]",
      "text/plain": [
       "<Figure size 432x288 with 1 Axes>"
      ]
     },
     "metadata": {
      "needs_background": "light"
     },
     "output_type": "display_data"
    }
   ],
   "source": [
    "sns.boxplot(x=final['ppu'])"
   ]
  },
  {
   "cell_type": "code",
   "execution_count": null,
   "id": "e6d68a33",
   "metadata": {},
   "outputs": [],
   "source": [
    "# Make column for year and map a 'zipyear' column - this will be the column to merge on."
   ]
  },
  {
   "cell_type": "code",
   "execution_count": 70,
   "id": "7883c80e",
   "metadata": {},
   "outputs": [],
   "source": [
    "final['year'] = '2020'"
   ]
  },
  {
   "cell_type": "code",
   "execution_count": 71,
   "id": "bf5b0cfe",
   "metadata": {},
   "outputs": [],
   "source": [
    "final['zipyear'] = final['ZIP CODE'].astype(str) + final['year'].astype(str)"
   ]
  },
  {
   "cell_type": "code",
   "execution_count": 72,
   "id": "1381d8d5",
   "metadata": {},
   "outputs": [],
   "source": [
    "final.reset_index(inplace=True)"
   ]
  },
  {
   "cell_type": "code",
   "execution_count": 73,
   "id": "0f798835",
   "metadata": {},
   "outputs": [],
   "source": [
    "final.to_csv('/Users/ksalmon/Desktop/GA/DSI20-lessons/projects/project-capstone/final_sales2020.csv')"
   ]
  },
  {
   "cell_type": "code",
   "execution_count": 74,
   "id": "64178439",
   "metadata": {},
   "outputs": [],
   "source": [
    "data=final.groupby('zipyear', as_index=False)['ppu'].mean()"
   ]
  },
  {
   "cell_type": "code",
   "execution_count": 75,
   "id": "7e617ecf",
   "metadata": {},
   "outputs": [
    {
     "data": {
      "text/html": [
       "<div>\n",
       "<style scoped>\n",
       "    .dataframe tbody tr th:only-of-type {\n",
       "        vertical-align: middle;\n",
       "    }\n",
       "\n",
       "    .dataframe tbody tr th {\n",
       "        vertical-align: top;\n",
       "    }\n",
       "\n",
       "    .dataframe thead th {\n",
       "        text-align: right;\n",
       "    }\n",
       "</style>\n",
       "<table border=\"1\" class=\"dataframe\">\n",
       "  <thead>\n",
       "    <tr style=\"text-align: right;\">\n",
       "      <th>5</th>\n",
       "      <th>ppu</th>\n",
       "    </tr>\n",
       "  </thead>\n",
       "  <tbody>\n",
       "    <tr>\n",
       "      <th>count</th>\n",
       "      <td>1.820000e+02</td>\n",
       "    </tr>\n",
       "    <tr>\n",
       "      <th>mean</th>\n",
       "      <td>1.047987e+06</td>\n",
       "    </tr>\n",
       "    <tr>\n",
       "      <th>std</th>\n",
       "      <td>1.531103e+06</td>\n",
       "    </tr>\n",
       "    <tr>\n",
       "      <th>min</th>\n",
       "      <td>2.261435e+05</td>\n",
       "    </tr>\n",
       "    <tr>\n",
       "      <th>25%</th>\n",
       "      <td>4.607006e+05</td>\n",
       "    </tr>\n",
       "    <tr>\n",
       "      <th>50%</th>\n",
       "      <td>5.645313e+05</td>\n",
       "    </tr>\n",
       "    <tr>\n",
       "      <th>75%</th>\n",
       "      <td>1.008851e+06</td>\n",
       "    </tr>\n",
       "    <tr>\n",
       "      <th>max</th>\n",
       "      <td>1.335516e+07</td>\n",
       "    </tr>\n",
       "  </tbody>\n",
       "</table>\n",
       "</div>"
      ],
      "text/plain": [
       "5               ppu\n",
       "count  1.820000e+02\n",
       "mean   1.047987e+06\n",
       "std    1.531103e+06\n",
       "min    2.261435e+05\n",
       "25%    4.607006e+05\n",
       "50%    5.645313e+05\n",
       "75%    1.008851e+06\n",
       "max    1.335516e+07"
      ]
     },
     "execution_count": 75,
     "metadata": {},
     "output_type": "execute_result"
    }
   ],
   "source": [
    "data.describe()"
   ]
  },
  {
   "cell_type": "code",
   "execution_count": 76,
   "id": "fe4bc377",
   "metadata": {},
   "outputs": [
    {
     "data": {
      "text/plain": [
       "<AxesSubplot:xlabel='zipyear', ylabel='ppu'>"
      ]
     },
     "execution_count": 76,
     "metadata": {},
     "output_type": "execute_result"
    },
    {
     "data": {
      "image/png": "[encoded data removed]",
      "text/plain": [
       "<Figure size 432x288 with 1 Axes>"
      ]
     },
     "metadata": {
      "needs_background": "light"
     },
     "output_type": "display_data"
    }
   ],
   "source": [
    "sns.scatterplot(data=data, x='zipyear', y='ppu')"
   ]
  },
  {
   "cell_type": "code",
   "execution_count": 77,
   "id": "432b1633",
   "metadata": {},
   "outputs": [
    {
     "data": {
      "text/plain": [
       "<AxesSubplot:xlabel='ppu', ylabel='Count'>"
      ]
     },
     "execution_count": 77,
     "metadata": {},
     "output_type": "execute_result"
    },
    {
     "data": {
      "image/png": "[encoded data removed]",
      "text/plain": [
       "<Figure size 432x288 with 1 Axes>"
      ]
     },
     "metadata": {
      "needs_background": "light"
     },
     "output_type": "display_data"
    }
   ],
   "source": [
    "sns.histplot(data=data, x='ppu')"
   ]
  },
  {
   "cell_type": "markdown",
   "id": "0090d7d8",
   "metadata": {},
   "source": [
    "Import Noise data"
   ]
  },
  {
   "cell_type": "code",
   "execution_count": 78,
   "id": "cc671f42",
   "metadata": {},
   "outputs": [],
   "source": [
    "# client = Socrata(socrata_domain, socrata_token, timeout=1200)\n",
    "# print(\"DOmain: {domain:}\\Session: {session:}\\nURI Prefix: {uri_prefix:}\".format(**client.__dict__))"
   ]
  },
  {
   "cell_type": "code",
   "execution_count": 80,
   "id": "a459ef7f",
   "metadata": {},
   "outputs": [],
   "source": [
    "# # Example authenticated client (needed for non-public datasets):\n",
    "client = Socrata('data.cityofnewyork.us',\n",
    "                 'Jw65edb1uRRISIi9kxEkA4KMS',\n",
    "                 username=\"salmon.katie@gmail.com\",\n",
    "                 password=\"gp4FafBvdYgQ*x\",\n",
    "                timeout=1200)\n",
    "\n",
    "# All results, returned as JSON from API / converted to Python list of\n",
    "# dictionaries by sodapy.\n",
    "results = client.get(\"365v-6chq\", limit=801000)"
   ]
  },
  {
   "cell_type": "code",
   "execution_count": null,
   "id": "18b61a87",
   "metadata": {},
   "outputs": [],
   "source": [
    "results_df = pd.DataFrame.from_records(results)"
   ]
  },
  {
   "cell_type": "markdown",
   "id": "fbc99343",
   "metadata": {},
   "source": [
    "I briefly looked into differences in noise counts over the months and weeks."
   ]
  },
  {
   "cell_type": "code",
   "execution_count": null,
   "id": "b5e2f6eb",
   "metadata": {},
   "outputs": [],
   "source": [
    "# results_df['year'] = results_df.date.dt.year\n",
    "# results_df['month'] = results_df.date.dt.month"
   ]
  },
  {
   "cell_type": "code",
   "execution_count": null,
   "id": "7517b5b7",
   "metadata": {},
   "outputs": [],
   "source": [
    "# results_df['week'] = results_df.date.dt.week"
   ]
  },
  {
   "cell_type": "code",
   "execution_count": null,
   "id": "780e60ba",
   "metadata": {},
   "outputs": [],
   "source": [
    "# x = pd.read_csv('/Users/ksalmon/Desktop/GA/DSI20-lessons/projects/project-capstone/Sales_Zip/Noise_2019.csv')"
   ]
  },
  {
   "cell_type": "code",
   "execution_count": null,
   "id": "c389b36b",
   "metadata": {},
   "outputs": [],
   "source": [
    "# x['date'] = pd.to_datetime(x['Created Date'])"
   ]
  },
  {
   "cell_type": "code",
   "execution_count": null,
   "id": "7c4cfc3c",
   "metadata": {},
   "outputs": [],
   "source": [
    "# x['year'] = x.date.dt.year\n",
    "# x['month'] = x.date.dt.month"
   ]
  },
  {
   "cell_type": "code",
   "execution_count": null,
   "id": "e792fcf6",
   "metadata": {},
   "outputs": [],
   "source": [
    "results_df.head()"
   ]
  },
  {
   "cell_type": "code",
   "execution_count": null,
   "id": "b1202f3c",
   "metadata": {},
   "outputs": [],
   "source": [
    "n = results_df.copy()"
   ]
  },
  {
   "cell_type": "code",
   "execution_count": null,
   "id": "f3411ac9",
   "metadata": {},
   "outputs": [],
   "source": [
    "# Drop cols \n",
    "drop_cols = ['created_date', 'location', 'city',\n",
    "       'cross_street_2', 'closed_date', 'park_facility_name',\n",
    "       'intersection_street_1', 'landmark', 'agency_name', 'latitude',\n",
    "       'x_coordinate_state_plane', 'resolution_description',\n",
    "       'incident_address', 'location_type', 'cross_street_1',\n",
    "       'community_board', 'park_borough', 'borough', 'street_name',\n",
    "       'longitude', 'status','y_coordinate_state_plane', 'resolution_action_updated_date',\n",
    "       'intersection_street_2', 'address_type', 'facility_type']"
   ]
  },
  {
   "cell_type": "code",
   "execution_count": null,
   "id": "df314099",
   "metadata": {},
   "outputs": [],
   "source": [
    "n.drop(columns=drop_cols, inplace=True)"
   ]
  },
  {
   "cell_type": "code",
   "execution_count": null,
   "id": "7ad4a07f",
   "metadata": {},
   "outputs": [],
   "source": [
    "# Why does 2020 have double the amount of complaints than any other years?! \n",
    "# Because of the huge amount of protests in the summer of 2020\n",
    "n.info()"
   ]
  },
  {
   "cell_type": "code",
   "execution_count": null,
   "id": "5fbe0abb",
   "metadata": {},
   "outputs": [],
   "source": [
    "# Drop rows with NaNs in Zip\n",
    "n = n[n['incident_zip'].notna()]"
   ]
  },
  {
   "cell_type": "code",
   "execution_count": null,
   "id": "8a529602",
   "metadata": {},
   "outputs": [],
   "source": [
    "n['year'] = '2020'"
   ]
  },
  {
   "cell_type": "code",
   "execution_count": null,
   "id": "038d04dc",
   "metadata": {},
   "outputs": [],
   "source": [
    "n['zipyear'] = n['incident_zip'].astype(str) + n['year'].astype(str)"
   ]
  },
  {
   "cell_type": "code",
   "execution_count": null,
   "id": "b394b45f",
   "metadata": {},
   "outputs": [],
   "source": [
    "n.head()"
   ]
  },
  {
   "cell_type": "code",
   "execution_count": null,
   "id": "f7893aeb",
   "metadata": {},
   "outputs": [],
   "source": [
    "n.drop_duplicates(inplace=True)"
   ]
  },
  {
   "cell_type": "code",
   "execution_count": null,
   "id": "a6c692f6",
   "metadata": {},
   "outputs": [],
   "source": [
    "n.drop(columns=['incident_zip', 'unique_key'], inplace=True)"
   ]
  },
  {
   "cell_type": "code",
   "execution_count": null,
   "id": "6f2f0f72",
   "metadata": {},
   "outputs": [],
   "source": [
    "n.to_csv('/Users/ksalmon/Desktop/GA/DSI20-lessons/projects/project-capstone/noise2020_cleaned.csv')"
   ]
  },
  {
   "cell_type": "markdown",
   "id": "899cad39",
   "metadata": {},
   "source": [
    "Merging Noise and Sales"
   ]
  },
  {
   "cell_type": "code",
   "execution_count": null,
   "id": "10e5dcd7",
   "metadata": {},
   "outputs": [],
   "source": [
    "merge2020 = pd.merge(n, data, how='left')"
   ]
  },
  {
   "cell_type": "code",
   "execution_count": null,
   "id": "bbe73ffb",
   "metadata": {},
   "outputs": [],
   "source": [
    "\n",
    "merge2020"
   ]
  },
  {
   "cell_type": "code",
   "execution_count": null,
   "id": "44287245",
   "metadata": {},
   "outputs": [],
   "source": [
    "merge2020.to_csv('/Users/ksalmon/Desktop/GA/DSI20-lessons/projects/project-capstone/merge2020.csv')"
   ]
  },
  {
   "cell_type": "code",
   "execution_count": null,
   "id": "44206fa1",
   "metadata": {},
   "outputs": [],
   "source": []
  }
 ],
 "metadata": {
  "kernelspec": {
   "display_name": "Python 3",
   "language": "python",
   "name": "python3"
  },
  "language_info": {
   "codemirror_mode": {
    "name": "ipython",
    "version": 3
   },
   "file_extension": ".py",
   "mimetype": "text/x-python",
   "name": "python",
   "nbconvert_exporter": "python",
   "pygments_lexer": "ipython3",
   "version": "3.8.8"
  }
 },
 "nbformat": 4,
 "nbformat_minor": 5
}
